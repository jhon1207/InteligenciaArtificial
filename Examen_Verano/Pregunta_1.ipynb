{
  "nbformat": 4,
  "nbformat_minor": 0,
  "metadata": {
    "colab": {
      "provenance": []
    },
    "kernelspec": {
      "name": "python3",
      "display_name": "Python 3"
    },
    "language_info": {
      "name": "python"
    }
  },
  "cells": [
    {
      "cell_type": "markdown",
      "source": [
        "**Objetivo de la aplicacion utilizando algoritmos geneticos**\n",
        "\n",
        "Diseño y optimizacion de botones en una interfaz grafica\n",
        "\n",
        "**Componentes a Utilizar**\n",
        "\n",
        "1. Definicion del problema\n",
        "\n",
        "  Se establecera los numeros de botones que queremos colocar en la interfaz para el ejemplo asignaremos 5 botones\n",
        "2. Parametros para el algoritmo\n",
        "\n",
        "  Determinamos los parametros del algoritmo genetico que serian:\n",
        "  Número de cromosomas en cada generación\n",
        "  Número de generaciones que el algoritmo evolucionara\n",
        "  Probabilidad de que dos cromosomas se crucen durante la reproduccion\n",
        "3. Creacion de la funcion de inicializacion de la poblacion\n",
        "\n",
        "  Se iniciara la poblacion de cromosomas donde cada cromosoma representa una disposición de botones en la interfaz para esto se crea:\n",
        "  * Una lista vacía llamada Poblacion para almacenar los cromosomas\n",
        "  * Para la generacion de cromosomas se utilizara un bucle para generar cromosomas donde cada cromosoma es una lista con dos valores aleatorios en este caso entre 0 y 400 que representaran las coordenadas (x, y) de un boton en la interfaz\n",
        "  * Con una funcion vamos a retornar la poblacion que nos devolvera la poblacion inicial generada\n",
        "4. Creacion de la Funcion Fitness\n",
        "\n",
        "  La funcion de fitness va a evaluar la calidad de un cromosoma sumando las coordenadas y de los botones con esto se busca maximizar esta suma donde:\n",
        "  * Suma de Coordenadas Y: Con esto se evaluara el fitness de un cromosoma sumando todas las coordenadas y de los botones en el cromosoma.\n",
        "  * Retorno del Fitness: Esta funcion nos devolvera el resultado de la suma que representa la calidad del cromosoma en terminos de su posición vertical en la interfaz.\n",
        "5. Creacion de la Función de Seleccion de Padres\n",
        "\n",
        "  La seleccion de padres se realizara mediante el metodo de la ruleta donde los cromosomas con un fitness mas alto tienen mas probabilidades de ser seleccionados donde:\n",
        "  * La Ruleta de Seleccion de padres se realiza utilizando el metodo de la ruleta que consiste en cuanto mayor sea el fitness de un cromosoma mayor sera su probabilidad de ser seleccionado.\n",
        "  * Se realizara la generacion de numeros aleatorios donde se generan numeros aleatorios R y se seleccionan los padres basandose en su acumulado de fitness.\n",
        "  * Finalmente se retorna de Padres esta funcion devuelve los cromosomas seleccionados como padres.\n",
        "6. Creacion de la Funcion de Cruce\n",
        "\n",
        "  El cruzamiento (crossover) combina partes de dos cromosomas padres para formar dos cromosomas hijos este punto de cruce se elige de forma  aleatoria.\n",
        "  * Punto de Cruce Aleatorio: Se eligira un punto de cruce aleatorio entre 0 y la longitud del cromosoma menos 1\n",
        "  * Cruzamiento: Se realiza el cruzamiento intercambiando las partes de los cromosomas padres para crear dos hijos (Hijo1 y Hijo2).\n",
        "  * Retorno de Hijos: La funcion nos devolvera los dos hijos generados mediante el cruzamiento.\n",
        "7. Creacion de la Funcion de Mutuacion\n",
        "\n",
        "  La mutacion altera aleatoriamente un gen (una coordenada x o y) en un cromosoma para esto se realiza\n",
        "  * Seleccion de gen para mutacion: Se elige un gen aleatorio para mutar en el cromosoma.\n",
        "  * Mutacion del gen: Se crea una copia del cromosoma y se modifica el valor del gen seleccionado con un nuevo valor aleatorio entre 0 y 400.\n",
        "  * Retorno del cromosoma mutado: La funcion devuelve el cromosoma resultante después de la mutacion.\n",
        "8. Creacion de la funcion algoritmo genetico\n",
        "\n",
        "  Para esto se realiza lo siguiente:\n",
        "  * Inicializacion de la población: Se inicializa la poblacion de cromosomas.\n",
        "  * Evolucion por generaciones: Se itera a lo largo de varias generaciones del algoritmo.\n",
        "  * Evaluacion del Fitness: Se evalua el fitness de cada cromosoma en la población.\n",
        "  * Seleccion de padres: Se seleccionan padres basados en su fitness utilizando el método de la ruleta.\n",
        "  * Cruce y mutacion: Se aplican operadores geneticos de cruzamiento y mutacion para generar una nueva poblacion.\n",
        "  *Mejor solucion: Se identifica la mejor solucion en la población basandose en el fitness.\n",
        "  * Retorno de la mejor solucion: La función devuelve la mejor disposición de botones encontrados.\n",
        "9. Creacion de la Interfaz Grafica\n",
        "\n",
        "  Se utilizara la biblioteca tkinter para crear una ventana grafica con botones dispuestos segun la mejor disposición encontrada por el algoritmo genetico.\n",
        "  * Creacion de la Ventana: Se crea una ventana grafica para la interfaz.\n",
        "  * Colocacion de Botones: Se utilizara la mejor disposición de botones (MejorDisposicion) para crear y posicionar los botones en la interfaz.\n",
        "  * Mostrar la Ventana: La ventana con la interfaz grafica se muestra al usuario.\n",
        "10. Ejecucion del algoritmo genetico\n",
        "\n",
        "   Se ejecutara el algoritmo genetico para obtener la mejor disposición de los botones.\n",
        "11. Mostrar los resultados\n",
        "\n",
        "  Se imprime la mejor disposicion encontrada y se muestra la interfaz grafica correspondiente con la disposicion de botones.\n",
        "  * Impresion de resultados: Se imprime en consola la mejor disposicion encontrada.\n",
        "  * Creacion de interfaz grafica: Se utiliza la mejor disposición para crear y mostrar la interfaz grafica con los botones."
      ],
      "metadata": {
        "id": "Q5D76vy5prs0"
      }
    }
  ]
}