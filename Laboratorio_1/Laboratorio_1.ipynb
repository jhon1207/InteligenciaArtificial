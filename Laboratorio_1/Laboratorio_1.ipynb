{
  "nbformat": 4,
  "nbformat_minor": 0,
  "metadata": {
    "colab": {
      "provenance": []
    },
    "kernelspec": {
      "name": "python3",
      "display_name": "Python 3"
    },
    "language_info": {
      "name": "python"
    }
  },
  "cells": [
    {
      "cell_type": "code",
      "execution_count": 1,
      "metadata": {
        "id": "ELj72RSniRzQ"
      },
      "outputs": [],
      "source": [
        "# utilizado para manejos de directorios y rutas\n",
        "import os\n",
        "\n",
        "# Computacion vectorial y cientifica para python\n",
        "import numpy as np\n",
        "import pandas as pd\n",
        "from sklearn.preprocessing import LabelEncoder\n",
        "# Librerias para graficación (trazado de gráficos)\n",
        "from matplotlib import pyplot\n",
        "from mpl_toolkits.mplot3d import Axes3D  # Necesario para graficar superficies 3D\n",
        "\n",
        "# llama a matplotlib a embeber graficas dentro de los cuadernillos\n",
        "%matplotlib inline"
      ]
    },
    {
      "cell_type": "code",
      "source": [
        "from google.colab import drive\n",
        "drive.mount(\"/content/gdrive\")"
      ],
      "metadata": {
        "colab": {
          "base_uri": "https://localhost:8080/"
        },
        "id": "_Yx6dK5Fi1in",
        "outputId": "5338a3d2-ab54-456f-a167-2ee4cc6fadbd"
      },
      "execution_count": 2,
      "outputs": [
        {
          "output_type": "stream",
          "name": "stdout",
          "text": [
            "Mounted at /content/gdrive\n"
          ]
        }
      ]
    },
    {
      "cell_type": "markdown",
      "source": [
        "Lectura del data set utilizando la libreria pandas"
      ],
      "metadata": {
        "id": "Aju5HsrVlJtQ"
      }
    },
    {
      "cell_type": "code",
      "source": [
        "# Cargar datos\n",
        "# data = np.loadtxt(os.path.join('Datasets', 'ex1data2.txt'), delimiter=',')\n",
        "data = pd.read_csv('/content/gdrive/MyDrive/Colab Notebooks/Datasets/House_Price_dataset.csv')\n"
      ],
      "metadata": {
        "id": "jOQMT7-VjC5T"
      },
      "execution_count": 3,
      "outputs": []
    },
    {
      "cell_type": "code",
      "source": [
        "print(data)"
      ],
      "metadata": {
        "colab": {
          "base_uri": "https://localhost:8080/"
        },
        "id": "WrCtAJ0Cz4GW",
        "outputId": "ba6a998f-baa1-4b6e-97c3-b2e42a757457"
      },
      "execution_count": 4,
      "outputs": [
        {
          "output_type": "stream",
          "name": "stdout",
          "text": [
            "        property_id  location_id  \\\n",
            "0            237062         3325   \n",
            "1            346905         3236   \n",
            "2            386513          764   \n",
            "3            656161          340   \n",
            "4            841645         3226   \n",
            "...             ...          ...   \n",
            "168441     17355248         6754   \n",
            "168442     17355249          680   \n",
            "168443     17355250         6757   \n",
            "168444     17355251         6752   \n",
            "168445     17355287        10045   \n",
            "\n",
            "                                                 page_url property_type  \\\n",
            "0       https://www.zameen.com/Property/g_10_g_10_2_gr...          Flat   \n",
            "1       https://www.zameen.com/Property/e_11_2_service...          Flat   \n",
            "2       https://www.zameen.com/Property/islamabad_g_15...         House   \n",
            "3       https://www.zameen.com/Property/islamabad_bani...         House   \n",
            "4       https://www.zameen.com/Property/dha_valley_dha...         House   \n",
            "...                                                   ...           ...   \n",
            "168441  https://www.zameen.com/Property/gulshan_e_maym...         House   \n",
            "168442  https://www.zameen.com/Property/gadap_town_gul...         House   \n",
            "168443  https://www.zameen.com/Property/gulshan_e_maym...         House   \n",
            "168444  https://www.zameen.com/Property/gulshan_e_maym...         House   \n",
            "168445  https://www.zameen.com/Property/bahria_town_ka...         House   \n",
            "\n",
            "           price             location       city      province_name  \\\n",
            "0       10000000                 G-10  Islamabad  Islamabad Capital   \n",
            "1        6900000                 E-11  Islamabad  Islamabad Capital   \n",
            "2       16500000                 G-15  Islamabad  Islamabad Capital   \n",
            "3       43500000            Bani Gala  Islamabad  Islamabad Capital   \n",
            "4        7000000          DHA Defence  Islamabad  Islamabad Capital   \n",
            "...          ...                  ...        ...                ...   \n",
            "168441  26500000           Gadap Town    Karachi              Sindh   \n",
            "168442  12500000           Gadap Town    Karachi              Sindh   \n",
            "168443  27000000           Gadap Town    Karachi              Sindh   \n",
            "168444  11000000           Gadap Town    Karachi              Sindh   \n",
            "168445   9000000  Bahria Town Karachi    Karachi              Sindh   \n",
            "\n",
            "         latitude  longitude  baths       area   purpose  bedrooms  \\\n",
            "0       33.679890  73.012640      2    4 Marla  For Sale         2   \n",
            "1       33.700993  72.971492      3  5.6 Marla  For Sale         3   \n",
            "2       33.631486  72.926559      6    8 Marla  For Sale         5   \n",
            "3       33.707573  73.151199      4    2 Kanal  For Sale         4   \n",
            "4       33.492591  73.301339      3    8 Marla  For Sale         3   \n",
            "...           ...        ...    ...        ...       ...       ...   \n",
            "168441  25.029909  67.137192      0  9.6 Marla  For Sale         6   \n",
            "168442  25.017951  67.136393      0    8 Marla  For Sale         3   \n",
            "168443  25.015384  67.116330      0  9.6 Marla  For Sale         6   \n",
            "168444  25.013265  67.120818      0  7.8 Marla  For Sale         3   \n",
            "168445  25.113565  67.353811      3  9.4 Marla  For Sale         3   \n",
            "\n",
            "        date_added                      agency  \\\n",
            "0       02-04-2019                         NaN   \n",
            "1       05-04-2019                         NaN   \n",
            "2       07-17-2019                         NaN   \n",
            "3       04-05-2019                         NaN   \n",
            "4       07-10-2019               Easy Property   \n",
            "...            ...                         ...   \n",
            "168441  07-18-2019       Al Shahab Enterprises   \n",
            "168442  07-18-2019       Al Shahab Enterprises   \n",
            "168443  07-18-2019       Al Shahab Enterprises   \n",
            "168444  07-18-2019       Al Shahab Enterprises   \n",
            "168445  07-18-2019  ZPN Real Estate & Builders   \n",
            "\n",
            "                                               agent Area Type  Area Size  \\\n",
            "0                                                NaN     Marla        4.0   \n",
            "1                                                NaN     Marla        5.6   \n",
            "2                                                NaN     Marla        8.0   \n",
            "3                                                NaN     Kanal        2.0   \n",
            "4       Muhammad Junaid Ceo Muhammad Shahid Director     Marla        8.0   \n",
            "...                                              ...       ...        ...   \n",
            "168441                                       Shahmir     Marla        9.6   \n",
            "168442                                       Shahmir     Marla        8.0   \n",
            "168443                                       Shahmir     Marla        9.6   \n",
            "168444                                       Shahmir     Marla        7.8   \n",
            "168445                                      Ali Raza     Marla        9.4   \n",
            "\n",
            "       Area Category  \n",
            "0          0-5 Marla  \n",
            "1         5-10 Marla  \n",
            "2         5-10 Marla  \n",
            "3          1-5 Kanal  \n",
            "4         5-10 Marla  \n",
            "...              ...  \n",
            "168441    5-10 Marla  \n",
            "168442    5-10 Marla  \n",
            "168443    5-10 Marla  \n",
            "168444    5-10 Marla  \n",
            "168445    5-10 Marla  \n",
            "\n",
            "[168446 rows x 20 columns]\n"
          ]
        }
      ]
    },
    {
      "cell_type": "code",
      "source": [
        "data.info()"
      ],
      "metadata": {
        "colab": {
          "base_uri": "https://localhost:8080/"
        },
        "id": "fSS_iMxv0EH4",
        "outputId": "440baad9-05ac-4e61-d1cb-f8679d160916"
      },
      "execution_count": 5,
      "outputs": [
        {
          "output_type": "stream",
          "name": "stdout",
          "text": [
            "<class 'pandas.core.frame.DataFrame'>\n",
            "RangeIndex: 168446 entries, 0 to 168445\n",
            "Data columns (total 20 columns):\n",
            " #   Column         Non-Null Count   Dtype  \n",
            "---  ------         --------------   -----  \n",
            " 0   property_id    168446 non-null  int64  \n",
            " 1   location_id    168446 non-null  int64  \n",
            " 2   page_url       168446 non-null  object \n",
            " 3   property_type  168446 non-null  object \n",
            " 4   price          168446 non-null  int64  \n",
            " 5   location       168446 non-null  object \n",
            " 6   city           168446 non-null  object \n",
            " 7   province_name  168446 non-null  object \n",
            " 8   latitude       168446 non-null  float64\n",
            " 9   longitude      168446 non-null  float64\n",
            " 10  baths          168446 non-null  int64  \n",
            " 11  area           168446 non-null  object \n",
            " 12  purpose        168446 non-null  object \n",
            " 13  bedrooms       168446 non-null  int64  \n",
            " 14  date_added     168446 non-null  object \n",
            " 15  agency         124375 non-null  object \n",
            " 16  agent          124374 non-null  object \n",
            " 17  Area Type      168446 non-null  object \n",
            " 18  Area Size      168446 non-null  float64\n",
            " 19  Area Category  168446 non-null  object \n",
            "dtypes: float64(3), int64(5), object(12)\n",
            "memory usage: 25.7+ MB\n"
          ]
        }
      ]
    },
    {
      "cell_type": "markdown",
      "source": [
        "Consultando la informacion del data set nos damos cuenta que varias de las caracteristicas se encuentran en objetos y que algunas le faltan datos para se eso se paso a la transformacion de objeto a numerico"
      ],
      "metadata": {
        "id": "qtchGCF1lvbK"
      }
    },
    {
      "cell_type": "code",
      "source": [
        "#variables categoricas\n",
        "columnas_categoricas = data.select_dtypes(include=['object']).columns"
      ],
      "metadata": {
        "id": "-c7vk8rv0DZV"
      },
      "execution_count": 6,
      "outputs": []
    },
    {
      "cell_type": "code",
      "source": [
        "#Procesamiento de frases o palabras\n",
        "for columna in columnas_categoricas:\n",
        "  le = LabelEncoder()\n",
        "  data[columna] = le.fit_transform(data[columna])"
      ],
      "metadata": {
        "id": "sWHhj_DE1BkB"
      },
      "execution_count": 7,
      "outputs": []
    },
    {
      "cell_type": "code",
      "source": [
        "data.info()"
      ],
      "metadata": {
        "colab": {
          "base_uri": "https://localhost:8080/"
        },
        "id": "qqCOe3yo1TWA",
        "outputId": "71ad0f3e-f6c4-452b-cfa1-2463acf2042d"
      },
      "execution_count": 8,
      "outputs": [
        {
          "output_type": "stream",
          "name": "stdout",
          "text": [
            "<class 'pandas.core.frame.DataFrame'>\n",
            "RangeIndex: 168446 entries, 0 to 168445\n",
            "Data columns (total 20 columns):\n",
            " #   Column         Non-Null Count   Dtype  \n",
            "---  ------         --------------   -----  \n",
            " 0   property_id    168446 non-null  int64  \n",
            " 1   location_id    168446 non-null  int64  \n",
            " 2   page_url       168446 non-null  int64  \n",
            " 3   property_type  168446 non-null  int64  \n",
            " 4   price          168446 non-null  int64  \n",
            " 5   location       168446 non-null  int64  \n",
            " 6   city           168446 non-null  int64  \n",
            " 7   province_name  168446 non-null  int64  \n",
            " 8   latitude       168446 non-null  float64\n",
            " 9   longitude      168446 non-null  float64\n",
            " 10  baths          168446 non-null  int64  \n",
            " 11  area           168446 non-null  int64  \n",
            " 12  purpose        168446 non-null  int64  \n",
            " 13  bedrooms       168446 non-null  int64  \n",
            " 14  date_added     168446 non-null  int64  \n",
            " 15  agency         168446 non-null  int64  \n",
            " 16  agent          168446 non-null  int64  \n",
            " 17  Area Type      168446 non-null  int64  \n",
            " 18  Area Size      168446 non-null  float64\n",
            " 19  Area Category  168446 non-null  int64  \n",
            "dtypes: float64(3), int64(17)\n",
            "memory usage: 25.7 MB\n"
          ]
        }
      ]
    },
    {
      "cell_type": "markdown",
      "source": [
        "Para la obtencion de la variable dependiente Y me di cuenta que no se encontraba e la ultima posicion si no que se encontraba en la ultima columna asi que me cree una variable para poder obtener la variable dependiente Y"
      ],
      "metadata": {
        "id": "wXKI1Hsrmvd8"
      }
    },
    {
      "cell_type": "code",
      "source": [
        "# En caso de identificar la \"y\" en otra posicion, no ultima\n",
        "columnas_seleccionadas = list(range(0, 4)) + list(range(5, 20))\n",
        "X = data.iloc[:, columnas_seleccionadas]\n",
        "y = data.iloc[:, 4]\n",
        "m = y.size"
      ],
      "metadata": {
        "id": "TCDwzeL41z4V"
      },
      "execution_count": 9,
      "outputs": []
    },
    {
      "cell_type": "code",
      "source": [
        "print(X)\n",
        "print('-'*26)\n",
        "print(y)"
      ],
      "metadata": {
        "colab": {
          "base_uri": "https://localhost:8080/"
        },
        "id": "dQlgqR6x2IcB",
        "outputId": "c606929c-b9ac-43f5-c030-22202831cc5f"
      },
      "execution_count": 10,
      "outputs": [
        {
          "output_type": "stream",
          "name": "stdout",
          "text": [
            "        property_id  location_id  page_url  property_type  location  city  \\\n",
            "0            237062         3325     66424              1       488     1   \n",
            "1            346905         3236     52551              1       415     1   \n",
            "2            386513          764     99193              2       493     1   \n",
            "3            656161          340     87126              2       211     1   \n",
            "4            841645         3226     52139              2       351     1   \n",
            "...             ...          ...       ...            ...       ...   ...   \n",
            "168441     17355248         6754     82448              2       505     2   \n",
            "168442     17355249          680     70833              2       505     2   \n",
            "168443     17355250         6757     82586              2       505     2   \n",
            "168444     17355251         6752     82357              2       505     2   \n",
            "168445     17355287        10045     10924              2       201     2   \n",
            "\n",
            "        province_name   latitude  longitude  baths  area  purpose  bedrooms  \\\n",
            "0                   0  33.679890  73.012640      2   219        1         2   \n",
            "1                   0  33.700993  72.971492      3   257        1         3   \n",
            "2                   0  33.631486  72.926559      6   309        1         5   \n",
            "3                   0  33.707573  73.151199      4   153        1         4   \n",
            "4                   0  33.492591  73.301339      3   309        1         3   \n",
            "...               ...        ...        ...    ...   ...      ...       ...   \n",
            "168441              2  25.029909  67.137192      0   338        1         6   \n",
            "168442              2  25.017951  67.136393      0   309        1         3   \n",
            "168443              2  25.015384  67.116330      0   338        1         6   \n",
            "168444              2  25.013265  67.120818      0   305        1         3   \n",
            "168445              2  25.113565  67.353811      3   334        1         3   \n",
            "\n",
            "        date_added  agency  agent  Area Type  Area Size  Area Category  \n",
            "0               11    5761  10598          1        4.0              0  \n",
            "1               36    5761  10598          1        5.6             13  \n",
            "2               82    5761  10598          1        8.0             13  \n",
            "3               28    5761  10598          0        2.0              1  \n",
            "4               75    1892   6262          1        8.0             13  \n",
            "...            ...     ...    ...        ...        ...            ...  \n",
            "168441          83     814   8611          1        9.6             13  \n",
            "168442          83     814   8611          1        8.0             13  \n",
            "168443          83     814   8611          1        9.6             13  \n",
            "168444          83     814   8611          1        7.8             13  \n",
            "168445          83    5656    865          1        9.4             13  \n",
            "\n",
            "[168446 rows x 19 columns]\n",
            "--------------------------\n",
            "0         10000000\n",
            "1          6900000\n",
            "2         16500000\n",
            "3         43500000\n",
            "4          7000000\n",
            "            ...   \n",
            "168441    26500000\n",
            "168442    12500000\n",
            "168443    27000000\n",
            "168444    11000000\n",
            "168445     9000000\n",
            "Name: price, Length: 168446, dtype: int64\n"
          ]
        }
      ]
    },
    {
      "cell_type": "code",
      "source": [
        "def  featureNormalize(X):\n",
        "    X_norm = X.copy()\n",
        "    mu = np.zeros(X.shape[1])\n",
        "    sigma = np.zeros(X.shape[1])\n",
        "\n",
        "    mu = np.mean(X, axis = 0)\n",
        "    sigma = np.std(X, axis = 0)\n",
        "    X_norm = (X - mu) / sigma\n",
        "\n",
        "    return X_norm, mu, sigma"
      ],
      "metadata": {
        "id": "REtHYlWujTUW"
      },
      "execution_count": 11,
      "outputs": []
    },
    {
      "cell_type": "code",
      "source": [
        "# llama featureNormalize con los datos cargados\n",
        "X_norm, mu, sigma = featureNormalize(X)\n",
        "\n",
        "print(X)\n",
        "print('Media calculada:', mu)\n",
        "print('Desviación estandar calculada:', sigma)\n",
        "print(X_norm)"
      ],
      "metadata": {
        "colab": {
          "base_uri": "https://localhost:8080/"
        },
        "id": "qmIKdatzjUvP",
        "outputId": "3f51daee-f2e1-41b5-cae8-8d332afac741"
      },
      "execution_count": 12,
      "outputs": [
        {
          "output_type": "stream",
          "name": "stdout",
          "text": [
            "        property_id  location_id  page_url  property_type  location  city  \\\n",
            "0            237062         3325     66424              1       488     1   \n",
            "1            346905         3236     52551              1       415     1   \n",
            "2            386513          764     99193              2       493     1   \n",
            "3            656161          340     87126              2       211     1   \n",
            "4            841645         3226     52139              2       351     1   \n",
            "...             ...          ...       ...            ...       ...   ...   \n",
            "168441     17355248         6754     82448              2       505     2   \n",
            "168442     17355249          680     70833              2       505     2   \n",
            "168443     17355250         6757     82586              2       505     2   \n",
            "168444     17355251         6752     82357              2       505     2   \n",
            "168445     17355287        10045     10924              2       201     2   \n",
            "\n",
            "        province_name   latitude  longitude  baths  area  purpose  bedrooms  \\\n",
            "0                   0  33.679890  73.012640      2   219        1         2   \n",
            "1                   0  33.700993  72.971492      3   257        1         3   \n",
            "2                   0  33.631486  72.926559      6   309        1         5   \n",
            "3                   0  33.707573  73.151199      4   153        1         4   \n",
            "4                   0  33.492591  73.301339      3   309        1         3   \n",
            "...               ...        ...        ...    ...   ...      ...       ...   \n",
            "168441              2  25.029909  67.137192      0   338        1         6   \n",
            "168442              2  25.017951  67.136393      0   309        1         3   \n",
            "168443              2  25.015384  67.116330      0   338        1         6   \n",
            "168444              2  25.013265  67.120818      0   305        1         3   \n",
            "168445              2  25.113565  67.353811      3   334        1         3   \n",
            "\n",
            "        date_added  agency  agent  Area Type  Area Size  Area Category  \n",
            "0               11    5761  10598          1        4.0              0  \n",
            "1               36    5761  10598          1        5.6             13  \n",
            "2               82    5761  10598          1        8.0             13  \n",
            "3               28    5761  10598          0        2.0              1  \n",
            "4               75    1892   6262          1        8.0             13  \n",
            "...            ...     ...    ...        ...        ...            ...  \n",
            "168441          83     814   8611          1        9.6             13  \n",
            "168442          83     814   8611          1        8.0             13  \n",
            "168443          83     814   8611          1        9.6             13  \n",
            "168444          83     814   8611          1        7.8             13  \n",
            "168445          83    5656    865          1        9.4             13  \n",
            "\n",
            "[168446 rows x 19 columns]\n",
            "Media calculada: property_id      1.559626e+07\n",
            "location_id      4.375936e+03\n",
            "page_url         8.422250e+04\n",
            "property_type    2.163958e+00\n",
            "location         5.758998e+02\n",
            "city             2.176240e+00\n",
            "province_name    1.136887e+00\n",
            "latitude         2.985952e+01\n",
            "longitude        7.123980e+01\n",
            "baths            2.874227e+00\n",
            "area             1.670315e+02\n",
            "purpose          7.162830e-01\n",
            "bedrooms         3.179422e+00\n",
            "date_added       6.144832e+01\n",
            "agency           3.632612e+03\n",
            "agent            6.680677e+03\n",
            "Area Type        8.178823e-01\n",
            "Area Size        5.892188e+00\n",
            "Area Category    4.912565e+00\n",
            "dtype: float64\n",
            "Desviación estandar calculada: property_id      2.251200e+06\n",
            "location_id      3.776550e+03\n",
            "page_url         4.862617e+04\n",
            "property_type    1.274688e+00\n",
            "location         3.726485e+02\n",
            "city             1.062213e+00\n",
            "province_name    7.500111e-01\n",
            "latitude         3.807858e+00\n",
            "longitude        3.133032e+00\n",
            "baths            2.463393e+00\n",
            "area             1.086400e+02\n",
            "purpose          4.508012e-01\n",
            "bedrooms         1.971395e+00\n",
            "date_added       2.394463e+01\n",
            "agency           1.908809e+03\n",
            "agent            3.536568e+03\n",
            "Area Type        3.859415e-01\n",
            "Area Size        5.778310e+00\n",
            "Area Category    5.853717e+00\n",
            "dtype: float64\n",
            "        property_id  location_id  page_url  property_type  location      city  \\\n",
            "0         -6.822669    -0.278279 -0.366027      -0.913132 -0.235879 -1.107349   \n",
            "1         -6.773876    -0.301846 -0.651326      -0.913132 -0.431774 -1.107349   \n",
            "2         -6.756282    -0.956412  0.307869      -0.128626 -0.222461 -1.107349   \n",
            "3         -6.636502    -1.068683  0.059711      -0.128626 -0.979206 -1.107349   \n",
            "4         -6.554109    -0.304494 -0.659799      -0.128626 -0.603517 -1.107349   \n",
            "...             ...          ...       ...            ...       ...       ...   \n",
            "168441     0.781358     0.629692 -0.036493      -0.128626 -0.190259 -0.165918   \n",
            "168442     0.781358    -0.978654 -0.275356      -0.128626 -0.190259 -0.165918   \n",
            "168443     0.781359     0.630486 -0.033655      -0.128626 -0.190259 -0.165918   \n",
            "168444     0.781359     0.629162 -0.038364      -0.128626 -0.190259 -0.165918   \n",
            "168445     0.781375     1.501122 -1.507388      -0.128626 -1.006041 -0.165918   \n",
            "\n",
            "        province_name  latitude  longitude     baths      area   purpose  \\\n",
            "0           -1.515826  1.003286   0.565853 -0.354887  0.478355  0.629362   \n",
            "1           -1.515826  1.008828   0.552720  0.051057  0.828134  0.629362   \n",
            "2           -1.515826  0.990574   0.538378  1.268890  1.306779  0.629362   \n",
            "3           -1.515826  1.010556   0.610079  0.457001 -0.129156  0.629362   \n",
            "4           -1.515826  0.954099   0.658000  0.051057  1.306779  0.629362   \n",
            "...               ...       ...        ...       ...       ...       ...   \n",
            "168441       1.150801 -1.268327  -1.309470 -1.166776  1.573715  0.629362   \n",
            "168442       1.150801 -1.271467  -1.309725 -1.166776  1.306779  0.629362   \n",
            "168443       1.150801 -1.272142  -1.316129 -1.166776  1.573715  0.629362   \n",
            "168444       1.150801 -1.272698  -1.314696 -1.166776  1.269960  0.629362   \n",
            "168445       1.150801 -1.246358  -1.240330  0.051057  1.536896  0.629362   \n",
            "\n",
            "        bedrooms  date_added    agency     agent  Area Type  Area Size  \\\n",
            "0      -0.598268   -2.106874  1.115034  1.107662   0.471879  -0.327464   \n",
            "1      -0.091013   -1.062798  1.115034  1.107662   0.471879  -0.050566   \n",
            "2       0.923497    0.858300  1.115034  1.107662   0.471879   0.364780   \n",
            "3       0.416242   -1.396903  1.115034  1.107662  -2.119187  -0.673586   \n",
            "4      -0.091013    0.565959 -0.911884 -0.118385   0.471879   0.364780   \n",
            "...          ...         ...       ...       ...        ...        ...   \n",
            "168441  1.430752    0.900063 -1.476634  0.545818   0.471879   0.641678   \n",
            "168442 -0.091013    0.900063 -1.476634  0.545818   0.471879   0.364780   \n",
            "168443  1.430752    0.900063 -1.476634  0.545818   0.471879   0.641678   \n",
            "168444 -0.091013    0.900063 -1.476634  0.545818   0.471879   0.330168   \n",
            "168445 -0.091013    0.900063  1.060026 -1.644441   0.471879   0.607065   \n",
            "\n",
            "        Area Category  \n",
            "0           -0.839222  \n",
            "1            1.381590  \n",
            "2            1.381590  \n",
            "3           -0.668390  \n",
            "4            1.381590  \n",
            "...               ...  \n",
            "168441       1.381590  \n",
            "168442       1.381590  \n",
            "168443       1.381590  \n",
            "168444       1.381590  \n",
            "168445       1.381590  \n",
            "\n",
            "[168446 rows x 19 columns]\n"
          ]
        }
      ]
    },
    {
      "cell_type": "code",
      "source": [
        "# Añade el termino de interseccion a X\n",
        "# (Columna de unos para X0)\n",
        "X = np.concatenate([np.ones((m, 1)), X_norm], axis=1)"
      ],
      "metadata": {
        "id": "UcKYRuClja6l"
      },
      "execution_count": 13,
      "outputs": []
    },
    {
      "cell_type": "code",
      "source": [
        "print(X)"
      ],
      "metadata": {
        "colab": {
          "base_uri": "https://localhost:8080/"
        },
        "id": "oYw0myPd27ho",
        "outputId": "0fb37c63-8b44-436a-fe8e-ae110c9cf3ab"
      },
      "execution_count": 14,
      "outputs": [
        {
          "output_type": "stream",
          "name": "stdout",
          "text": [
            "[[ 1.         -6.8226689  -0.27827946 ...  0.47187904 -0.3274639\n",
            "  -0.83922161]\n",
            " [ 1.         -6.77387582 -0.30184594 ...  0.47187904 -0.05056634\n",
            "   1.3815897 ]\n",
            " [ 1.         -6.75628165 -0.95641155 ...  0.47187904  0.36478\n",
            "   1.3815897 ]\n",
            " ...\n",
            " [ 1.          0.78135855  0.63048639 ...  0.47187904  0.64167756\n",
            "   1.3815897 ]\n",
            " [ 1.          0.78135899  0.62916243 ...  0.47187904  0.3301678\n",
            "   1.3815897 ]\n",
            " [ 1.          0.78137499  1.5011222  ...  0.47187904  0.60706536\n",
            "   1.3815897 ]]\n"
          ]
        }
      ]
    },
    {
      "cell_type": "code",
      "source": [
        "def computeCostMulti(X, y, theta):\n",
        "    # Inicializa algunos valores utiles\n",
        "    m = y.shape[0] # numero de ejemplos de entrenamiento\n",
        "\n",
        "    J = 0\n",
        "\n",
        "    h = np.dot(X, theta)\n",
        "\n",
        "    J = (1/(2 * m)) * np.sum(np.square(np.dot(X, theta) - y))\n",
        "\n",
        "    return J"
      ],
      "metadata": {
        "id": "rFp6xwrcjh8M"
      },
      "execution_count": 15,
      "outputs": []
    },
    {
      "cell_type": "code",
      "source": [
        "def gradientDescentMulti(X, y, theta, alpha, num_iters):\n",
        "\n",
        "    # Inicializa algunos valores\n",
        "    m = y.shape[0] # numero de ejemplos de entrenamiento\n",
        "\n",
        "    # realiza una copia de theta, el cual será acutalizada por el descenso por el gradiente\n",
        "    theta = theta.copy()\n",
        "\n",
        "    J_history = []\n",
        "\n",
        "    for i in range(num_iters):\n",
        "        theta = theta - (alpha / m) * (np.dot(X, theta) - y).dot(X)\n",
        "        J_history.append(computeCostMulti(X, y, theta))\n",
        "\n",
        "    return theta, J_history"
      ],
      "metadata": {
        "id": "t9eXf5P0jp-E"
      },
      "execution_count": 16,
      "outputs": []
    },
    {
      "cell_type": "markdown",
      "source": [
        "Primera Prediccion aqui se puede apreciar que la prediccion varia mucho con la prediccion correcta\n"
      ],
      "metadata": {
        "id": "vrjF3x8ang8d"
      }
    },
    {
      "cell_type": "code",
      "source": [
        "# Elegir algun valor para alpha (probar varias alternativas)\n",
        "alpha = 0.003 # alpha = 0.003\n",
        "num_iters = 4000\n",
        "\n",
        "# inicializa theta y ejecuta el descenso por el gradiente\n",
        "theta = np.zeros(20)\n",
        "theta, J_history = gradientDescentMulti(X, y, theta, alpha, num_iters)\n",
        "\n",
        "# Grafica la convergencia del costo\n",
        "pyplot.plot(np.arange(len(J_history)), J_history, lw=2)\n",
        "pyplot.xlabel('Numero de iteraciones')\n",
        "pyplot.ylabel('Costo J')\n",
        "\n",
        "# Muestra los resultados del descenso por el gradiente\n",
        "print('theta calculado por el descenso por el gradiente: {:s}'.format(str(theta)))\n",
        "\n",
        "# Estimar el precio para una casa\n",
        "X_array = [1, 841640, 3220, 52130, 2, 350, 1, 0, 33.492590, 73.301330, 3, 305, 1, 3,\n",
        "           70, 1890, 6260, 1, 8.1, 12]\n",
        "X_array[1:20] = (X_array[1:20] - mu) / sigma\n",
        "price = np.dot(X_array, theta)   # Se debe cambiar esto\n",
        "\n",
        "print('El precio predecido para una casa (usando el descenso por el gradiente): ${:.0f}'.format(price))"
      ],
      "metadata": {
        "colab": {
          "base_uri": "https://localhost:8080/",
          "height": 569
        },
        "id": "c1AjYt7MjvWu",
        "outputId": "108b0678-ec84-4ab7-f2e5-f0513f99ac48"
      },
      "execution_count": 17,
      "outputs": [
        {
          "output_type": "stream",
          "name": "stdout",
          "text": [
            "theta calculado por el descenso por el gradiente: [ 1.77656526e+07 -9.60819586e+05 -2.18841750e+06 -1.48686312e+06\n",
            " -1.34897971e+04  2.30150146e+05 -7.79029866e+05  1.05033361e+06\n",
            " -1.95962390e+05 -1.62893554e+06 -6.34928594e+05  2.01130861e+06\n",
            "  1.24840454e+07  4.31901657e+06 -1.08972873e+06 -2.25531363e+05\n",
            " -1.35705356e+06 -1.68176648e+07  4.97290484e+06  8.87506474e+05]\n",
            "El precio predecido para una casa (usando el descenso por el gradiente): $28590679\n"
          ]
        },
        {
          "output_type": "display_data",
          "data": {
            "text/plain": [
              "<Figure size 640x480 with 1 Axes>"
            ],
            "image/png": "[encoded data removed]"
          },
          "metadata": {}
        }
      ]
    },
    {
      "cell_type": "markdown",
      "source": [
        "Segunda Prediccion cambiando algunos datos de la prediccion 1 se pudo observar que las predicciones son muy similares"
      ],
      "metadata": {
        "id": "S8SxYQHzoEPf"
      }
    },
    {
      "cell_type": "code",
      "source": [
        "# Elegir algun valor para alpha (probar varias alternativas)\n",
        "alpha = 0.003 # alpha = 0.003\n",
        "num_iters = 4000\n",
        "\n",
        "# inicializa theta y ejecuta el descenso por el gradiente\n",
        "theta = np.zeros(20)\n",
        "theta, J_history = gradientDescentMulti(X, y, theta, alpha, num_iters)\n",
        "\n",
        "# Grafica la convergencia del costo\n",
        "pyplot.plot(np.arange(len(J_history)), J_history, lw=2)\n",
        "pyplot.xlabel('Numero de iteraciones')\n",
        "pyplot.ylabel('Costo J')\n",
        "\n",
        "# Muestra los resultados del descenso por el gradiente\n",
        "print('theta calculado por el descenso por el gradiente: {:s}'.format(str(theta)))\n",
        "\n",
        "# Estimar el precio para una casa\n",
        "X_array = [1, 840640, 3120, 52120, 2, 340, 1, 0, 33.492090, 73.301530, 3, 303, 1, 3,\n",
        "           70, 1880, 6250, 1, 7.1, 13]\n",
        "X_array[1:20] = (X_array[1:20] - mu) / sigma\n",
        "price = np.dot(X_array, theta)   # Se debe cambiar esto\n",
        "\n",
        "print('El precio predecido para una casa (usando el descenso por el gradiente): ${:.0f}'.format(price))"
      ],
      "metadata": {
        "colab": {
          "base_uri": "https://localhost:8080/",
          "height": 569
        },
        "outputId": "ffd3ba6d-9322-4400-bfcc-ae5389216d53",
        "id": "UNemmMkJvaYP"
      },
      "execution_count": 18,
      "outputs": [
        {
          "output_type": "stream",
          "name": "stdout",
          "text": [
            "theta calculado por el descenso por el gradiente: [ 1.77656526e+07 -9.60819586e+05 -2.18841750e+06 -1.48686312e+06\n",
            " -1.34897971e+04  2.30150146e+05 -7.79029866e+05  1.05033361e+06\n",
            " -1.95962390e+05 -1.62893554e+06 -6.34928594e+05  2.01130861e+06\n",
            "  1.24840454e+07  4.31901657e+06 -1.08972873e+06 -2.25531363e+05\n",
            " -1.35705356e+06 -1.68176648e+07  4.97290484e+06  8.87506474e+05]\n",
            "El precio predecido para una casa (usando el descenso por el gradiente): $27902095\n"
          ]
        },
        {
          "output_type": "display_data",
          "data": {
            "text/plain": [
              "<Figure size 640x480 with 1 Axes>"
            ],
            "image/png": "[encoded data removed]"
          },
          "metadata": {}
        }
      ]
    },
    {
      "cell_type": "markdown",
      "source": [
        "Tercera prediccion para esta prediccion me centre en la ultima fila dando como resultado que las predicciones son muy similares a la primera y segunda prediccion"
      ],
      "metadata": {
        "id": "4uoOGYa5oa00"
      }
    },
    {
      "cell_type": "code",
      "source": [
        "# Elegir algun valor para alpha (probar varias alternativas)\n",
        "alpha = 0.003 # alpha = 0.003\n",
        "num_iters = 4000\n",
        "\n",
        "# inicializa theta y ejecuta el descenso por el gradiente\n",
        "theta = np.zeros(20)\n",
        "theta, J_history = gradientDescentMulti(X, y, theta, alpha, num_iters)\n",
        "\n",
        "# Grafica la convergencia del costo\n",
        "pyplot.plot(np.arange(len(J_history)), J_history, lw=2)\n",
        "pyplot.xlabel('Numero de iteraciones')\n",
        "pyplot.ylabel('Costo J')\n",
        "\n",
        "# Muestra los resultados del descenso por el gradiente\n",
        "print('theta calculado por el descenso por el gradiente: {:s}'.format(str(theta)))\n",
        "\n",
        "# Estimar el precio para una casa\n",
        "X_array = [1, 17355285, 10040, 10920, 2, 200, 2, 2, 25.113560, 67.353810, 2, 330, 1, 4,\n",
        "           83, 5650, 860, 1, 9.3, 11]\n",
        "X_array[1:20] = (X_array[1:20] - mu) / sigma\n",
        "price = np.dot(X_array, theta)   # Se debe cambiar esto\n",
        "\n",
        "print('El precio predecido para una casa (usando el descenso por el gradiente): ${:.0f}'.format(price))"
      ],
      "metadata": {
        "colab": {
          "base_uri": "https://localhost:8080/",
          "height": 569
        },
        "outputId": "8a60783d-d241-4532-99ee-639170511a44",
        "id": "u0iYt4l31n16"
      },
      "execution_count": 19,
      "outputs": [
        {
          "output_type": "stream",
          "name": "stdout",
          "text": [
            "theta calculado por el descenso por el gradiente: [ 1.77656526e+07 -9.60819586e+05 -2.18841750e+06 -1.48686312e+06\n",
            " -1.34897971e+04  2.30150146e+05 -7.79029866e+05  1.05033361e+06\n",
            " -1.95962390e+05 -1.62893554e+06 -6.34928594e+05  2.01130861e+06\n",
            "  1.24840454e+07  4.31901657e+06 -1.08972873e+06 -2.25531363e+05\n",
            " -1.35705356e+06 -1.68176648e+07  4.97290484e+06  8.87506474e+05]\n",
            "El precio predecido para una casa (usando el descenso por el gradiente): $29177692\n"
          ]
        },
        {
          "output_type": "display_data",
          "data": {
            "text/plain": [
              "<Figure size 640x480 with 1 Axes>"
            ],
            "image/png": "[encoded data removed]"
          },
          "metadata": {}
        }
      ]
    },
    {
      "cell_type": "markdown",
      "source": [
        "Cuarta prediccion aqui cambie algunos valores de la tercera prediccion dando como resultado valores de pediccion muy similares a todas las anteriores"
      ],
      "metadata": {
        "id": "Am6E9RDGo89R"
      }
    },
    {
      "cell_type": "code",
      "source": [
        "# Elegir algun valor para alpha (probar varias alternativas)\n",
        "alpha = 0.003 # alpha = 0.003\n",
        "num_iters = 4000\n",
        "\n",
        "# inicializa theta y ejecuta el descenso por el gradiente\n",
        "theta = np.zeros(20)\n",
        "theta, J_history = gradientDescentMulti(X, y, theta, alpha, num_iters)\n",
        "\n",
        "# Grafica la convergencia del costo\n",
        "pyplot.plot(np.arange(len(J_history)), J_history, lw=2)\n",
        "pyplot.xlabel('Numero de iteraciones')\n",
        "pyplot.ylabel('Costo J')\n",
        "\n",
        "# Muestra los resultados del descenso por el gradiente\n",
        "print('theta calculado por el descenso por el gradiente: {:s}'.format(str(theta)))\n",
        "\n",
        "# Estimar el precio para una casa\n",
        "X_array = [1, 17355085, 10140, 10820, 2, 210, 2, 2, 25.114060, 67.353010, 2, 320, 1, 3,\n",
        "           80, 5050, 840, 1, 8.3, 14]\n",
        "X_array[1:20] = (X_array[1:20] - mu) / sigma\n",
        "price = np.dot(X_array, theta)   # Se debe cambiar esto\n",
        "\n",
        "print('El precio predecido para una casa (usando el descenso por el gradiente): ${:.0f}'.format(price))"
      ],
      "metadata": {
        "colab": {
          "base_uri": "https://localhost:8080/",
          "height": 569
        },
        "outputId": "1964b1e2-1d34-4c08-aeec-c32707787647",
        "id": "ily59URA2tzr"
      },
      "execution_count": 20,
      "outputs": [
        {
          "output_type": "stream",
          "name": "stdout",
          "text": [
            "theta calculado por el descenso por el gradiente: [ 1.77656526e+07 -9.60819586e+05 -2.18841750e+06 -1.48686312e+06\n",
            " -1.34897971e+04  2.30150146e+05 -7.79029866e+05  1.05033361e+06\n",
            " -1.95962390e+05 -1.62893554e+06 -6.34928594e+05  2.01130861e+06\n",
            "  1.24840454e+07  4.31901657e+06 -1.08972873e+06 -2.25531363e+05\n",
            " -1.35705356e+06 -1.68176648e+07  4.97290484e+06  8.87506474e+05]\n",
            "El precio predecido para una casa (usando el descenso por el gradiente): $26562800\n"
          ]
        },
        {
          "output_type": "display_data",
          "data": {
            "text/plain": [
              "<Figure size 640x480 with 1 Axes>"
            ],
            "image/png": "[encoded data removed]"
          },
          "metadata": {}
        }
      ]
    },
    {
      "cell_type": "markdown",
      "source": [
        "Ecuacion de la normal\n",
        "Para la ecuacion de la normal pude darme cuenta que no se podria aplicar ya que m es mayor a los 10000 y que en el data set cuenta con caracteristicas similares."
      ],
      "metadata": {
        "id": "rzwjP0FnpWtE"
      }
    },
    {
      "cell_type": "code",
      "source": [
        "# Cargar datos\n",
        "# data = np.loadtxt(os.path.join('Datasets', 'ex1data2.txt'), delimiter=',')\n",
        "data = pd.read_csv('/content/gdrive/MyDrive/Colab Notebooks/Datasets/House_Price_dataset.csv')\n"
      ],
      "metadata": {
        "id": "D-WbU0Ef8cIx"
      },
      "execution_count": 21,
      "outputs": []
    },
    {
      "cell_type": "code",
      "source": [
        "#variables categoricas\n",
        "columnas_categoricas = data.select_dtypes(include=['object']).columns"
      ],
      "metadata": {
        "id": "JqcLSw328sMQ"
      },
      "execution_count": 22,
      "outputs": []
    },
    {
      "cell_type": "code",
      "source": [
        "#Procesamiento de frases o palabras\n",
        "for columna in columnas_categoricas:\n",
        "  le = LabelEncoder()\n",
        "  data[columna] = le.fit_transform(data[columna])"
      ],
      "metadata": {
        "id": "r8s5hrDY85xI"
      },
      "execution_count": 23,
      "outputs": []
    },
    {
      "cell_type": "code",
      "source": [
        "data.info()"
      ],
      "metadata": {
        "colab": {
          "base_uri": "https://localhost:8080/"
        },
        "id": "oQYwv0XK9lfz",
        "outputId": "76418c80-3404-4e64-9040-7ffa1320c7c4"
      },
      "execution_count": 24,
      "outputs": [
        {
          "output_type": "stream",
          "name": "stdout",
          "text": [
            "<class 'pandas.core.frame.DataFrame'>\n",
            "RangeIndex: 168446 entries, 0 to 168445\n",
            "Data columns (total 20 columns):\n",
            " #   Column         Non-Null Count   Dtype  \n",
            "---  ------         --------------   -----  \n",
            " 0   property_id    168446 non-null  int64  \n",
            " 1   location_id    168446 non-null  int64  \n",
            " 2   page_url       168446 non-null  int64  \n",
            " 3   property_type  168446 non-null  int64  \n",
            " 4   price          168446 non-null  int64  \n",
            " 5   location       168446 non-null  int64  \n",
            " 6   city           168446 non-null  int64  \n",
            " 7   province_name  168446 non-null  int64  \n",
            " 8   latitude       168446 non-null  float64\n",
            " 9   longitude      168446 non-null  float64\n",
            " 10  baths          168446 non-null  int64  \n",
            " 11  area           168446 non-null  int64  \n",
            " 12  purpose        168446 non-null  int64  \n",
            " 13  bedrooms       168446 non-null  int64  \n",
            " 14  date_added     168446 non-null  int64  \n",
            " 15  agency         168446 non-null  int64  \n",
            " 16  agent          168446 non-null  int64  \n",
            " 17  Area Type      168446 non-null  int64  \n",
            " 18  Area Size      168446 non-null  float64\n",
            " 19  Area Category  168446 non-null  int64  \n",
            "dtypes: float64(3), int64(17)\n",
            "memory usage: 25.7 MB\n"
          ]
        }
      ]
    },
    {
      "cell_type": "code",
      "source": [
        "# En caso de identificar la \"y\" en otra posicion, no ultima\n",
        "columnas_seleccionadas = list(range(0, 4)) + list(range(5, 20))\n",
        "X = data.iloc[:, columnas_seleccionadas]\n",
        "y = data.iloc[:, 4]\n",
        "m = y.size"
      ],
      "metadata": {
        "id": "0bgL3G6m-BT6"
      },
      "execution_count": 25,
      "outputs": []
    },
    {
      "cell_type": "code",
      "source": [
        "print(X)\n",
        "print('-'*26)\n",
        "print(y)"
      ],
      "metadata": {
        "colab": {
          "base_uri": "https://localhost:8080/"
        },
        "id": "SrYLjFV0-kNO",
        "outputId": "c8fba8d8-ac79-4326-f741-af1afcb704d5"
      },
      "execution_count": 26,
      "outputs": [
        {
          "output_type": "stream",
          "name": "stdout",
          "text": [
            "        property_id  location_id  page_url  property_type  location  city  \\\n",
            "0            237062         3325     66424              1       488     1   \n",
            "1            346905         3236     52551              1       415     1   \n",
            "2            386513          764     99193              2       493     1   \n",
            "3            656161          340     87126              2       211     1   \n",
            "4            841645         3226     52139              2       351     1   \n",
            "...             ...          ...       ...            ...       ...   ...   \n",
            "168441     17355248         6754     82448              2       505     2   \n",
            "168442     17355249          680     70833              2       505     2   \n",
            "168443     17355250         6757     82586              2       505     2   \n",
            "168444     17355251         6752     82357              2       505     2   \n",
            "168445     17355287        10045     10924              2       201     2   \n",
            "\n",
            "        province_name   latitude  longitude  baths  area  purpose  bedrooms  \\\n",
            "0                   0  33.679890  73.012640      2   219        1         2   \n",
            "1                   0  33.700993  72.971492      3   257        1         3   \n",
            "2                   0  33.631486  72.926559      6   309        1         5   \n",
            "3                   0  33.707573  73.151199      4   153        1         4   \n",
            "4                   0  33.492591  73.301339      3   309        1         3   \n",
            "...               ...        ...        ...    ...   ...      ...       ...   \n",
            "168441              2  25.029909  67.137192      0   338        1         6   \n",
            "168442              2  25.017951  67.136393      0   309        1         3   \n",
            "168443              2  25.015384  67.116330      0   338        1         6   \n",
            "168444              2  25.013265  67.120818      0   305        1         3   \n",
            "168445              2  25.113565  67.353811      3   334        1         3   \n",
            "\n",
            "        date_added  agency  agent  Area Type  Area Size  Area Category  \n",
            "0               11    5761  10598          1        4.0              0  \n",
            "1               36    5761  10598          1        5.6             13  \n",
            "2               82    5761  10598          1        8.0             13  \n",
            "3               28    5761  10598          0        2.0              1  \n",
            "4               75    1892   6262          1        8.0             13  \n",
            "...            ...     ...    ...        ...        ...            ...  \n",
            "168441          83     814   8611          1        9.6             13  \n",
            "168442          83     814   8611          1        8.0             13  \n",
            "168443          83     814   8611          1        9.6             13  \n",
            "168444          83     814   8611          1        7.8             13  \n",
            "168445          83    5656    865          1        9.4             13  \n",
            "\n",
            "[168446 rows x 19 columns]\n",
            "--------------------------\n",
            "0         10000000\n",
            "1          6900000\n",
            "2         16500000\n",
            "3         43500000\n",
            "4          7000000\n",
            "            ...   \n",
            "168441    26500000\n",
            "168442    12500000\n",
            "168443    27000000\n",
            "168444    11000000\n",
            "168445     9000000\n",
            "Name: price, Length: 168446, dtype: int64\n"
          ]
        }
      ]
    },
    {
      "cell_type": "code",
      "source": [
        "X = np.concatenate([np.ones((m, 1)), X_norm], axis=1)"
      ],
      "metadata": {
        "id": "LA2O9Dp69g4K"
      },
      "execution_count": 27,
      "outputs": []
    },
    {
      "cell_type": "code",
      "execution_count": 28,
      "metadata": {
        "id": "gVZdjjk9lHQ5"
      },
      "outputs": [],
      "source": [
        "def normalEqn(X, y):\n",
        "\n",
        "    theta = np.zeros(X.shape[1])\n",
        "\n",
        "    theta = np.dot(np.dot(np.linalg.inv(np.dot(X.T,X)),X.T),y)\n",
        "\n",
        "    return theta"
      ]
    },
    {
      "cell_type": "code",
      "source": [
        "# Calcula los parametros con la ecuación de la normal\n",
        "theta = normalEqn(X, y);\n",
        "\n",
        "# Muestra los resultados optenidos a partir de la aplicación de la ecuación de la normal\n",
        "print('Theta calculado a partir de la ecuación de la normal: {:s}'.format(str(theta)));\n",
        "\n",
        "# Estimar el precio para una casa de superficie de 1650 sq-ft y tres dormitorios\n",
        "\n",
        "X_array = [1, 841640, 3220, 52130, 2, 350, 1, 0, 33.492590, 73.301330, 3, 305, 1, 3,\n",
        "           70, 1890, 6260, 1, 8.1, 12]\n",
        "price = np.dot(X_array, theta)\n",
        "\n",
        "print('Precio predecido para una cada de superficie de 1650 sq-ft y 3 dormitorios (usando la ecuación de la normal): ${:.0f}'.format(price))"
      ],
      "metadata": {
        "colab": {
          "base_uri": "https://localhost:8080/"
        },
        "id": "4pj4Legc7Duj",
        "outputId": "c8923708-b9b3-4f92-bcda-b3f464f7e128"
      },
      "execution_count": 29,
      "outputs": [
        {
          "output_type": "stream",
          "name": "stdout",
          "text": [
            "Theta calculado a partir de la ecuación de la normal: [ 17765759.83221924   -917601.62566178  -2302261.96314889\n",
            "  -1557040.61564753    -35014.34692868    314418.83838284\n",
            "  -1521762.61267578   3887023.51676433   4431120.14040899\n",
            "  -3619712.00276074   -564973.42719616   2083959.36754429\n",
            "  12775258.10480536   4348483.51875257  -1072734.63358663\n",
            "   -209201.54592194  -1367823.80342894 -17041455.34091203\n",
            "   5054372.33497811    859428.00924539]\n",
            "Precio predecido para una cada de superficie de 1650 sq-ft y 3 dormitorios (usando la ecuación de la normal): $-869201856352\n"
          ]
        }
      ]
    },
    {
      "cell_type": "markdown",
      "source": [
        "Despues de la ejecucion de la ecuacion de la normal me di cuenta que los resultados me salen muy incoherentes que es por que no cumplio con los requerimietos que debe tener para la ecuacion de la normal"
      ],
      "metadata": {
        "id": "XEJdtVMAp9di"
      }
    }
  ]
}