{
 "cells": [
  {
   "cell_type": "code",
   "execution_count": 1,
   "metadata": {},
   "outputs": [],
   "source": [
    "import numpy as np\n",
    "import pickle\n",
    "import pandas as pd\n",
    "from tqdm import tqdm"
   ]
  },
  {
   "cell_type": "markdown",
   "metadata": {},
   "source": [
    "Para crear un juego de cuatro en raya en un tablero de 4x4 realice cambios en la clase Board, Game\n",
    "y en la logica de entrenamiento y juego"
   ]
  },
  {
   "cell_type": "code",
   "execution_count": 2,
   "metadata": {},
   "outputs": [],
   "source": [
    "#clase para iniciar el tablero como una matriz de 4x4 llena de ceros\n",
    "#modificando la inicialización del tablero y las funciones que dependen del tamaño del tablero.\n",
    "class Board():\n",
    "    def __init__(self):\n",
    "        self.state = np.zeros((4,4))\n",
    "\n",
    "    #Devuelve una lista de movimientos válidos las celdas vacias\n",
    "    def valid_moves(self):\n",
    "        return [(i, j) for j in range(4) for i in range(4) if self.state[i, j] == 0]\n",
    "\n",
    "    #Actualiza el tablero con el símbolo del jugador en la posición especificada si está vacía\n",
    "    def update(self, symbol, row, col):\n",
    "        if self.state[row, col] == 0:\n",
    "            self.state[row, col] = symbol\n",
    "        else:\n",
    "            raise ValueError(\"Movimiento ilegal !\")\n",
    "\n",
    "    #Comprueba si el juego ha terminado si hay ganador empate o se perdio\n",
    "    #Ajustando esta funcion para comprobar filas, columnas y diagonales del tablero \n",
    "    def is_game_over(self):\n",
    "        # Comprobar filas y columnas\n",
    "        for i in range(4):\n",
    "            if abs(self.state[i, :].sum()) == 4:\n",
    "                return self.state[i, 0]\n",
    "            if abs(self.state[:, i].sum()) == 4:\n",
    "                return self.state[0, i]\n",
    "        # Comprobar diagonales\n",
    "        if abs(self.state.trace()) == 4 or abs(np.fliplr(self.state).trace()) == 4:\n",
    "            return self.state[0, 0]\n",
    "        # Empate\n",
    "        if len(self.valid_moves()) == 0:\n",
    "            return 0\n",
    "        # Seguir jugando\n",
    "        return None\n",
    "\n",
    "    #Reinicia el tablero a su estado inicial con atriz de ceros\n",
    "    def reset(self):\n",
    "        self.state = np.zeros((4,4))"
   ]
  },
  {
   "cell_type": "code",
   "execution_count": 3,
   "metadata": {},
   "outputs": [],
   "source": [
    "#clase para iniciar el juego con dos jugadores y un tablero nuevo.\n",
    "class Game():\n",
    "    def __init__(self, player1, player2):\n",
    "        player1.symbol = 1\n",
    "        player2.symbol = -1\n",
    "        self.players = [player1, player2]\n",
    "        self.board = Board()\n",
    "\n",
    "    #Realiza varias partidas entre los dos agentes para entrenarlos.\n",
    "    def selfplay(self, rounds=100):\n",
    "        wins = [0, 0]\n",
    "        for _ in tqdm(range(rounds)):\n",
    "            self.board.reset()\n",
    "            for player in self.players:\n",
    "                player.reset()\n",
    "            game_over = False\n",
    "            while not game_over:\n",
    "                for player in self.players:\n",
    "                    action = player.move(self.board)\n",
    "                    self.board.update(player.symbol, action[0], action[1])\n",
    "                    if (result := self.board.is_game_over()) is not None:\n",
    "                        game_over = True\n",
    "                        break\n",
    "            self.reward()\n",
    "            for ix, player in enumerate(self.players):\n",
    "                if result == player.symbol:\n",
    "                    wins[ix] += 1\n",
    "        return wins\n",
    "\n",
    "    #Para asignar recompensas a los jugadores al final de cada partida\n",
    "    def reward(self):\n",
    "        winner = self.board.is_game_over()\n",
    "        if winner == 0: # Empate\n",
    "            for player in self.players:\n",
    "                player.reward(0.5)\n",
    "        else: # Le damos 1 recompensa al jugador que gana\n",
    "            for player in self.players:\n",
    "                if winner == player.symbol:\n",
    "                    player.reward(1)\n",
    "                else:\n",
    "                    player.reward(0)"
   ]
  },
  {
   "cell_type": "code",
   "execution_count": 4,
   "metadata": {},
   "outputs": [],
   "source": [
    "#Inicializa el agente con una función de valor.\n",
    "class Agent():\n",
    "    def __init__(self, alpha=0.5, prob_exp=0.5):\n",
    "        self.value_function = {} # Tabla con pares estado -> valor\n",
    "        self.alpha = alpha         # tasa de aprendizaje (alpha)\n",
    "        self.positions = []       # Guardamos todas las posiciones visitadas\n",
    "        self.prob_exp = prob_exp   # Probabilidad de explorar\n",
    "\n",
    "    #Resetea las posiciones visitadas\n",
    "    def reset(self):\n",
    "        self.positions = []\n",
    "\n",
    "    #Realiza un movimiento basado en la exploración (movimiento aleatorio) o explotación (mejor movimiento conocido)\n",
    "    def move(self, board, explore=True):\n",
    "        valid_moves = board.valid_moves()\n",
    "        # Exploración\n",
    "        if explore and np.random.uniform(0, 1) < self.prob_exp:\n",
    "            # Vamos a una posición aleatoria\n",
    "            ix = np.random.choice(len(valid_moves))\n",
    "            return valid_moves[ix]\n",
    "        # Explotación\n",
    "        # Vamos a la posición con más valor\n",
    "        max_value = -1000\n",
    "        for row, col in valid_moves:\n",
    "            next_board = board.state.copy()\n",
    "            next_board[row, col] = self.symbol\n",
    "            next_state = str(next_board.reshape(4*4))\n",
    "            value = 0 if self.value_function.get(next_state) is None else self.value_function.get(next_state)\n",
    "            if value >= max_value:\n",
    "                max_value = value\n",
    "                best_row, best_col = row, col\n",
    "        return best_row, best_col\n",
    "    \n",
    "    #Guarda el estado actual del tablero en la lista de posiciones visitadas\n",
    "    def update(self, board):\n",
    "        self.positions.append(str(board.state.reshape(4*4)))\n",
    "\n",
    "    #Actualiza la función de valor de cada estado visitado en función de la recompensa obtenida al final de la partida\n",
    "    def reward(self, reward):\n",
    "        for p in reversed(self.positions):\n",
    "            if self.value_function.get(p) is None:\n",
    "                self.value_function[p] = 0\n",
    "            self.value_function[p] += self.alpha * (reward - self.value_function[p])\n",
    "            reward = self.value_function[p]"
   ]
  },
  {
   "cell_type": "code",
   "execution_count": 5,
   "metadata": {},
   "outputs": [
    {
     "name": "stderr",
     "output_type": "stream",
     "text": [
      "100%|██████████| 30000/30000 [06:52<00:00, 72.72it/s]\n"
     ]
    },
    {
     "data": {
      "text/plain": [
       "[8369, 6758]"
      ]
     },
     "execution_count": 5,
     "metadata": {},
     "output_type": "execute_result"
    }
   ],
   "source": [
    "#Entrena dos agentes jugando entre ellos\n",
    "agent1 = Agent(prob_exp=0.5)\n",
    "agent2 = Agent()\n",
    "\n",
    "game = Game(agent1, agent2)\n",
    "\n",
    "game.selfplay(30000)"
   ]
  },
  {
   "cell_type": "code",
   "execution_count": 6,
   "metadata": {},
   "outputs": [
    {
     "data": {
      "text/html": [
       "<div>\n",
       "<style scoped>\n",
       "    .dataframe tbody tr th:only-of-type {\n",
       "        vertical-align: middle;\n",
       "    }\n",
       "\n",
       "    .dataframe tbody tr th {\n",
       "        vertical-align: top;\n",
       "    }\n",
       "\n",
       "    .dataframe thead th {\n",
       "        text-align: right;\n",
       "    }\n",
       "</style>\n",
       "<table border=\"1\" class=\"dataframe\">\n",
       "  <thead>\n",
       "    <tr style=\"text-align: right;\">\n",
       "      <th></th>\n",
       "      <th>estado</th>\n",
       "      <th>valor</th>\n",
       "    </tr>\n",
       "  </thead>\n",
       "  <tbody>\n",
       "  </tbody>\n",
       "</table>\n",
       "</div>"
      ],
      "text/plain": [
       "Empty DataFrame\n",
       "Columns: [estado, valor]\n",
       "Index: []"
      ]
     },
     "execution_count": 6,
     "metadata": {},
     "output_type": "execute_result"
    }
   ],
   "source": [
    "#Guarda la funcion de valor del primer agente en un archivo utilizando pickle.\n",
    "funcion_de_valor = sorted(agent1.value_function.items(), key=lambda kv: kv[1], reverse=True)\n",
    "tabla = pd.DataFrame({'estado': [x[0] for x in funcion_de_valor], 'valor': [x[1] for x in funcion_de_valor]})\n",
    "\n",
    "tabla"
   ]
  },
  {
   "cell_type": "code",
   "execution_count": 7,
   "metadata": {},
   "outputs": [],
   "source": [
    "with open('agente.pickle', 'wb') as handle:\n",
    "    pickle.dump(agent1.value_function, handle, protocol=pickle.HIGHEST_PROTOCOL)"
   ]
  },
  {
   "cell_type": "code",
   "execution_count": 9,
   "metadata": {},
   "outputs": [
    {
     "name": "stdout",
     "output_type": "stream",
     "text": [
      "- | - | - | -\n",
      "-------------------\n",
      "- | - | - | -\n",
      "-------------------\n",
      "- | - | - | -\n",
      "-------------------\n",
      "- | - | - | -\n",
      "-------------------\n",
      "- | - | - | -\n",
      "-------------------\n",
      "X | - | - | -\n",
      "-------------------\n",
      "- | - | - | -\n",
      "-------------------\n",
      "- | - | - | O\n",
      "-------------------\n",
      "- | - | - | -\n",
      "-------------------\n",
      "X | X | - | -\n",
      "-------------------\n",
      "- | - | - | -\n",
      "-------------------\n",
      "O | - | - | O\n",
      "-------------------\n",
      "O | - | - | -\n",
      "-------------------\n",
      "X | X | X | -\n",
      "-------------------\n",
      "- | - | - | -\n",
      "-------------------\n",
      "O | - | - | O\n",
      "-------------------\n",
      "O | - | - | -\n",
      "-------------------\n",
      "X | X | X | X\n",
      "-------------------\n",
      "- | - | - | -\n",
      "-------------------\n",
      "O | - | - | O\n",
      "-------------------\n",
      "¡Has ganado!\n"
     ]
    }
   ],
   "source": [
    "# Crear una nueva instancia de juego con los agentes ya entrenados\n",
    "game = Game(agent1, agent2)\n",
    "\n",
    "# Función para mostrar el estado del tablero\n",
    "def print_board(board):\n",
    "    for row in board.state:\n",
    "        print(\" | \".join([\"X\" if cell == 1 else \"O\" if cell == -1 else \"-\" for cell in row]))\n",
    "        print(\"-\" * 19)\n",
    "\n",
    "# Jugar contra el agente\n",
    "while True:\n",
    "    print_board(game.board)\n",
    "    row = int(input(\"Ingrese la fila (0-3): \"))\n",
    "    col = int(input(\"Ingrese la columna (0-3): \"))\n",
    "    if (row, col) in game.board.valid_moves():\n",
    "        game.board.update(1, row, col)\n",
    "        if (result := game.board.is_game_over()) is not None:\n",
    "            print_board(game.board)\n",
    "            if result == 1:\n",
    "                print(\"¡Has ganado!\")\n",
    "            elif result == -1:\n",
    "                print(\"¡Has perdido!\")\n",
    "            else:\n",
    "                print(\"¡Empate!\")\n",
    "            break\n",
    "        action = agent2.move(game.board)\n",
    "        game.board.update(-1, action[0], action[1])\n",
    "        if (result := game.board.is_game_over()) is not None:\n",
    "            print_board(game.board)\n",
    "            if result == 1:\n",
    "                print(\"¡Has ganado!\")\n",
    "            elif result == -1:\n",
    "                print(\"¡Has perdido!\")\n",
    "            else:\n",
    "                print(\"¡Empate!\")\n",
    "            break\n",
    "    else:\n",
    "        print(\"Movimiento inválido, intenta de nuevo.\")\n"
   ]
  }
 ],
 "metadata": {
  "kernelspec": {
   "display_name": "Python 3",
   "language": "python",
   "name": "python3"
  },
  "language_info": {
   "codemirror_mode": {
    "name": "ipython",
    "version": 3
   },
   "file_extension": ".py",
   "mimetype": "text/x-python",
   "name": "python",
   "nbconvert_exporter": "python",
   "pygments_lexer": "ipython3",
   "version": "3.11.9"
  }
 },
 "nbformat": 4,
 "nbformat_minor": 2
}
