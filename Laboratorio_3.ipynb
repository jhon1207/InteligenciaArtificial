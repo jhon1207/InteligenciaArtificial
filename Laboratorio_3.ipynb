{
  "nbformat": 4,
  "nbformat_minor": 0,
  "metadata": {
    "colab": {
      "provenance": []
    },
    "kernelspec": {
      "name": "python3",
      "display_name": "Python 3"
    },
    "language_info": {
      "name": "python"
    }
  },
  "cells": [
    {
      "cell_type": "code",
      "execution_count": 1,
      "metadata": {
        "colab": {
          "base_uri": "https://localhost:8080/"
        },
        "id": "-y7XchVa8vMR",
        "outputId": "5471e9f5-0648-47ee-f2c4-37b8c28ff883"
      },
      "outputs": [
        {
          "output_type": "stream",
          "name": "stdout",
          "text": [
            "Drive already mounted at /content/drive; to attempt to forcibly remount, call drive.mount(\"/content/drive\", force_remount=True).\n"
          ]
        }
      ],
      "source": [
        "from google.colab import drive\n",
        "drive.mount('/content/drive')"
      ]
    },
    {
      "cell_type": "code",
      "source": [
        "# se utiliza para el manejo de rutas y directorios.\n",
        "import os\n",
        "\n",
        "# Calculo cientifico y vectorial para python\n",
        "import numpy as np\n",
        "\n",
        "# Librerias para graficar\n",
        "from matplotlib import pyplot\n",
        "\n",
        "# Modulo de optimización de scipy\n",
        "from scipy import optimize\n",
        "\n",
        "# le dice a matplotlib que incruste gráficos en el cuaderno\n",
        "%matplotlib inline\n",
        "\n",
        "import pandas as pd\n",
        "from sklearn.preprocessing import LabelEncoder\n",
        "from datetime import datetime\n",
        "\n",
        "# Importar libreria para dividir entrenamiento y prueba\n",
        "from sklearn.model_selection import train_test_split"
      ],
      "metadata": {
        "id": "rQehifRg-4Sh"
      },
      "execution_count": 2,
      "outputs": []
    },
    {
      "cell_type": "code",
      "source": [
        "data = pd.read_csv('/content/drive/MyDrive/Colab Notebooks/Datasets/TMNIST_Data.csv')"
      ],
      "metadata": {
        "id": "z0gtBJMtC4CH"
      },
      "execution_count": 3,
      "outputs": []
    },
    {
      "cell_type": "code",
      "source": [
        "print(data)"
      ],
      "metadata": {
        "colab": {
          "base_uri": "https://localhost:8080/"
        },
        "id": "2rCoYL_5h8VN",
        "outputId": "533efe56-126a-493d-fe9c-8c5321318d53"
      },
      "execution_count": 4,
      "outputs": [
        {
          "output_type": "stream",
          "name": "stdout",
          "text": [
            "                                  names  labels  1  2  3  4  5  6  7  8  ...  \\\n",
            "0                    GrandHotel-Regular       2  0  0  0  0  0  0  0  0  ...   \n",
            "1            EncodeSansCondensed-Medium       8  0  0  0  0  0  0  0  0  ...   \n",
            "2                        Varela-Regular       4  0  0  0  0  0  0  0  0  ...   \n",
            "3                        ArefRuqaa-Bold       3  0  0  0  0  0  0  0  0  ...   \n",
            "4                     KulimPark-Regular       1  0  0  0  0  0  0  0  0  ...   \n",
            "...                                 ...     ... .. .. .. .. .. .. .. ..  ...   \n",
            "29895                     Raleway[wght]       7  0  0  0  0  0  0  0  0  ...   \n",
            "29896                     Charm-Regular       5  0  0  0  0  0  0  0  0  ...   \n",
            "29897  BigShouldersStencilDisplay-Black       0  0  0  0  0  0  0  0  0  ...   \n",
            "29898                  Gabriela-Regular       1  0  0  0  0  0  0  0  0  ...   \n",
            "29899                       Ovo-Regular       6  0  0  0  0  0  0  0  0  ...   \n",
            "\n",
            "       775  776  777  778  779  780  781  782  783  784  \n",
            "0        0    0    0    0    0    0    0    0    0    0  \n",
            "1        0    0    0    0    0    0    0    0    0    0  \n",
            "2        0    0    0    0    0    0    0    0    0    0  \n",
            "3        0    0    0    0    0    0    0    0    0    0  \n",
            "4        0    0    0    0    0    0    0    0    0    0  \n",
            "...    ...  ...  ...  ...  ...  ...  ...  ...  ...  ...  \n",
            "29895    0    0    0    0    0    0    0    0    0    0  \n",
            "29896    0    0    0    0    0    0    0    0    0    0  \n",
            "29897    0    0    0    0    0    0    0    0    0    0  \n",
            "29898    0    0    0    0    0    0    0    0    0    0  \n",
            "29899    0    0    0    0    0    0    0    0    0    0  \n",
            "\n",
            "[29900 rows x 786 columns]\n"
          ]
        }
      ]
    },
    {
      "cell_type": "markdown",
      "source": [
        "Conversion de la columna que esta en objeto a numeros entreros"
      ],
      "metadata": {
        "id": "_zydhggwsFJu"
      }
    },
    {
      "cell_type": "code",
      "source": [
        "#variables categoricas\n",
        "columnas_categoricas = data.select_dtypes(include=['object']).columns"
      ],
      "metadata": {
        "id": "sI_O9nnzGLGp"
      },
      "execution_count": 5,
      "outputs": []
    },
    {
      "cell_type": "code",
      "source": [
        "#Procesamiento de frases o palabras\n",
        "for columna in columnas_categoricas:\n",
        "  le = LabelEncoder()\n",
        "  data[columna] = le.fit_transform(data[columna])"
      ],
      "metadata": {
        "id": "zzGTWM0KGUef"
      },
      "execution_count": 6,
      "outputs": []
    },
    {
      "cell_type": "code",
      "source": [
        "print(data)"
      ],
      "metadata": {
        "colab": {
          "base_uri": "https://localhost:8080/"
        },
        "id": "OEclwc9tiTta",
        "outputId": "7081f852-2bcf-4b72-c0db-83e55496739a"
      },
      "execution_count": 7,
      "outputs": [
        {
          "output_type": "stream",
          "name": "stdout",
          "text": [
            "       names  labels  1  2  3  4  5  6  7  8  ...  775  776  777  778  779  \\\n",
            "0       1097       2  0  0  0  0  0  0  0  0  ...    0    0    0    0    0   \n",
            "1        851       8  0  0  0  0  0  0  0  0  ...    0    0    0    0    0   \n",
            "2       2908       4  0  0  0  0  0  0  0  0  ...    0    0    0    0    0   \n",
            "3        156       3  0  0  0  0  0  0  0  0  ...    0    0    0    0    0   \n",
            "4       1539       1  0  0  0  0  0  0  0  0  ...    0    0    0    0    0   \n",
            "...      ...     ... .. .. .. .. .. .. .. ..  ...  ...  ...  ...  ...  ...   \n",
            "29895   2368       7  0  0  0  0  0  0  0  0  ...    0    0    0    0    0   \n",
            "29896    624       5  0  0  0  0  0  0  0  0  ...    0    0    0    0    0   \n",
            "29897    463       0  0  0  0  0  0  0  0  0  ...    0    0    0    0    0   \n",
            "29898   1030       1  0  0  0  0  0  0  0  0  ...    0    0    0    0    0   \n",
            "29899   2166       6  0  0  0  0  0  0  0  0  ...    0    0    0    0    0   \n",
            "\n",
            "       780  781  782  783  784  \n",
            "0        0    0    0    0    0  \n",
            "1        0    0    0    0    0  \n",
            "2        0    0    0    0    0  \n",
            "3        0    0    0    0    0  \n",
            "4        0    0    0    0    0  \n",
            "...    ...  ...  ...  ...  ...  \n",
            "29895    0    0    0    0    0  \n",
            "29896    0    0    0    0    0  \n",
            "29897    0    0    0    0    0  \n",
            "29898    0    0    0    0    0  \n",
            "29899    0    0    0    0    0  \n",
            "\n",
            "[29900 rows x 786 columns]\n"
          ]
        }
      ]
    },
    {
      "cell_type": "markdown",
      "source": [
        "Para la division del dataset en entrenamiento y prueba del 80% y 20% respectivamente se aplico la libreria train_test_split que con eso nos posibilita crear los nuevos datasets"
      ],
      "metadata": {
        "id": "qHju1RAXsfXa"
      }
    },
    {
      "cell_type": "code",
      "source": [
        "# Division de dataset en entrenamiento y prueba\n",
        "entrenamiento_data, prueba_data = train_test_split(data, test_size=0.2, random_state=42)"
      ],
      "metadata": {
        "id": "f77eRlDlIo_Y"
      },
      "execution_count": 8,
      "outputs": []
    },
    {
      "cell_type": "code",
      "source": [
        "print(entrenamiento_data)"
      ],
      "metadata": {
        "colab": {
          "base_uri": "https://localhost:8080/"
        },
        "id": "3TRhtaoAI1UY",
        "outputId": "8491c30a-a4fd-4cde-a12a-31dad88f7d2b"
      },
      "execution_count": 9,
      "outputs": [
        {
          "output_type": "stream",
          "name": "stdout",
          "text": [
            "       names  labels  1  2  3  4  5  6  7  8  ...  775  776  777  778  779  \\\n",
            "1256     257       9  0  0  0  0  0  0  0  0  ...    0    0    0    0    0   \n",
            "15610    494       0  0  0  0  0  0  0  0  0  ...    0    0    0    0    0   \n",
            "4716     676       8  0  0  0  0  0  0  0  0  ...    0    0    0    0    0   \n",
            "12927   1358       5  0  0  0  0  0  0  0  0  ...    0    0    0    0    0   \n",
            "10980   2058       8  0  0  0  0  0  0  0  0  ...    0    0    0    0    0   \n",
            "...      ...     ... .. .. .. .. .. .. .. ..  ...  ...  ...  ...  ...  ...   \n",
            "29802    314       1  0  0  0  0  0  0  0  0  ...    0    0    0    0    0   \n",
            "5390    2873       6  0  0  0  0  0  0  0  0  ...    0    0    0    0    0   \n",
            "860     2848       1  0  0  0  0  0  0  0  0  ...    0    0    0    0    0   \n",
            "15795    534       7  0  0  0  0  0  0  0  0  ...    0    0    0    0    0   \n",
            "23654   1105       1  0  0  0  0  0  0  0  0  ...    0    0    0    0    0   \n",
            "\n",
            "       780  781  782  783  784  \n",
            "1256     0    0    0    0    0  \n",
            "15610    0    0    0    0    0  \n",
            "4716     0    0    0    0    0  \n",
            "12927    0    0    0    0    0  \n",
            "10980    0    0    0    0    0  \n",
            "...    ...  ...  ...  ...  ...  \n",
            "29802    0    0    0    0    0  \n",
            "5390     0    0    0    0    0  \n",
            "860      0    0    0    0    0  \n",
            "15795    0    0    0    0    0  \n",
            "23654    0    0    0    0    0  \n",
            "\n",
            "[23920 rows x 786 columns]\n"
          ]
        }
      ]
    },
    {
      "cell_type": "code",
      "source": [
        "print(prueba_data)"
      ],
      "metadata": {
        "colab": {
          "base_uri": "https://localhost:8080/"
        },
        "id": "ANsxAK68I7Ws",
        "outputId": "72c14c1f-2560-4e5f-a618-515621bd534e"
      },
      "execution_count": 10,
      "outputs": [
        {
          "output_type": "stream",
          "name": "stdout",
          "text": [
            "       names  labels  1  2  3  4  5  6  7  8  ...  775  776  777  778  779  \\\n",
            "15756   1951       3  0  0  0  0  0  0  0  0  ...    0    0    0    0    0   \n",
            "19617   1224       5  0  0  0  0  0  0  0  0  ...    0    0    0    0    0   \n",
            "18973   2030       8  0  0  0  0  0  0  0  0  ...    0    0    0    0    0   \n",
            "16397    581       9  0  0  0  0  0  0  0  0  ...    0    0    0    0    0   \n",
            "16366   2830       0  0  0  0  0  0  0  0  0  ...    0    0    0    0    0   \n",
            "...      ...     ... .. .. .. .. .. .. .. ..  ...  ...  ...  ...  ...  ...   \n",
            "708     1738       9  0  0  0  0  0  0  0  0  ...    0    0    0    0    0   \n",
            "23587   2393       8  0  0  0  0  0  0  0  0  ...    0    0    0    0    0   \n",
            "27362    739       3  0  0  0  0  0  0  0  0  ...    0    0    0    0    0   \n",
            "20592   1791       8  0  0  0  0  0  0  0  0  ...    0    0    0    0    0   \n",
            "9934    1898       5  0  0  0  0  0  0  0  0  ...    0    0    0    0    0   \n",
            "\n",
            "       780  781  782  783  784  \n",
            "15756    0    0    0    0    0  \n",
            "19617    0    0    0    0    0  \n",
            "18973    0    0    0    0    0  \n",
            "16397    0    0    0    0    0  \n",
            "16366    0    0    0    0    0  \n",
            "...    ...  ...  ...  ...  ...  \n",
            "708      0    0    0    0    0  \n",
            "23587    0    0    0    0    0  \n",
            "27362    0    0    0    0    0  \n",
            "20592    0    0    0    0    0  \n",
            "9934     0    0    0    0    0  \n",
            "\n",
            "[5980 rows x 786 columns]\n"
          ]
        }
      ]
    },
    {
      "cell_type": "markdown",
      "source": [
        "Creacion de los nuevos datasets entrenamiento y prueba\n"
      ],
      "metadata": {
        "id": "O6SDCz8ktE9k"
      }
    },
    {
      "cell_type": "code",
      "source": [
        "entrenamiento_data.to_csv(\"entrenamiento.csv\", index=False)"
      ],
      "metadata": {
        "id": "VqQmzNZRJE2e"
      },
      "execution_count": 11,
      "outputs": []
    },
    {
      "cell_type": "code",
      "source": [
        "prueba_data.to_csv(\"prueba.csv\", index=False)"
      ],
      "metadata": {
        "id": "nw8YBpmUJW6s"
      },
      "execution_count": 12,
      "outputs": []
    },
    {
      "cell_type": "markdown",
      "source": [
        "Carga del datasets del entrenamiento detectando que nuestra variable y que son nuestras etiquetas se encuentra en la segunda columna"
      ],
      "metadata": {
        "id": "60PJNiADtN_O"
      }
    },
    {
      "cell_type": "code",
      "source": [
        "data = np.loadtxt(\"/content/entrenamiento.csv\", delimiter=',', skiprows=1)\n",
        "#print(data)\n",
        "#X, y = data[:,2:], data[:, 1]\n",
        "#print(X.shape)\n",
        "#print(y.shape)"
      ],
      "metadata": {
        "id": "akWy8IXCV1vK"
      },
      "execution_count": 13,
      "outputs": []
    },
    {
      "cell_type": "code",
      "source": [
        "# En caso de identificar la \"y\" en otra posicion, no ultima\n",
        "columnas_seleccionadas = list(range(0, 1)) + list(range(2, 786))\n",
        "X = data[:, columnas_seleccionadas]\n",
        "y = data[:, 1]\n",
        "m = y.size"
      ],
      "metadata": {
        "id": "w9uYBTClnTrx"
      },
      "execution_count": 14,
      "outputs": []
    },
    {
      "cell_type": "code",
      "source": [
        "print(X.shape)\n",
        "print(y.shape)"
      ],
      "metadata": {
        "colab": {
          "base_uri": "https://localhost:8080/"
        },
        "id": "TJJM2Uwxkkj_",
        "outputId": "e912165c-5cc0-41a5-816d-003ee5d8d029"
      },
      "execution_count": 15,
      "outputs": [
        {
          "output_type": "stream",
          "name": "stdout",
          "text": [
            "(23920, 785)\n",
            "(23920,)\n"
          ]
        }
      ]
    },
    {
      "cell_type": "code",
      "source": [
        "y[y == 10] = 0"
      ],
      "metadata": {
        "id": "oTVdOC3Ck6yI"
      },
      "execution_count": 16,
      "outputs": []
    },
    {
      "cell_type": "code",
      "source": [
        "input_layer_size = 786\n",
        "num_labels = 10\n",
        "m = y.size"
      ],
      "metadata": {
        "id": "CCEKa6OzkwE3"
      },
      "execution_count": 17,
      "outputs": []
    },
    {
      "cell_type": "code",
      "source": [
        "# Selecciona aleatoriamente 100 puntos de datos para mostrar\n",
        "rand_indices = np.random.choice(m, 100, replace=False)\n",
        "sel = X[rand_indices, :]\n",
        "\n",
        "#displayData(sel)"
      ],
      "metadata": {
        "id": "2DvUCZjNPrxW"
      },
      "execution_count": 18,
      "outputs": []
    },
    {
      "cell_type": "code",
      "source": [
        "def sigmoid(z):\n",
        "    \"\"\"\n",
        "    Calcula la sigmoide de z.\n",
        "    \"\"\"\n",
        "    return 1.0 / (1.0 + np.exp(-z))"
      ],
      "metadata": {
        "id": "iUgtxsLTXaX8"
      },
      "execution_count": 19,
      "outputs": []
    },
    {
      "cell_type": "code",
      "source": [
        "def lrCostFunction(theta, X, y, lambda_):\n",
        "    \"\"\"\n",
        "    Calcula el costo de usar theta como parámetro para la regresión logística regularizada y\n",
        "    el gradiente del costo w.r.t. a los parámetros.\n",
        "\n",
        "    Parametros\n",
        "    ----------\n",
        "    theta : array_like\n",
        "        Parametro theta de la regresion logistica. Vector de la forma(shape) (n, ). n es el numero de caracteristicas\n",
        "        incluida la intercepcion\n",
        "\n",
        "    X : array_like\n",
        "        Dataset con la forma(shape) (m x n). m es el numero de ejemplos, y n es el numero de\n",
        "        caracteristicas (incluida la intercepcion).\n",
        "\n",
        "    y : array_like\n",
        "        El conjunto de etiquetas. Un vector con la forma (shape) (m, ). m es el numero de ejemplos\n",
        "\n",
        "    lambda_ : float\n",
        "        Parametro de regularización.\n",
        "\n",
        "    Devuelve\n",
        "    -------\n",
        "    J : float\n",
        "        El valor calculado para la funcion de costo regularizada.\n",
        "\n",
        "    grad : array_like\n",
        "        Un vector de la forma (shape) (n, ) que es el gradiente de la\n",
        "        función de costo con respecto a theta, en los valores actuales de theta..\n",
        "    \"\"\"\n",
        "#     alpha = 0.003\n",
        "#     theta = theta.copy()\n",
        "    # Inicializa algunos valores utiles\n",
        "    m = y.size\n",
        "\n",
        "    # convierte las etiquetas a valores enteros si son boleanos\n",
        "    if y.dtype == bool:\n",
        "        y = y.astype(int)\n",
        "\n",
        "    J = 0\n",
        "    grad = np.zeros(theta.shape)\n",
        "\n",
        "    h = sigmoid(X.dot(theta.T))\n",
        "\n",
        "    temp = theta\n",
        "    temp[0] = 0\n",
        "\n",
        "#     J = (1 / m) * np.sum(-y.dot(np.log(h)) - (1 - y).dot(np.log(1 - h)))\n",
        "    J = (1 / m) * np.sum(-y.dot(np.log(h)) - (1 - y).dot(np.log(1 - h))) + (lambda_ / (2 * m)) * np.sum(np.square(temp))\n",
        "\n",
        "    grad = (1 / m) * (h - y).dot(X)\n",
        "#     theta = theta - (alpha / m) * (h - y).dot(X)\n",
        "    grad = grad + (lambda_ / m) * temp\n",
        "\n",
        "    return J, grad\n",
        "#    return J, theta"
      ],
      "metadata": {
        "id": "QLshsoi2XdfP"
      },
      "execution_count": 20,
      "outputs": []
    },
    {
      "cell_type": "code",
      "source": [
        "def oneVsAll(X, y, num_labels, lambda_):\n",
        "    \"\"\"\n",
        "    Trains num_labels logistic regression classifiers and returns\n",
        "    each of these classifiers in a matrix all_theta, where the i-th\n",
        "    row of all_theta corresponds to the classifier for label i.\n",
        "\n",
        "    Parameters\n",
        "    ----------\n",
        "    X : array_like\n",
        "        The input dataset of shape (m x n). m is the number of\n",
        "        data points, and n is the number of features. Note that we\n",
        "        do not assume that the intercept term (or bias) is in X, however\n",
        "        we provide the code below to add the bias term to X.\n",
        "\n",
        "    y : array_like\n",
        "        The data labels. A vector of shape (m, ).\n",
        "\n",
        "    num_labels : int\n",
        "        Number of possible labels.\n",
        "\n",
        "    lambda_ : float\n",
        "        The logistic regularization parameter.\n",
        "\n",
        "    Returns\n",
        "    -------\n",
        "    all_theta : array_like\n",
        "        The trained parameters for logistic regression for each class.\n",
        "        This is a matrix of shape (K x n+1) where K is number of classes\n",
        "        (ie. `numlabels`) and n is number of features without the bias.\n",
        "    \"\"\"\n",
        "    # algunas variables utiles\n",
        "    m, n = X.shape\n",
        "\n",
        "    all_theta = np.zeros((num_labels, n + 1))\n",
        "\n",
        "    # Agrega unos a la matriz X\n",
        "    X = np.concatenate([np.ones((m, 1)), X], axis=1)\n",
        "\n",
        "    for c in np.arange(num_labels):\n",
        "        initial_theta = np.zeros(n + 1)\n",
        "        options = {'maxiter': 50}\n",
        "        res = optimize.minimize(lrCostFunction,\n",
        "                                initial_theta,\n",
        "                                (X, (y == c), lambda_),\n",
        "                                jac=True,\n",
        "                                method='CG',\n",
        "                                options=options)\n",
        "\n",
        "        all_theta[c] = res.x\n",
        "\n",
        "    return all_theta"
      ],
      "metadata": {
        "id": "80h6itVUXoMV"
      },
      "execution_count": 21,
      "outputs": []
    },
    {
      "cell_type": "markdown",
      "source": [
        "Carga de nuestro datasets prueba para iniciar nuestras predicciones\n"
      ],
      "metadata": {
        "id": "-OURNk_Ft55v"
      }
    },
    {
      "cell_type": "code",
      "source": [
        "data = np.loadtxt(\"/content/prueba.csv\", delimiter=',', skiprows=1)"
      ],
      "metadata": {
        "id": "EJUI7XDInCwl"
      },
      "execution_count": 22,
      "outputs": []
    },
    {
      "cell_type": "code",
      "source": [
        "# En caso de identificar la \"y\" en otra posicion, no ultima\n",
        "columnas_seleccionadas = list(range(0, 1)) + list(range(2, 786))\n",
        "X = data[:, columnas_seleccionadas]\n",
        "y = data[:, 1]\n",
        "m = y.size"
      ],
      "metadata": {
        "id": "_7GzdFQcnZWw"
      },
      "execution_count": 23,
      "outputs": []
    },
    {
      "cell_type": "code",
      "source": [
        "print(X.shape)\n",
        "print(y.shape)"
      ],
      "metadata": {
        "colab": {
          "base_uri": "https://localhost:8080/"
        },
        "id": "hYK6tiOUnfov",
        "outputId": "fa649843-a35d-4179-d429-62d4c9dc4fea"
      },
      "execution_count": 24,
      "outputs": [
        {
          "output_type": "stream",
          "name": "stdout",
          "text": [
            "(5980, 785)\n",
            "(5980,)\n"
          ]
        }
      ]
    },
    {
      "cell_type": "code",
      "source": [
        "lambda_ = 0.001\n",
        "all_theta = oneVsAll(X, y, num_labels, lambda_)\n",
        "print(all_theta.shape)"
      ],
      "metadata": {
        "colab": {
          "base_uri": "https://localhost:8080/"
        },
        "id": "IBUAMXtGY2DI",
        "outputId": "22530276-d4b8-4126-a1f1-bf249e5b4f23"
      },
      "execution_count": 25,
      "outputs": [
        {
          "output_type": "stream",
          "name": "stderr",
          "text": [
            "<ipython-input-19-575a438e2fc3>:5: RuntimeWarning: overflow encountered in exp\n",
            "  return 1.0 / (1.0 + np.exp(-z))\n",
            "<ipython-input-20-cf6e0809223e>:49: RuntimeWarning: divide by zero encountered in log\n",
            "  J = (1 / m) * np.sum(-y.dot(np.log(h)) - (1 - y).dot(np.log(1 - h))) + (lambda_ / (2 * m)) * np.sum(np.square(temp))\n",
            "<ipython-input-20-cf6e0809223e>:49: RuntimeWarning: divide by zero encountered in log\n",
            "  J = (1 / m) * np.sum(-y.dot(np.log(h)) - (1 - y).dot(np.log(1 - h))) + (lambda_ / (2 * m)) * np.sum(np.square(temp))\n",
            "<ipython-input-20-cf6e0809223e>:49: RuntimeWarning: divide by zero encountered in log\n",
            "  J = (1 / m) * np.sum(-y.dot(np.log(h)) - (1 - y).dot(np.log(1 - h))) + (lambda_ / (2 * m)) * np.sum(np.square(temp))\n",
            "<ipython-input-19-575a438e2fc3>:5: RuntimeWarning: overflow encountered in exp\n",
            "  return 1.0 / (1.0 + np.exp(-z))\n",
            "<ipython-input-20-cf6e0809223e>:49: RuntimeWarning: divide by zero encountered in log\n",
            "  J = (1 / m) * np.sum(-y.dot(np.log(h)) - (1 - y).dot(np.log(1 - h))) + (lambda_ / (2 * m)) * np.sum(np.square(temp))\n",
            "<ipython-input-19-575a438e2fc3>:5: RuntimeWarning: overflow encountered in exp\n",
            "  return 1.0 / (1.0 + np.exp(-z))\n",
            "<ipython-input-20-cf6e0809223e>:49: RuntimeWarning: divide by zero encountered in log\n",
            "  J = (1 / m) * np.sum(-y.dot(np.log(h)) - (1 - y).dot(np.log(1 - h))) + (lambda_ / (2 * m)) * np.sum(np.square(temp))\n",
            "<ipython-input-19-575a438e2fc3>:5: RuntimeWarning: overflow encountered in exp\n",
            "  return 1.0 / (1.0 + np.exp(-z))\n",
            "<ipython-input-20-cf6e0809223e>:49: RuntimeWarning: divide by zero encountered in log\n",
            "  J = (1 / m) * np.sum(-y.dot(np.log(h)) - (1 - y).dot(np.log(1 - h))) + (lambda_ / (2 * m)) * np.sum(np.square(temp))\n",
            "<ipython-input-19-575a438e2fc3>:5: RuntimeWarning: overflow encountered in exp\n",
            "  return 1.0 / (1.0 + np.exp(-z))\n",
            "<ipython-input-20-cf6e0809223e>:49: RuntimeWarning: divide by zero encountered in log\n",
            "  J = (1 / m) * np.sum(-y.dot(np.log(h)) - (1 - y).dot(np.log(1 - h))) + (lambda_ / (2 * m)) * np.sum(np.square(temp))\n",
            "<ipython-input-19-575a438e2fc3>:5: RuntimeWarning: overflow encountered in exp\n",
            "  return 1.0 / (1.0 + np.exp(-z))\n",
            "<ipython-input-20-cf6e0809223e>:49: RuntimeWarning: divide by zero encountered in log\n",
            "  J = (1 / m) * np.sum(-y.dot(np.log(h)) - (1 - y).dot(np.log(1 - h))) + (lambda_ / (2 * m)) * np.sum(np.square(temp))\n",
            "<ipython-input-20-cf6e0809223e>:49: RuntimeWarning: divide by zero encountered in log\n",
            "  J = (1 / m) * np.sum(-y.dot(np.log(h)) - (1 - y).dot(np.log(1 - h))) + (lambda_ / (2 * m)) * np.sum(np.square(temp))\n",
            "<ipython-input-19-575a438e2fc3>:5: RuntimeWarning: overflow encountered in exp\n",
            "  return 1.0 / (1.0 + np.exp(-z))\n",
            "<ipython-input-20-cf6e0809223e>:49: RuntimeWarning: divide by zero encountered in log\n",
            "  J = (1 / m) * np.sum(-y.dot(np.log(h)) - (1 - y).dot(np.log(1 - h))) + (lambda_ / (2 * m)) * np.sum(np.square(temp))\n",
            "<ipython-input-19-575a438e2fc3>:5: RuntimeWarning: overflow encountered in exp\n",
            "  return 1.0 / (1.0 + np.exp(-z))\n",
            "<ipython-input-20-cf6e0809223e>:49: RuntimeWarning: divide by zero encountered in log\n",
            "  J = (1 / m) * np.sum(-y.dot(np.log(h)) - (1 - y).dot(np.log(1 - h))) + (lambda_ / (2 * m)) * np.sum(np.square(temp))\n",
            "<ipython-input-19-575a438e2fc3>:5: RuntimeWarning: overflow encountered in exp\n",
            "  return 1.0 / (1.0 + np.exp(-z))\n",
            "<ipython-input-20-cf6e0809223e>:49: RuntimeWarning: divide by zero encountered in log\n",
            "  J = (1 / m) * np.sum(-y.dot(np.log(h)) - (1 - y).dot(np.log(1 - h))) + (lambda_ / (2 * m)) * np.sum(np.square(temp))\n",
            "<ipython-input-20-cf6e0809223e>:49: RuntimeWarning: divide by zero encountered in log\n",
            "  J = (1 / m) * np.sum(-y.dot(np.log(h)) - (1 - y).dot(np.log(1 - h))) + (lambda_ / (2 * m)) * np.sum(np.square(temp))\n",
            "<ipython-input-20-cf6e0809223e>:49: RuntimeWarning: divide by zero encountered in log\n",
            "  J = (1 / m) * np.sum(-y.dot(np.log(h)) - (1 - y).dot(np.log(1 - h))) + (lambda_ / (2 * m)) * np.sum(np.square(temp))\n",
            "<ipython-input-20-cf6e0809223e>:49: RuntimeWarning: divide by zero encountered in log\n",
            "  J = (1 / m) * np.sum(-y.dot(np.log(h)) - (1 - y).dot(np.log(1 - h))) + (lambda_ / (2 * m)) * np.sum(np.square(temp))\n",
            "<ipython-input-19-575a438e2fc3>:5: RuntimeWarning: overflow encountered in exp\n",
            "  return 1.0 / (1.0 + np.exp(-z))\n",
            "<ipython-input-20-cf6e0809223e>:49: RuntimeWarning: divide by zero encountered in log\n",
            "  J = (1 / m) * np.sum(-y.dot(np.log(h)) - (1 - y).dot(np.log(1 - h))) + (lambda_ / (2 * m)) * np.sum(np.square(temp))\n",
            "<ipython-input-19-575a438e2fc3>:5: RuntimeWarning: overflow encountered in exp\n",
            "  return 1.0 / (1.0 + np.exp(-z))\n",
            "<ipython-input-20-cf6e0809223e>:49: RuntimeWarning: divide by zero encountered in log\n",
            "  J = (1 / m) * np.sum(-y.dot(np.log(h)) - (1 - y).dot(np.log(1 - h))) + (lambda_ / (2 * m)) * np.sum(np.square(temp))\n",
            "<ipython-input-19-575a438e2fc3>:5: RuntimeWarning: overflow encountered in exp\n",
            "  return 1.0 / (1.0 + np.exp(-z))\n",
            "<ipython-input-20-cf6e0809223e>:49: RuntimeWarning: divide by zero encountered in log\n",
            "  J = (1 / m) * np.sum(-y.dot(np.log(h)) - (1 - y).dot(np.log(1 - h))) + (lambda_ / (2 * m)) * np.sum(np.square(temp))\n"
          ]
        },
        {
          "output_type": "stream",
          "name": "stdout",
          "text": [
            "(10, 786)\n"
          ]
        }
      ]
    },
    {
      "cell_type": "code",
      "source": [
        "def predictOneVsAll(all_theta, X):\n",
        "    \"\"\"\n",
        "    Devuelve un vector de predicciones para cada ejemplo en la matriz X.\n",
        "    Tenga en cuenta que X contiene los ejemplos en filas.\n",
        "    all_theta es una matriz donde la i-ésima fila es un vector theta de regresión logística entrenada para la i-ésima clase.\n",
        "    Debe establecer p en un vector de valores de 0..K-1 (por ejemplo, p = [0, 2, 0, 1]\n",
        "    predice clases 0, 2, 0, 1 para 4 ejemplos).\n",
        "\n",
        "    Parametros\n",
        "    ----------\n",
        "    all_theta : array_like\n",
        "        The trained parameters for logistic regression for each class.\n",
        "        This is a matrix of shape (K x n+1) where K is number of classes\n",
        "        and n is number of features without the bias.\n",
        "\n",
        "    X : array_like\n",
        "        Data points to predict their labels. This is a matrix of shape\n",
        "        (m x n) where m is number of data points to predict, and n is number\n",
        "        of features without the bias term. Note we add the bias term for X in\n",
        "        this function.\n",
        "\n",
        "    Devuelve\n",
        "    -------\n",
        "    p : array_like\n",
        "        The predictions for each data point in X. This is a vector of shape (m, ).\n",
        "    \"\"\"\n",
        "\n",
        "    m = X.shape[0];\n",
        "    num_labels = all_theta.shape[0]\n",
        "\n",
        "    p = np.zeros(m)\n",
        "\n",
        "    # Add ones to the X data matrix\n",
        "    X = np.concatenate([np.ones((m, 1)), X], axis=1)\n",
        "    p = np.argmax(sigmoid(X.dot(all_theta.T)), axis = 1)\n",
        "\n",
        "    return p"
      ],
      "metadata": {
        "id": "o9xfvg7zZIlr"
      },
      "execution_count": 26,
      "outputs": []
    },
    {
      "cell_type": "code",
      "source": [
        "print(X.shape)\n",
        "pred = predictOneVsAll(all_theta, X)\n",
        "print('Precision del conjuto de entrenamiento: {:.2f}%'.format(np.mean(pred == y) * 100))\n",
        "XPrueba = X[10:150, :].copy()\n",
        "print(XPrueba.shape)\n",
        "#print(np.ones((1)))\n",
        "#print(XPrueba)\n",
        "#p = np.zeros(1)\n",
        "XPrueba = np.concatenate([np.ones((140, 1)), XPrueba], axis=1)\n",
        "print(XPrueba.shape)\n",
        "p = np.argmax(sigmoid(XPrueba.dot(all_theta.T)), axis = 1)\n",
        "print(p)\n",
        "\n",
        "#displayData(X[1002:1003, :])\n",
        "print(y[10:150])"
      ],
      "metadata": {
        "colab": {
          "base_uri": "https://localhost:8080/"
        },
        "id": "N0gf9J83Zh9R",
        "outputId": "e78303ab-6aa3-498d-e864-7df7d271105d"
      },
      "execution_count": 27,
      "outputs": [
        {
          "output_type": "stream",
          "name": "stdout",
          "text": [
            "(5980, 785)\n",
            "Precision del conjuto de entrenamiento: 98.70%\n",
            "(140, 785)\n",
            "(140, 786)\n",
            "[1 7 2 7 0 8 3 0 0 9 9 1 5 5 0 5 5 6 3 5 9 8 5 4 8 3 7 3 5 9 8 4 0 9 7 6 4\n",
            " 9 8 2 1 5 5 6 6 3 4 2 4 3 2 2 1 8 3 8 9 1 7 2 7 7 1 7 7 4 4 0 0 8 7 1 4 1\n",
            " 5 1 4 8 0 9 6 7 7 4 0 0 5 5 5 0 8 2 2 4 2 3 4 4 5 2 5 0 3 4 0 2 0 3 8 0 6\n",
            " 4 0 3 1 3 2 5 7 9 6 2 7 3 3 5 6 4 8 8 0 1 0 9 0 4 5 3 4 7]\n",
            "[1. 7. 2. 7. 0. 8. 3. 0. 0. 9. 9. 1. 5. 5. 0. 5. 5. 6. 3. 5. 9. 8. 5. 4.\n",
            " 8. 3. 7. 3. 5. 9. 8. 4. 0. 9. 7. 6. 4. 9. 8. 2. 1. 5. 5. 6. 6. 3. 4. 2.\n",
            " 4. 3. 2. 2. 1. 7. 3. 8. 0. 1. 7. 2. 7. 7. 1. 7. 7. 4. 4. 0. 0. 8. 7. 2.\n",
            " 4. 1. 5. 1. 4. 8. 0. 9. 6. 7. 7. 4. 0. 0. 5. 5. 5. 0. 8. 2. 2. 4. 2. 3.\n",
            " 4. 4. 5. 2. 5. 0. 3. 4. 0. 2. 0. 3. 8. 0. 6. 4. 0. 3. 1. 9. 2. 5. 7. 9.\n",
            " 6. 2. 7. 3. 3. 5. 6. 4. 8. 8. 0. 1. 0. 9. 0. 4. 5. 3. 4. 7.]\n"
          ]
        }
      ]
    },
    {
      "cell_type": "markdown",
      "source": [
        "Para la precision del modelo pudimos obtener un 98.70 por ciento que es muy aceptable y demuestra que nuestras predicciones son correctas"
      ],
      "metadata": {
        "id": "ViAOY7W2uLsG"
      }
    }
  ]
}