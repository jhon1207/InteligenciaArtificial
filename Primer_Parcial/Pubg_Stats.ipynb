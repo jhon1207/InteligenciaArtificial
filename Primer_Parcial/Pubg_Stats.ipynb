{
  "nbformat": 4,
  "nbformat_minor": 0,
  "metadata": {
    "colab": {
      "provenance": []
    },
    "kernelspec": {
      "name": "python3",
      "display_name": "Python 3"
    },
    "language_info": {
      "name": "python"
    }
  },
  "cells": [
    {
      "cell_type": "code",
      "source": [
        "from google.colab import drive\n",
        "drive.mount('/content/drive')"
      ],
      "metadata": {
        "colab": {
          "base_uri": "https://localhost:8080/"
        },
        "id": "pAgiX7OUNK0q",
        "outputId": "6f96e5d2-19b9-4fbd-f4b0-e7b87c06b93d"
      },
      "execution_count": null,
      "outputs": [
        {
          "output_type": "stream",
          "name": "stdout",
          "text": [
            "Mounted at /content/drive\n"
          ]
        }
      ]
    },
    {
      "cell_type": "code",
      "execution_count": null,
      "metadata": {
        "id": "TdJn6TpPMYo9"
      },
      "outputs": [],
      "source": [
        "# utilizado para manejos de directorios y rutas\n",
        "import os\n",
        "\n",
        "# Computacion vectorial y cientifica para python\n",
        "import numpy as np\n",
        "\n",
        "# Librerias para graficación (trazado de gráficos)\n",
        "from matplotlib import pyplot\n",
        "from mpl_toolkits.mplot3d import Axes3D  # Necesario para graficar superficies 3D\n",
        "\n",
        "# llama a matplotlib a embeber graficas dentro de los cuadernillos\n",
        "%matplotlib inline"
      ]
    },
    {
      "cell_type": "code",
      "source": [
        "import pandas as pd\n",
        "from sklearn.preprocessing import LabelEncoder\n",
        "from datetime import datetime"
      ],
      "metadata": {
        "id": "dunDam3YM53b"
      },
      "execution_count": null,
      "outputs": []
    },
    {
      "cell_type": "code",
      "source": [
        "#Carga de dataset\n",
        "data = pd.read_csv('/content/drive/MyDrive/SIS-420/DATASET/Pubg_Stats.csv')"
      ],
      "metadata": {
        "id": "Ec_UEOOxM7K-"
      },
      "execution_count": null,
      "outputs": []
    },
    {
      "cell_type": "code",
      "source": [
        "print(data)"
      ],
      "metadata": {
        "colab": {
          "base_uri": "https://localhost:8080/"
        },
        "id": "zfIdYsIeNzrU",
        "outputId": "0b0f070e-1926-40a7-cf70-da030c9a06dd"
      },
      "execution_count": null,
      "outputs": [
        {
          "output_type": "stream",
          "name": "stdout",
          "text": [
            "     Unnamed: 0      Player_Name  Matches_Played  Kills  Deaths  Assists  \\\n",
            "0             0    StealthMaster             250    587     143       98   \n",
            "1             1       SniperLion             312    823     218      112   \n",
            "2             2       NinjaGamer             186    492      84       56   \n",
            "3             3    ThunderStrike             409    923     267      134   \n",
            "4             4       SpeedDemon             143    368      68       42   \n",
            "..          ...              ...             ...    ...     ...      ...   \n",
            "216         216     CrimsonRider             294    743     187      132   \n",
            "217         217  BlazingSorcerer             203    521     109       72   \n",
            "218         218      FrozenFlare             206    553     117       76   \n",
            "219         219    AbyssGuardian             220    597     144       98   \n",
            "220         220  SpectralPhantom             225    624     149      100   \n",
            "\n",
            "     Damage_Dealt  Headshots  Wins  Top_10s  Revives  Distance_Traveled  \\\n",
            "0           15243        234    32      145       67              72560   \n",
            "1           18975        312    42      189       95              89042   \n",
            "2           11786        156    28       97       48              60924   \n",
            "3           21037        288    55      258      128              98234   \n",
            "4            9865        123    20       72       36              52072   \n",
            "..            ...        ...   ...      ...      ...                ...   \n",
            "216         17567        242    39      133       67              66987   \n",
            "217         13123        193    27       91       45              55487   \n",
            "218         13756        196    29       96       49              58789   \n",
            "219         14967        212    32      108       54              60978   \n",
            "220         15345        219    33      110       55              61789   \n",
            "\n",
            "     Weapons_Used  Time_Survived      Rank  \n",
            "0              12          28976      Gold  \n",
            "1              15          33652   Diamond  \n",
            "2              10          21764  Platinum  \n",
            "3              18          40128    Silver  \n",
            "4               8          16834      Gold  \n",
            "..            ...            ...       ...  \n",
            "216            13          28345   Diamond  \n",
            "217            10          23267      Gold  \n",
            "218            10          24579  Platinum  \n",
            "219            11          25679  Platinum  \n",
            "220            11          25967  Platinum  \n",
            "\n",
            "[221 rows x 15 columns]\n"
          ]
        }
      ]
    },
    {
      "cell_type": "code",
      "source": [
        "data.info()"
      ],
      "metadata": {
        "colab": {
          "base_uri": "https://localhost:8080/"
        },
        "id": "_dgX0-KKOKhz",
        "outputId": "36c9dc21-0e3f-46d4-e3ef-cf832ace1f68"
      },
      "execution_count": null,
      "outputs": [
        {
          "output_type": "stream",
          "name": "stdout",
          "text": [
            "<class 'pandas.core.frame.DataFrame'>\n",
            "RangeIndex: 221 entries, 0 to 220\n",
            "Data columns (total 15 columns):\n",
            " #   Column             Non-Null Count  Dtype \n",
            "---  ------             --------------  ----- \n",
            " 0   Unnamed: 0         221 non-null    int64 \n",
            " 1   Player_Name        221 non-null    object\n",
            " 2   Matches_Played     221 non-null    int64 \n",
            " 3   Kills              221 non-null    int64 \n",
            " 4   Deaths             221 non-null    int64 \n",
            " 5   Assists            221 non-null    int64 \n",
            " 6   Damage_Dealt       221 non-null    int64 \n",
            " 7   Headshots          221 non-null    int64 \n",
            " 8   Wins               221 non-null    int64 \n",
            " 9   Top_10s            221 non-null    int64 \n",
            " 10  Revives            221 non-null    int64 \n",
            " 11  Distance_Traveled  221 non-null    int64 \n",
            " 12  Weapons_Used       221 non-null    int64 \n",
            " 13  Time_Survived      221 non-null    int64 \n",
            " 14  Rank               221 non-null    object\n",
            "dtypes: int64(13), object(2)\n",
            "memory usage: 26.0+ KB\n"
          ]
        }
      ]
    },
    {
      "cell_type": "code",
      "source": [
        "columnas_eliminar = ['Unnamed: 0']\n",
        "data = data.drop(columnas_eliminar, axis=1)"
      ],
      "metadata": {
        "id": "GMvWeFVtORoU"
      },
      "execution_count": null,
      "outputs": []
    },
    {
      "cell_type": "code",
      "source": [
        "data.info()"
      ],
      "metadata": {
        "colab": {
          "base_uri": "https://localhost:8080/"
        },
        "id": "xCE6Da1pOiH0",
        "outputId": "a7126671-8d40-4591-8ea9-c6efc473ac16"
      },
      "execution_count": null,
      "outputs": [
        {
          "output_type": "stream",
          "name": "stdout",
          "text": [
            "<class 'pandas.core.frame.DataFrame'>\n",
            "RangeIndex: 221 entries, 0 to 220\n",
            "Data columns (total 14 columns):\n",
            " #   Column             Non-Null Count  Dtype \n",
            "---  ------             --------------  ----- \n",
            " 0   Player_Name        221 non-null    object\n",
            " 1   Matches_Played     221 non-null    int64 \n",
            " 2   Kills              221 non-null    int64 \n",
            " 3   Deaths             221 non-null    int64 \n",
            " 4   Assists            221 non-null    int64 \n",
            " 5   Damage_Dealt       221 non-null    int64 \n",
            " 6   Headshots          221 non-null    int64 \n",
            " 7   Wins               221 non-null    int64 \n",
            " 8   Top_10s            221 non-null    int64 \n",
            " 9   Revives            221 non-null    int64 \n",
            " 10  Distance_Traveled  221 non-null    int64 \n",
            " 11  Weapons_Used       221 non-null    int64 \n",
            " 12  Time_Survived      221 non-null    int64 \n",
            " 13  Rank               221 non-null    object\n",
            "dtypes: int64(12), object(2)\n",
            "memory usage: 24.3+ KB\n"
          ]
        }
      ]
    },
    {
      "cell_type": "code",
      "source": [
        "#variables categoricas\n",
        "columnas_categoricas = data.select_dtypes(include=['object']).columns"
      ],
      "metadata": {
        "id": "IMBlS1lYPL3q"
      },
      "execution_count": null,
      "outputs": []
    },
    {
      "cell_type": "code",
      "source": [
        "#Procesamiento de frases o palabras\n",
        "for columna in columnas_categoricas:\n",
        "  le = LabelEncoder()\n",
        "  data[columna] = le.fit_transform(data[columna])"
      ],
      "metadata": {
        "id": "hzQ0vU4ZPRdw"
      },
      "execution_count": null,
      "outputs": []
    },
    {
      "cell_type": "code",
      "source": [
        "data.info()"
      ],
      "metadata": {
        "colab": {
          "base_uri": "https://localhost:8080/"
        },
        "id": "IJ8pJC5TPcZJ",
        "outputId": "f1f74a00-3167-4ba4-a74f-9bc5be886a03"
      },
      "execution_count": null,
      "outputs": [
        {
          "output_type": "stream",
          "name": "stdout",
          "text": [
            "<class 'pandas.core.frame.DataFrame'>\n",
            "RangeIndex: 221 entries, 0 to 220\n",
            "Data columns (total 14 columns):\n",
            " #   Column             Non-Null Count  Dtype\n",
            "---  ------             --------------  -----\n",
            " 0   Player_Name        221 non-null    int64\n",
            " 1   Matches_Played     221 non-null    int64\n",
            " 2   Kills              221 non-null    int64\n",
            " 3   Deaths             221 non-null    int64\n",
            " 4   Assists            221 non-null    int64\n",
            " 5   Damage_Dealt       221 non-null    int64\n",
            " 6   Headshots          221 non-null    int64\n",
            " 7   Wins               221 non-null    int64\n",
            " 8   Top_10s            221 non-null    int64\n",
            " 9   Revives            221 non-null    int64\n",
            " 10  Distance_Traveled  221 non-null    int64\n",
            " 11  Weapons_Used       221 non-null    int64\n",
            " 12  Time_Survived      221 non-null    int64\n",
            " 13  Rank               221 non-null    int64\n",
            "dtypes: int64(14)\n",
            "memory usage: 24.3 KB\n"
          ]
        }
      ]
    },
    {
      "cell_type": "code",
      "source": [
        "# En caso de identificar la \"y\" en otra posicion, no ultima\n",
        "columnas_seleccionadas = list(range(0, 12)) + list(range(13, 14))\n",
        "X = data.iloc[:, columnas_seleccionadas]\n",
        "y = data.iloc[:, 12]\n",
        "m = y.size"
      ],
      "metadata": {
        "id": "m2xANGrnPqMy"
      },
      "execution_count": null,
      "outputs": []
    },
    {
      "cell_type": "code",
      "source": [
        "print(X)\n",
        "print('*'*25)\n",
        "print(y)"
      ],
      "metadata": {
        "colab": {
          "base_uri": "https://localhost:8080/"
        },
        "id": "MZzVPdINTMQ_",
        "outputId": "0c8792b7-9df0-4b48-80b3-c16702a60387"
      },
      "execution_count": null,
      "outputs": [
        {
          "output_type": "stream",
          "name": "stdout",
          "text": [
            "     Player_Name  Matches_Played  Kills  Deaths  Assists  Damage_Dealt  \\\n",
            "0             86             250    587     143       98         15243   \n",
            "1             78             312    823     218      112         18975   \n",
            "2             45             186    492      84       56         11786   \n",
            "3             95             409    923     267      134         21037   \n",
            "4             83             143    368      68       42          9865   \n",
            "..           ...             ...    ...     ...      ...           ...   \n",
            "216           12             294    743     187      132         17567   \n",
            "217            7             203    521     109       72         13123   \n",
            "218           34             206    553     117       76         13756   \n",
            "219            0             220    597     144       98         14967   \n",
            "220           81             225    624     149      100         15345   \n",
            "\n",
            "     Headshots  Wins  Top_10s  Revives  Distance_Traveled  Weapons_Used  Rank  \n",
            "0          234    32      145       67              72560            12     1  \n",
            "1          312    42      189       95              89042            15     0  \n",
            "2          156    28       97       48              60924            10     2  \n",
            "3          288    55      258      128              98234            18     3  \n",
            "4          123    20       72       36              52072             8     1  \n",
            "..         ...   ...      ...      ...                ...           ...   ...  \n",
            "216        242    39      133       67              66987            13     0  \n",
            "217        193    27       91       45              55487            10     1  \n",
            "218        196    29       96       49              58789            10     2  \n",
            "219        212    32      108       54              60978            11     2  \n",
            "220        219    33      110       55              61789            11     2  \n",
            "\n",
            "[221 rows x 13 columns]\n",
            "*************************\n",
            "0      28976\n",
            "1      33652\n",
            "2      21764\n",
            "3      40128\n",
            "4      16834\n",
            "       ...  \n",
            "216    28345\n",
            "217    23267\n",
            "218    24579\n",
            "219    25679\n",
            "220    25967\n",
            "Name: Time_Survived, Length: 221, dtype: int64\n"
          ]
        }
      ]
    },
    {
      "cell_type": "code",
      "source": [
        "def  featureNormalize(X):\n",
        "    X_norm = X.copy()\n",
        "    mu = np.zeros(X.shape[1])\n",
        "    sigma = np.zeros(X.shape[1])\n",
        "\n",
        "    mu = np.mean(X, axis = 0)\n",
        "    sigma = np.std(X, axis = 0)\n",
        "    X_norm = (X - mu) / sigma\n",
        "\n",
        "    return X_norm, mu, sigma"
      ],
      "metadata": {
        "id": "g9spMNJ8UqZC"
      },
      "execution_count": null,
      "outputs": []
    },
    {
      "cell_type": "code",
      "source": [
        "# llama featureNormalize con los datos cargados\n",
        "X_norm, mu, sigma = featureNormalize(X)\n",
        "\n",
        "print(X)\n",
        "print('Media calculada:', mu)\n",
        "print('Desviación estandar calculada:', sigma)\n",
        "print(X_norm)"
      ],
      "metadata": {
        "colab": {
          "base_uri": "https://localhost:8080/"
        },
        "id": "Wg_Nt9ERUs1S",
        "outputId": "eeb2ffb5-fc98-497a-9fd0-de598c03d67b"
      },
      "execution_count": null,
      "outputs": [
        {
          "output_type": "stream",
          "name": "stdout",
          "text": [
            "     Player_Name  Matches_Played  Kills  Deaths  Assists  Damage_Dealt  \\\n",
            "0             86             250    587     143       98         15243   \n",
            "1             78             312    823     218      112         18975   \n",
            "2             45             186    492      84       56         11786   \n",
            "3             95             409    923     267      134         21037   \n",
            "4             83             143    368      68       42          9865   \n",
            "..           ...             ...    ...     ...      ...           ...   \n",
            "216           12             294    743     187      132         17567   \n",
            "217            7             203    521     109       72         13123   \n",
            "218           34             206    553     117       76         13756   \n",
            "219            0             220    597     144       98         14967   \n",
            "220           81             225    624     149      100         15345   \n",
            "\n",
            "     Headshots  Wins  Top_10s  Revives  Distance_Traveled  Weapons_Used  Rank  \n",
            "0          234    32      145       67              72560            12     1  \n",
            "1          312    42      189       95              89042            15     0  \n",
            "2          156    28       97       48              60924            10     2  \n",
            "3          288    55      258      128              98234            18     3  \n",
            "4          123    20       72       36              52072             8     1  \n",
            "..         ...   ...      ...      ...                ...           ...   ...  \n",
            "216        242    39      133       67              66987            13     0  \n",
            "217        193    27       91       45              55487            10     1  \n",
            "218        196    29       96       49              58789            10     2  \n",
            "219        212    32      108       54              60978            11     2  \n",
            "220        219    33      110       55              61789            11     2  \n",
            "\n",
            "[221 rows x 13 columns]\n",
            "Media calculada: Player_Name             54.054299\n",
            "Matches_Played         234.624434\n",
            "Kills                  612.674208\n",
            "Deaths                 142.579186\n",
            "Assists                 92.615385\n",
            "Damage_Dealt         14801.004525\n",
            "Headshots              207.361991\n",
            "Wins                    31.895928\n",
            "Top_10s                110.357466\n",
            "Revives                 54.330317\n",
            "Distance_Traveled    61449.316742\n",
            "Weapons_Used            10.859729\n",
            "Rank                     1.235294\n",
            "dtype: float64\n",
            "Desviación estandar calculada: Player_Name            30.282632\n",
            "Matches_Played         37.094220\n",
            "Kills                  89.108926\n",
            "Deaths                 32.808085\n",
            "Assists                21.374522\n",
            "Damage_Dealt         1898.637781\n",
            "Headshots              29.708466\n",
            "Wins                    5.793039\n",
            "Top_10s                23.740753\n",
            "Revives                10.412507\n",
            "Distance_Traveled    5762.447576\n",
            "Weapons_Used            1.315848\n",
            "Rank                    0.896864\n",
            "dtype: float64\n",
            "     Player_Name  Matches_Played     Kills    Deaths   Assists  Damage_Dealt  \\\n",
            "0       1.054918        0.414500 -0.288122  0.012827  0.251917      0.232796   \n",
            "1       0.790740        2.085920  2.360322  2.298848  0.906903      2.198416   \n",
            "2      -0.298993       -1.310836 -1.354233 -1.785511 -1.713039     -1.587983   \n",
            "3       1.352118        4.700882  3.482544  3.792383  1.936166      3.284458   \n",
            "4       0.955852       -2.470046 -2.745788 -2.273195 -2.368024     -2.599761   \n",
            "..           ...             ...       ...       ...       ...           ...   \n",
            "216    -1.388727        1.600669  1.462545  1.353959  1.842596      1.456832   \n",
            "217    -1.553838       -0.852543 -1.028788 -1.023503 -0.964484     -0.883794   \n",
            "218    -0.662238       -0.771668 -0.669677 -0.779661 -0.777345     -0.550397   \n",
            "219    -1.784993       -0.394251 -0.175899  0.043307  0.251917      0.087429   \n",
            "220     0.889807       -0.259459  0.127101  0.195708  0.345487      0.286519   \n",
            "\n",
            "     Headshots      Wins   Top_10s   Revives  Distance_Traveled  Weapons_Used  \\\n",
            "0     0.896647  0.017965  1.459201  1.216775           1.928119      0.866568   \n",
            "1     3.522161  1.744175  3.312554  3.905849           4.788362      3.146467   \n",
            "2    -1.728867 -0.672519 -0.562639 -0.607953          -0.091162     -0.653365   \n",
            "3     2.714311  3.988247  6.218949  7.075115           6.383517      5.426366   \n",
            "4    -2.839662 -2.053486 -1.615680 -1.760413          -1.627315     -2.173298   \n",
            "..         ...       ...       ...       ...                ...           ...   \n",
            "216   1.165931  1.226312  0.953741  1.216775           0.960995      1.626534   \n",
            "217  -0.483431 -0.845140 -0.815369 -0.896068          -1.034685     -0.653365   \n",
            "218  -0.382450 -0.499898 -0.604760 -0.511915          -0.461664     -0.653365   \n",
            "219   0.156117  0.017965 -0.099300 -0.031723          -0.081791      0.106602   \n",
            "220   0.391740  0.190586 -0.015057  0.064315           0.058948      0.106602   \n",
            "\n",
            "         Rank  \n",
            "0   -0.262352  \n",
            "1   -1.377348  \n",
            "2    0.852644  \n",
            "3    1.967640  \n",
            "4   -0.262352  \n",
            "..        ...  \n",
            "216 -1.377348  \n",
            "217 -0.262352  \n",
            "218  0.852644  \n",
            "219  0.852644  \n",
            "220  0.852644  \n",
            "\n",
            "[221 rows x 13 columns]\n"
          ]
        }
      ]
    },
    {
      "cell_type": "code",
      "source": [
        "# Añade el termino de interseccion a X\n",
        "# (Columna de unos para X0)\n",
        "X = np.concatenate([np.ones((m, 1)), X_norm], axis=1)"
      ],
      "metadata": {
        "id": "f1-X2MqWU6a0"
      },
      "execution_count": null,
      "outputs": []
    },
    {
      "cell_type": "code",
      "source": [
        "print(X)"
      ],
      "metadata": {
        "colab": {
          "base_uri": "https://localhost:8080/"
        },
        "id": "HA7XDWLGU9A_",
        "outputId": "8031a9a7-99bb-4028-967d-7eee34874291"
      },
      "execution_count": null,
      "outputs": [
        {
          "output_type": "stream",
          "name": "stdout",
          "text": [
            "[[ 1.          1.05491827  0.41450031 ...  1.92811876  0.866568\n",
            "  -0.26235204]\n",
            " [ 1.          0.79074044  2.08591976 ...  4.7883617   3.14646713\n",
            "  -1.37734818]\n",
            " [ 1.         -0.29899312 -1.31083589 ... -0.09116209 -0.65336476\n",
            "   0.85264411]\n",
            " ...\n",
            " [ 1.         -0.66223765 -0.77166833 ... -0.46166437 -0.65336476\n",
            "   0.85264411]\n",
            " [ 1.         -1.78499344 -0.39425103 ... -0.08179107  0.10660162\n",
            "   0.85264411]\n",
            " [ 1.          0.88980713 -0.25945914 ...  0.05894774  0.10660162\n",
            "   0.85264411]]\n"
          ]
        }
      ]
    },
    {
      "cell_type": "code",
      "source": [
        "def computeCostMulti(X, y, theta):\n",
        "    # Inicializa algunos valores utiles\n",
        "    m = y.shape[0] # numero de ejemplos de entrenamiento\n",
        "\n",
        "    J = 0\n",
        "\n",
        "    h = np.dot(X, theta)\n",
        "\n",
        "    J = (1/(2 * m)) * np.sum(np.square(np.dot(X, theta) - y))\n",
        "\n",
        "    return J\n"
      ],
      "metadata": {
        "id": "Uc0tqS-XVCW8"
      },
      "execution_count": null,
      "outputs": []
    },
    {
      "cell_type": "code",
      "source": [
        "def gradientDescentMulti(X, y, theta, alpha, num_iters):\n",
        "\n",
        "    # Inicializa algunos valores\n",
        "    m = y.shape[0] # numero de ejemplos de entrenamiento\n",
        "\n",
        "    # realiza una copia de theta, el cual será acutalizada por el descenso por el gradiente\n",
        "    theta = theta.copy()\n",
        "\n",
        "    J_history = []\n",
        "\n",
        "    for i in range(num_iters):\n",
        "        theta = theta - (alpha / m) * (np.dot(X, theta) - y).dot(X)\n",
        "        J_history.append(computeCostMulti(X, y, theta))\n",
        "\n",
        "    return theta, J_history"
      ],
      "metadata": {
        "id": "y-2fAHUiVM4H"
      },
      "execution_count": null,
      "outputs": []
    },
    {
      "cell_type": "code",
      "source": [
        "fila_deseada = 2\n",
        "\n",
        "if fila_deseada < len(data):\n",
        "  fila_completa = data.iloc[fila_deseada].to_numpy()\n",
        "  print(fila_completa)\n",
        "else:\n",
        "  print(\"La fila no existe\")"
      ],
      "metadata": {
        "colab": {
          "base_uri": "https://localhost:8080/"
        },
        "id": "Nx4BV7WuVnBC",
        "outputId": "6f367f60-5cfe-463a-b811-f48d7dc14287"
      },
      "execution_count": null,
      "outputs": [
        {
          "output_type": "stream",
          "name": "stdout",
          "text": [
            "[   45   186   492    84    56 11786   156    28    97    48 60924    10\n",
            " 21764     2]\n"
          ]
        }
      ]
    },
    {
      "cell_type": "code",
      "source": [
        "# Elegir algun valor para alpha (probar varias alternativas)\n",
        "alpha = 0.0005\n",
        "num_iters = 10000\n",
        "\n",
        "# inicializa theta y ejecuta el descenso por el gradiente\n",
        "theta = np.zeros(14)\n",
        "theta, J_history = gradientDescentMulti(X, y, theta, alpha, num_iters)\n",
        "\n",
        "# Grafica la convergencia del costo\n",
        "pyplot.plot(np.arange(len(J_history)), J_history, lw=2)\n",
        "pyplot.xlabel('Numero de iteraciones')\n",
        "pyplot.ylabel('Costo J')\n",
        "\n",
        "# Muestra los resultados del descenso por el gradiente\n",
        "print('theta calculado por el descenso por el gradiente: {:s}'.format(str(theta)))\n",
        "\n",
        "# Estimar el precio para un smart watch con distintas caracteristicas\n",
        "#X_array = [1, 78, 312, 823, 218, 112, 18975, 312, 42, 189, 95, 89042, 1, 0]\n",
        "X_array = [1, 45, 186, 492, 84, 56, 11786, 156, 28, 97, 48, 60924, 10, 2]\n",
        "X_array[1:14] = (X_array[1:14] - mu) / sigma\n",
        "price = np.dot(X_array, theta)   # Se debe cambiar esto\n",
        "\n",
        "print('El valor predecido es (usando el descenso por el gradiente): {:.4f}'.format(price))"
      ],
      "metadata": {
        "colab": {
          "base_uri": "https://localhost:8080/",
          "height": 552
        },
        "id": "wEgsQ-1ZVQSw",
        "outputId": "c3b684d5-5262-46e4-fe05-03e36aa85b2f"
      },
      "execution_count": null,
      "outputs": [
        {
          "output_type": "stream",
          "name": "stdout",
          "text": [
            "theta calculado por el descenso por el gradiente: [25273.19189705   -69.75746103   222.04991803   115.53364067\n",
            "    62.41373097   114.01791405   255.54495733   384.48644061\n",
            "   264.51504737   333.05812715   360.67404886   459.7709148\n",
            "   192.56029762   103.76764844]\n",
            "El valor predecido es (usando el descenso por el gradiente): 22805.4294\n"
          ]
        },
        {
          "output_type": "display_data",
          "data": {
            "text/plain": [
              "<Figure size 640x480 with 1 Axes>"
            ],
            "image/png": "[encoded data removed]"
          },
          "metadata": {}
        }
      ]
    }
  ]
}