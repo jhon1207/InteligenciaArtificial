{
  "nbformat": 4,
  "nbformat_minor": 0,
  "metadata": {
    "colab": {
      "provenance": []
    },
    "kernelspec": {
      "name": "python3",
      "display_name": "Python 3"
    },
    "language_info": {
      "name": "python"
    }
  },
  "cells": [
    {
      "cell_type": "code",
      "execution_count": 1,
      "metadata": {
        "id": "cDact2VCDANd"
      },
      "outputs": [],
      "source": [
        "# se utiliza para el manejo de rutas y directorios.\n",
        "import os\n",
        "\n",
        "# Calculo cientifico y vectorial para python\n",
        "import numpy as np\n",
        "\n",
        "# Librerias para graficar\n",
        "from matplotlib import pyplot\n",
        "\n",
        "# Modulo de optimización de scipy\n",
        "from scipy import optimize\n",
        "\n",
        "# le dice a matplotlib que incruste gráficos en el cuaderno\n",
        "%matplotlib inline\n",
        "\n",
        "import pandas as pd\n",
        "from sklearn.preprocessing import LabelEncoder\n",
        "from datetime import datetime\n",
        "\n",
        "# Importar libreria para dividir entrenamiento y prueba\n",
        "from sklearn.model_selection import train_test_split"
      ]
    },
    {
      "cell_type": "markdown",
      "source": [
        "Para la division de los datos del 80% para entrenamiento y 20% para prueba utilice la libreria from sklearn.model_selection import train_test_split que nos ayudara a dividir un conjunto de datos en subconjuntos esta division se realizara en forma aleatoria tanta para el entrenamineto como para la prueba"
      ],
      "metadata": {
        "id": "jPBk4l47eyJG"
      }
    },
    {
      "cell_type": "code",
      "source": [
        "from google.colab import drive\n",
        "drive.mount('/content/drive')"
      ],
      "metadata": {
        "colab": {
          "base_uri": "https://localhost:8080/"
        },
        "id": "V6rmUAM8EdIc",
        "outputId": "edc949c8-776b-4cf9-f5ee-28b59e07a260"
      },
      "execution_count": 2,
      "outputs": [
        {
          "output_type": "stream",
          "name": "stdout",
          "text": [
            "Drive already mounted at /content/drive; to attempt to forcibly remount, call drive.mount(\"/content/drive\", force_remount=True).\n"
          ]
        }
      ]
    },
    {
      "cell_type": "code",
      "source": [
        "#Carga de dataset\n",
        "data = pd.read_csv('/content/drive/MyDrive/Colab Notebooks/Datasets/hotel_bookings.csv')"
      ],
      "metadata": {
        "id": "TWTGtrUVEgH1"
      },
      "execution_count": 3,
      "outputs": []
    },
    {
      "cell_type": "code",
      "source": [
        "print(data)"
      ],
      "metadata": {
        "colab": {
          "base_uri": "https://localhost:8080/"
        },
        "id": "3xGmrWC4EmWB",
        "outputId": "10baf0a4-bd9c-455f-99e1-9abc453ae27c"
      },
      "execution_count": 4,
      "outputs": [
        {
          "output_type": "stream",
          "name": "stdout",
          "text": [
            "               hotel  is_canceled  lead_time  arrival_date_year  \\\n",
            "0       Resort Hotel            0        342               2015   \n",
            "1       Resort Hotel            0        737               2015   \n",
            "2       Resort Hotel            0          7               2015   \n",
            "3       Resort Hotel            0         13               2015   \n",
            "4       Resort Hotel            0         14               2015   \n",
            "...              ...          ...        ...                ...   \n",
            "119385    City Hotel            0         23               2017   \n",
            "119386    City Hotel            0        102               2017   \n",
            "119387    City Hotel            0         34               2017   \n",
            "119388    City Hotel            0        109               2017   \n",
            "119389    City Hotel            0        205               2017   \n",
            "\n",
            "       arrival_date_month  arrival_date_week_number  \\\n",
            "0                    July                        27   \n",
            "1                    July                        27   \n",
            "2                    July                        27   \n",
            "3                    July                        27   \n",
            "4                    July                        27   \n",
            "...                   ...                       ...   \n",
            "119385             August                        35   \n",
            "119386             August                        35   \n",
            "119387             August                        35   \n",
            "119388             August                        35   \n",
            "119389             August                        35   \n",
            "\n",
            "        arrival_date_day_of_month  stays_in_weekend_nights  \\\n",
            "0                               1                        0   \n",
            "1                               1                        0   \n",
            "2                               1                        0   \n",
            "3                               1                        0   \n",
            "4                               1                        0   \n",
            "...                           ...                      ...   \n",
            "119385                         30                        2   \n",
            "119386                         31                        2   \n",
            "119387                         31                        2   \n",
            "119388                         31                        2   \n",
            "119389                         29                        2   \n",
            "\n",
            "        stays_in_week_nights  adults  ...  deposit_type  agent company  \\\n",
            "0                          0       2  ...    No Deposit    NaN     NaN   \n",
            "1                          0       2  ...    No Deposit    NaN     NaN   \n",
            "2                          1       1  ...    No Deposit    NaN     NaN   \n",
            "3                          1       1  ...    No Deposit  304.0     NaN   \n",
            "4                          2       2  ...    No Deposit  240.0     NaN   \n",
            "...                      ...     ...  ...           ...    ...     ...   \n",
            "119385                     5       2  ...    No Deposit  394.0     NaN   \n",
            "119386                     5       3  ...    No Deposit    9.0     NaN   \n",
            "119387                     5       2  ...    No Deposit    9.0     NaN   \n",
            "119388                     5       2  ...    No Deposit   89.0     NaN   \n",
            "119389                     7       2  ...    No Deposit    9.0     NaN   \n",
            "\n",
            "       days_in_waiting_list customer_type     adr  \\\n",
            "0                         0     Transient    0.00   \n",
            "1                         0     Transient    0.00   \n",
            "2                         0     Transient   75.00   \n",
            "3                         0     Transient   75.00   \n",
            "4                         0     Transient   98.00   \n",
            "...                     ...           ...     ...   \n",
            "119385                    0     Transient   96.14   \n",
            "119386                    0     Transient  225.43   \n",
            "119387                    0     Transient  157.71   \n",
            "119388                    0     Transient  104.40   \n",
            "119389                    0     Transient  151.20   \n",
            "\n",
            "        required_car_parking_spaces  total_of_special_requests  \\\n",
            "0                                 0                          0   \n",
            "1                                 0                          0   \n",
            "2                                 0                          0   \n",
            "3                                 0                          0   \n",
            "4                                 0                          1   \n",
            "...                             ...                        ...   \n",
            "119385                            0                          0   \n",
            "119386                            0                          2   \n",
            "119387                            0                          4   \n",
            "119388                            0                          0   \n",
            "119389                            0                          2   \n",
            "\n",
            "        reservation_status reservation_status_date  \n",
            "0                Check-Out              2015-07-01  \n",
            "1                Check-Out              2015-07-01  \n",
            "2                Check-Out              2015-07-02  \n",
            "3                Check-Out              2015-07-02  \n",
            "4                Check-Out              2015-07-03  \n",
            "...                    ...                     ...  \n",
            "119385           Check-Out              2017-09-06  \n",
            "119386           Check-Out              2017-09-07  \n",
            "119387           Check-Out              2017-09-07  \n",
            "119388           Check-Out              2017-09-07  \n",
            "119389           Check-Out              2017-09-07  \n",
            "\n",
            "[119390 rows x 32 columns]\n"
          ]
        }
      ]
    },
    {
      "cell_type": "markdown",
      "source": [
        "Mi Y para el ejercicicio es la columna 2 is_canceled que nos indica si realizo una reserva o no"
      ],
      "metadata": {
        "id": "JMZS_HS_gYCB"
      }
    },
    {
      "cell_type": "code",
      "source": [
        "data.info()"
      ],
      "metadata": {
        "colab": {
          "base_uri": "https://localhost:8080/"
        },
        "id": "d1FXvyUHFhEy",
        "outputId": "09d139a3-381d-40ec-a9f6-ff5a2e229c6b"
      },
      "execution_count": 5,
      "outputs": [
        {
          "output_type": "stream",
          "name": "stdout",
          "text": [
            "<class 'pandas.core.frame.DataFrame'>\n",
            "RangeIndex: 119390 entries, 0 to 119389\n",
            "Data columns (total 32 columns):\n",
            " #   Column                          Non-Null Count   Dtype  \n",
            "---  ------                          --------------   -----  \n",
            " 0   hotel                           119390 non-null  object \n",
            " 1   is_canceled                     119390 non-null  int64  \n",
            " 2   lead_time                       119390 non-null  int64  \n",
            " 3   arrival_date_year               119390 non-null  int64  \n",
            " 4   arrival_date_month              119390 non-null  object \n",
            " 5   arrival_date_week_number        119390 non-null  int64  \n",
            " 6   arrival_date_day_of_month       119390 non-null  int64  \n",
            " 7   stays_in_weekend_nights         119390 non-null  int64  \n",
            " 8   stays_in_week_nights            119390 non-null  int64  \n",
            " 9   adults                          119390 non-null  int64  \n",
            " 10  children                        119386 non-null  float64\n",
            " 11  babies                          119390 non-null  int64  \n",
            " 12  meal                            119390 non-null  object \n",
            " 13  country                         118902 non-null  object \n",
            " 14  market_segment                  119390 non-null  object \n",
            " 15  distribution_channel            119390 non-null  object \n",
            " 16  is_repeated_guest               119390 non-null  int64  \n",
            " 17  previous_cancellations          119390 non-null  int64  \n",
            " 18  previous_bookings_not_canceled  119390 non-null  int64  \n",
            " 19  reserved_room_type              119390 non-null  object \n",
            " 20  assigned_room_type              119390 non-null  object \n",
            " 21  booking_changes                 119390 non-null  int64  \n",
            " 22  deposit_type                    119390 non-null  object \n",
            " 23  agent                           103050 non-null  float64\n",
            " 24  company                         6797 non-null    float64\n",
            " 25  days_in_waiting_list            119390 non-null  int64  \n",
            " 26  customer_type                   119390 non-null  object \n",
            " 27  adr                             119390 non-null  float64\n",
            " 28  required_car_parking_spaces     119390 non-null  int64  \n",
            " 29  total_of_special_requests       119390 non-null  int64  \n",
            " 30  reservation_status              119390 non-null  object \n",
            " 31  reservation_status_date         119390 non-null  object \n",
            "dtypes: float64(4), int64(16), object(12)\n",
            "memory usage: 29.1+ MB\n"
          ]
        }
      ]
    },
    {
      "cell_type": "code",
      "source": [
        "columnas_eliminar = ['company']\n",
        "data = data.drop(columnas_eliminar, axis=1)"
      ],
      "metadata": {
        "id": "UJGUr2x9F4tT"
      },
      "execution_count": 6,
      "outputs": []
    },
    {
      "cell_type": "code",
      "source": [
        "data.info()"
      ],
      "metadata": {
        "colab": {
          "base_uri": "https://localhost:8080/"
        },
        "id": "diYwz2TpGFDN",
        "outputId": "3f7ca36a-bf75-42cb-9a75-699d340c2455"
      },
      "execution_count": 7,
      "outputs": [
        {
          "output_type": "stream",
          "name": "stdout",
          "text": [
            "<class 'pandas.core.frame.DataFrame'>\n",
            "RangeIndex: 119390 entries, 0 to 119389\n",
            "Data columns (total 31 columns):\n",
            " #   Column                          Non-Null Count   Dtype  \n",
            "---  ------                          --------------   -----  \n",
            " 0   hotel                           119390 non-null  object \n",
            " 1   is_canceled                     119390 non-null  int64  \n",
            " 2   lead_time                       119390 non-null  int64  \n",
            " 3   arrival_date_year               119390 non-null  int64  \n",
            " 4   arrival_date_month              119390 non-null  object \n",
            " 5   arrival_date_week_number        119390 non-null  int64  \n",
            " 6   arrival_date_day_of_month       119390 non-null  int64  \n",
            " 7   stays_in_weekend_nights         119390 non-null  int64  \n",
            " 8   stays_in_week_nights            119390 non-null  int64  \n",
            " 9   adults                          119390 non-null  int64  \n",
            " 10  children                        119386 non-null  float64\n",
            " 11  babies                          119390 non-null  int64  \n",
            " 12  meal                            119390 non-null  object \n",
            " 13  country                         118902 non-null  object \n",
            " 14  market_segment                  119390 non-null  object \n",
            " 15  distribution_channel            119390 non-null  object \n",
            " 16  is_repeated_guest               119390 non-null  int64  \n",
            " 17  previous_cancellations          119390 non-null  int64  \n",
            " 18  previous_bookings_not_canceled  119390 non-null  int64  \n",
            " 19  reserved_room_type              119390 non-null  object \n",
            " 20  assigned_room_type              119390 non-null  object \n",
            " 21  booking_changes                 119390 non-null  int64  \n",
            " 22  deposit_type                    119390 non-null  object \n",
            " 23  agent                           103050 non-null  float64\n",
            " 24  days_in_waiting_list            119390 non-null  int64  \n",
            " 25  customer_type                   119390 non-null  object \n",
            " 26  adr                             119390 non-null  float64\n",
            " 27  required_car_parking_spaces     119390 non-null  int64  \n",
            " 28  total_of_special_requests       119390 non-null  int64  \n",
            " 29  reservation_status              119390 non-null  object \n",
            " 30  reservation_status_date         119390 non-null  object \n",
            "dtypes: float64(3), int64(16), object(12)\n",
            "memory usage: 28.2+ MB\n"
          ]
        }
      ]
    },
    {
      "cell_type": "code",
      "source": [
        "#variables categoricas\n",
        "columnas_categoricas = data.select_dtypes(include=['object']).columns"
      ],
      "metadata": {
        "id": "sI_O9nnzGLGp"
      },
      "execution_count": 8,
      "outputs": []
    },
    {
      "cell_type": "code",
      "source": [
        "#Procesamiento de frases o palabras\n",
        "for columna in columnas_categoricas:\n",
        "  le = LabelEncoder()\n",
        "  data[columna] = le.fit_transform(data[columna])"
      ],
      "metadata": {
        "id": "zzGTWM0KGUef"
      },
      "execution_count": 9,
      "outputs": []
    },
    {
      "cell_type": "markdown",
      "source": [
        "Con el siguiente codigo converti todas las columnas que estaban en objeto a numeros para eso utilice la libreria LabelEncoder que es utilizada para transformar etiquetas de texto en numeros enteros\n"
      ],
      "metadata": {
        "id": "nRTWEu-whlKl"
      }
    },
    {
      "cell_type": "code",
      "source": [
        "data.info()"
      ],
      "metadata": {
        "colab": {
          "base_uri": "https://localhost:8080/"
        },
        "id": "oS56jFsvGad2",
        "outputId": "510edf1d-b162-4c8d-e878-b7dd6d57e7bb"
      },
      "execution_count": 10,
      "outputs": [
        {
          "output_type": "stream",
          "name": "stdout",
          "text": [
            "<class 'pandas.core.frame.DataFrame'>\n",
            "RangeIndex: 119390 entries, 0 to 119389\n",
            "Data columns (total 31 columns):\n",
            " #   Column                          Non-Null Count   Dtype  \n",
            "---  ------                          --------------   -----  \n",
            " 0   hotel                           119390 non-null  int64  \n",
            " 1   is_canceled                     119390 non-null  int64  \n",
            " 2   lead_time                       119390 non-null  int64  \n",
            " 3   arrival_date_year               119390 non-null  int64  \n",
            " 4   arrival_date_month              119390 non-null  int64  \n",
            " 5   arrival_date_week_number        119390 non-null  int64  \n",
            " 6   arrival_date_day_of_month       119390 non-null  int64  \n",
            " 7   stays_in_weekend_nights         119390 non-null  int64  \n",
            " 8   stays_in_week_nights            119390 non-null  int64  \n",
            " 9   adults                          119390 non-null  int64  \n",
            " 10  children                        119386 non-null  float64\n",
            " 11  babies                          119390 non-null  int64  \n",
            " 12  meal                            119390 non-null  int64  \n",
            " 13  country                         119390 non-null  int64  \n",
            " 14  market_segment                  119390 non-null  int64  \n",
            " 15  distribution_channel            119390 non-null  int64  \n",
            " 16  is_repeated_guest               119390 non-null  int64  \n",
            " 17  previous_cancellations          119390 non-null  int64  \n",
            " 18  previous_bookings_not_canceled  119390 non-null  int64  \n",
            " 19  reserved_room_type              119390 non-null  int64  \n",
            " 20  assigned_room_type              119390 non-null  int64  \n",
            " 21  booking_changes                 119390 non-null  int64  \n",
            " 22  deposit_type                    119390 non-null  int64  \n",
            " 23  agent                           103050 non-null  float64\n",
            " 24  days_in_waiting_list            119390 non-null  int64  \n",
            " 25  customer_type                   119390 non-null  int64  \n",
            " 26  adr                             119390 non-null  float64\n",
            " 27  required_car_parking_spaces     119390 non-null  int64  \n",
            " 28  total_of_special_requests       119390 non-null  int64  \n",
            " 29  reservation_status              119390 non-null  int64  \n",
            " 30  reservation_status_date         119390 non-null  int64  \n",
            "dtypes: float64(3), int64(28)\n",
            "memory usage: 28.2 MB\n"
          ]
        }
      ]
    },
    {
      "cell_type": "code",
      "source": [
        "#llenar datos vacios\n",
        "columnas_especificas = ['children', 'agent']\n",
        "media_columnas = data[columnas_especificas].mean()\n",
        "data[columnas_especificas] = data[columnas_especificas].fillna(media_columnas)"
      ],
      "metadata": {
        "id": "pMMxYgkZHc5z"
      },
      "execution_count": 11,
      "outputs": []
    },
    {
      "cell_type": "markdown",
      "source": [
        "como en mi data set me di cuenta que en 2 columnas no estaban con los datos completos asi que opte de sacar la media de las columnas para remplazar con la misma cantidad de datos que utiliza el metodo mean() de la libreria pandas"
      ],
      "metadata": {
        "id": "bZG4F1QFh5p4"
      }
    },
    {
      "cell_type": "code",
      "source": [
        "data.info()"
      ],
      "metadata": {
        "colab": {
          "base_uri": "https://localhost:8080/"
        },
        "id": "EUqmBUeFIPuT",
        "outputId": "0750e8f9-0839-47e9-e996-d1abcbb39162"
      },
      "execution_count": 12,
      "outputs": [
        {
          "output_type": "stream",
          "name": "stdout",
          "text": [
            "<class 'pandas.core.frame.DataFrame'>\n",
            "RangeIndex: 119390 entries, 0 to 119389\n",
            "Data columns (total 31 columns):\n",
            " #   Column                          Non-Null Count   Dtype  \n",
            "---  ------                          --------------   -----  \n",
            " 0   hotel                           119390 non-null  int64  \n",
            " 1   is_canceled                     119390 non-null  int64  \n",
            " 2   lead_time                       119390 non-null  int64  \n",
            " 3   arrival_date_year               119390 non-null  int64  \n",
            " 4   arrival_date_month              119390 non-null  int64  \n",
            " 5   arrival_date_week_number        119390 non-null  int64  \n",
            " 6   arrival_date_day_of_month       119390 non-null  int64  \n",
            " 7   stays_in_weekend_nights         119390 non-null  int64  \n",
            " 8   stays_in_week_nights            119390 non-null  int64  \n",
            " 9   adults                          119390 non-null  int64  \n",
            " 10  children                        119390 non-null  float64\n",
            " 11  babies                          119390 non-null  int64  \n",
            " 12  meal                            119390 non-null  int64  \n",
            " 13  country                         119390 non-null  int64  \n",
            " 14  market_segment                  119390 non-null  int64  \n",
            " 15  distribution_channel            119390 non-null  int64  \n",
            " 16  is_repeated_guest               119390 non-null  int64  \n",
            " 17  previous_cancellations          119390 non-null  int64  \n",
            " 18  previous_bookings_not_canceled  119390 non-null  int64  \n",
            " 19  reserved_room_type              119390 non-null  int64  \n",
            " 20  assigned_room_type              119390 non-null  int64  \n",
            " 21  booking_changes                 119390 non-null  int64  \n",
            " 22  deposit_type                    119390 non-null  int64  \n",
            " 23  agent                           119390 non-null  float64\n",
            " 24  days_in_waiting_list            119390 non-null  int64  \n",
            " 25  customer_type                   119390 non-null  int64  \n",
            " 26  adr                             119390 non-null  float64\n",
            " 27  required_car_parking_spaces     119390 non-null  int64  \n",
            " 28  total_of_special_requests       119390 non-null  int64  \n",
            " 29  reservation_status              119390 non-null  int64  \n",
            " 30  reservation_status_date         119390 non-null  int64  \n",
            "dtypes: float64(3), int64(28)\n",
            "memory usage: 28.2 MB\n"
          ]
        }
      ]
    },
    {
      "cell_type": "code",
      "source": [
        "# Division de dataset en entrenamiento y prueba\n",
        "entrenamiento_data, prueba_data = train_test_split(data, test_size=0.2, random_state=42)"
      ],
      "metadata": {
        "id": "QNYzff3gIZFy"
      },
      "execution_count": 13,
      "outputs": []
    },
    {
      "cell_type": "markdown",
      "source": [
        "Se hace la division de data set de entrenamiento y de prueba utilizando la funcion train_test_split con los siguientes parametros data que seria nuestro datasets que queremos dividir despues test_size = 0.2 que nos va a indicar la proporcion del conjunto de datos que lo tomaremos para la prueba ahi estariamos sacando el 20% y para el entrenamiento nos queda el resto y por ultimo el parametro random_state = 42 que se utiliza para controlar la aleatoriedad en la división de los datos"
      ],
      "metadata": {
        "id": "RyO8pSYHjoOp"
      }
    },
    {
      "cell_type": "code",
      "source": [
        "print(entrenamiento_data)"
      ],
      "metadata": {
        "colab": {
          "base_uri": "https://localhost:8080/"
        },
        "id": "T4-VexHHIlST",
        "outputId": "197e0265-67e4-40df-e0c8-07d826fbc9ca"
      },
      "execution_count": 14,
      "outputs": [
        {
          "output_type": "stream",
          "name": "stdout",
          "text": [
            "        hotel  is_canceled  lead_time  arrival_date_year  arrival_date_month  \\\n",
            "67702       0            1         64               2017                   8   \n",
            "115851      0            0         34               2017                   5   \n",
            "57345       0            1          8               2016                  11   \n",
            "11622       1            1        251               2017                   8   \n",
            "33333       1            0         23               2017                   3   \n",
            "...       ...          ...        ...                ...                 ...   \n",
            "76820       0            0          2               2016                   5   \n",
            "110268      0            0         91               2017                   0   \n",
            "103694      0            0         74               2016                   2   \n",
            "860         1            1        130               2015                   1   \n",
            "15795       1            0         16               2015                   5   \n",
            "\n",
            "        arrival_date_week_number  arrival_date_day_of_month  \\\n",
            "67702                         18                          6   \n",
            "115851                        28                         10   \n",
            "57345                         39                         24   \n",
            "11622                         21                         21   \n",
            "33333                          7                         18   \n",
            "...                          ...                        ...   \n",
            "76820                         28                          8   \n",
            "110268                        16                         20   \n",
            "103694                        53                         27   \n",
            "860                           31                          1   \n",
            "15795                         31                         31   \n",
            "\n",
            "        stays_in_weekend_nights  stays_in_week_nights  adults  ...  \\\n",
            "67702                         2                     1       3  ...   \n",
            "115851                        1                     1       2  ...   \n",
            "57345                         1                     1       2  ...   \n",
            "11622                         2                     4       2  ...   \n",
            "33333                         1                     1       2  ...   \n",
            "...                         ...                   ...     ...  ...   \n",
            "76820                         0                     1       2  ...   \n",
            "110268                        2                     3       2  ...   \n",
            "103694                        0                     3       3  ...   \n",
            "860                           2                     5       2  ...   \n",
            "15795                         0                     2       1  ...   \n",
            "\n",
            "        booking_changes  deposit_type       agent  days_in_waiting_list  \\\n",
            "67702                 0             0    9.000000                     0   \n",
            "115851                0             0   14.000000                     0   \n",
            "57345                 0             0    9.000000                     0   \n",
            "11622                 0             0   86.693382                     0   \n",
            "33333                 0             0  241.000000                     0   \n",
            "...                 ...           ...         ...                   ...   \n",
            "76820                 1             0   86.693382                     0   \n",
            "110268                0             0    9.000000                     0   \n",
            "103694                0             0   22.000000                     0   \n",
            "860                   0             0  240.000000                     0   \n",
            "15795                 0             0   86.693382                     0   \n",
            "\n",
            "        customer_type     adr  required_car_parking_spaces  \\\n",
            "67702               2  189.00                            0   \n",
            "115851              2  146.00                            0   \n",
            "57345               2  259.00                            0   \n",
            "11622               2   89.70                            0   \n",
            "33333               2   42.43                            0   \n",
            "...               ...     ...                          ...   \n",
            "76820               2   77.00                            1   \n",
            "110268              2  135.00                            0   \n",
            "103694              2   92.65                            0   \n",
            "860                 2  120.60                            0   \n",
            "15795               3  120.00                            0   \n",
            "\n",
            "        total_of_special_requests  reservation_status  reservation_status_date  \n",
            "67702                           0                   0                      742  \n",
            "115851                          0                   1                      863  \n",
            "57345                           0                   0                      564  \n",
            "11622                           1                   0                      560  \n",
            "33333                           1                   1                      721  \n",
            "...                           ...                 ...                      ...  \n",
            "76820                           0                   1                      495  \n",
            "110268                          0                   1                      785  \n",
            "103694                          0                   1                      669  \n",
            "860                             2                   0                       83  \n",
            "15795                           1                   1                      153  \n",
            "\n",
            "[95512 rows x 31 columns]\n"
          ]
        }
      ]
    },
    {
      "cell_type": "code",
      "source": [
        "print(prueba_data)"
      ],
      "metadata": {
        "colab": {
          "base_uri": "https://localhost:8080/"
        },
        "id": "UmQ-8jv8I9a4",
        "outputId": "b6760a6d-5a38-46f5-f706-79a79bc4d68d"
      },
      "execution_count": 15,
      "outputs": [
        {
          "output_type": "stream",
          "name": "stdout",
          "text": [
            "        hotel  is_canceled  lead_time  arrival_date_year  arrival_date_month  \\\n",
            "30946       1            0        203               2016                   2   \n",
            "40207       0            1         82               2015                   5   \n",
            "103708      0            0         25               2016                   2   \n",
            "85144       0            0          1               2016                   7   \n",
            "109991      0            0         70               2017                   0   \n",
            "...       ...          ...        ...                ...                 ...   \n",
            "48376       0            1        251               2016                   7   \n",
            "19712       1            0        152               2015                   2   \n",
            "32188       1            0         40               2017                   4   \n",
            "92983       0            0        109               2016                   5   \n",
            "50036       0            1        169               2016                   0   \n",
            "\n",
            "        arrival_date_week_number  arrival_date_day_of_month  \\\n",
            "30946                         49                          2   \n",
            "40207                         29                         16   \n",
            "103708                        53                         27   \n",
            "85144                         11                          9   \n",
            "109991                        16                         16   \n",
            "...                          ...                        ...   \n",
            "48376                         13                         22   \n",
            "19712                         52                         26   \n",
            "32188                          3                         16   \n",
            "92983                         29                         10   \n",
            "50036                         17                         22   \n",
            "\n",
            "        stays_in_weekend_nights  stays_in_week_nights  adults  ...  \\\n",
            "30946                         2                     5       2  ...   \n",
            "40207                         0                     3       2  ...   \n",
            "103708                        0                     3       3  ...   \n",
            "85144                         0                     1       1  ...   \n",
            "109991                        2                     2       2  ...   \n",
            "...                         ...                   ...     ...  ...   \n",
            "48376                         0                     3       1  ...   \n",
            "19712                         2                     5       2  ...   \n",
            "32188                         1                     2       1  ...   \n",
            "92983                         2                     3       2  ...   \n",
            "50036                         2                     2       2  ...   \n",
            "\n",
            "        booking_changes  deposit_type       agent  days_in_waiting_list  \\\n",
            "30946                 4             0  250.000000                     0   \n",
            "40207                 0             0    9.000000                     0   \n",
            "103708                2             0  220.000000                     0   \n",
            "85144                 0             0    9.000000                     0   \n",
            "109991                0             0    9.000000                     0   \n",
            "...                 ...           ...         ...                   ...   \n",
            "48376                 0             1   29.000000                    93   \n",
            "19712                 0             0  147.000000                     0   \n",
            "32188                 1             0   86.693382                     0   \n",
            "92983                 0             0   16.000000                     0   \n",
            "50036                 0             0    2.000000                    48   \n",
            "\n",
            "        customer_type     adr  required_car_parking_spaces  \\\n",
            "30946               2   66.80                            0   \n",
            "40207               2   76.50                            0   \n",
            "103708              3   60.00                            0   \n",
            "85144               3   95.00                            0   \n",
            "109991              2  108.00                            0   \n",
            "...               ...     ...                          ...   \n",
            "48376               2   90.00                            0   \n",
            "19712               2   48.98                            0   \n",
            "32188               3   55.00                            0   \n",
            "92983               2  102.25                            0   \n",
            "50036               3  106.00                            0   \n",
            "\n",
            "        total_of_special_requests  reservation_status  reservation_status_date  \n",
            "30946                           0                   1                      648  \n",
            "40207                           0                   0                      136  \n",
            "103708                          1                   1                      669  \n",
            "85144                           0                   1                      374  \n",
            "109991                          0                   1                      780  \n",
            "...                           ...                 ...                      ...  \n",
            "48376                           0                   0                      228  \n",
            "19712                           0                   1                      306  \n",
            "32188                           0                   1                      689  \n",
            "92983                           0                   1                      501  \n",
            "50036                           0                   0                      359  \n",
            "\n",
            "[23878 rows x 31 columns]\n"
          ]
        }
      ]
    },
    {
      "cell_type": "code",
      "source": [
        "entrenamiento_data.info()"
      ],
      "metadata": {
        "colab": {
          "base_uri": "https://localhost:8080/"
        },
        "id": "Nwr6zA95JKqQ",
        "outputId": "66d5dbd7-ef72-4761-dadf-6ca2d38f7b11"
      },
      "execution_count": 16,
      "outputs": [
        {
          "output_type": "stream",
          "name": "stdout",
          "text": [
            "<class 'pandas.core.frame.DataFrame'>\n",
            "Int64Index: 95512 entries, 67702 to 15795\n",
            "Data columns (total 31 columns):\n",
            " #   Column                          Non-Null Count  Dtype  \n",
            "---  ------                          --------------  -----  \n",
            " 0   hotel                           95512 non-null  int64  \n",
            " 1   is_canceled                     95512 non-null  int64  \n",
            " 2   lead_time                       95512 non-null  int64  \n",
            " 3   arrival_date_year               95512 non-null  int64  \n",
            " 4   arrival_date_month              95512 non-null  int64  \n",
            " 5   arrival_date_week_number        95512 non-null  int64  \n",
            " 6   arrival_date_day_of_month       95512 non-null  int64  \n",
            " 7   stays_in_weekend_nights         95512 non-null  int64  \n",
            " 8   stays_in_week_nights            95512 non-null  int64  \n",
            " 9   adults                          95512 non-null  int64  \n",
            " 10  children                        95512 non-null  float64\n",
            " 11  babies                          95512 non-null  int64  \n",
            " 12  meal                            95512 non-null  int64  \n",
            " 13  country                         95512 non-null  int64  \n",
            " 14  market_segment                  95512 non-null  int64  \n",
            " 15  distribution_channel            95512 non-null  int64  \n",
            " 16  is_repeated_guest               95512 non-null  int64  \n",
            " 17  previous_cancellations          95512 non-null  int64  \n",
            " 18  previous_bookings_not_canceled  95512 non-null  int64  \n",
            " 19  reserved_room_type              95512 non-null  int64  \n",
            " 20  assigned_room_type              95512 non-null  int64  \n",
            " 21  booking_changes                 95512 non-null  int64  \n",
            " 22  deposit_type                    95512 non-null  int64  \n",
            " 23  agent                           95512 non-null  float64\n",
            " 24  days_in_waiting_list            95512 non-null  int64  \n",
            " 25  customer_type                   95512 non-null  int64  \n",
            " 26  adr                             95512 non-null  float64\n",
            " 27  required_car_parking_spaces     95512 non-null  int64  \n",
            " 28  total_of_special_requests       95512 non-null  int64  \n",
            " 29  reservation_status              95512 non-null  int64  \n",
            " 30  reservation_status_date         95512 non-null  int64  \n",
            "dtypes: float64(3), int64(28)\n",
            "memory usage: 23.3 MB\n"
          ]
        }
      ]
    },
    {
      "cell_type": "code",
      "source": [
        "prueba_data.info()"
      ],
      "metadata": {
        "colab": {
          "base_uri": "https://localhost:8080/"
        },
        "id": "eLq2mmgWJXhi",
        "outputId": "afc572dc-76de-48ec-92e7-59c19a467d6e"
      },
      "execution_count": 17,
      "outputs": [
        {
          "output_type": "stream",
          "name": "stdout",
          "text": [
            "<class 'pandas.core.frame.DataFrame'>\n",
            "Int64Index: 23878 entries, 30946 to 50036\n",
            "Data columns (total 31 columns):\n",
            " #   Column                          Non-Null Count  Dtype  \n",
            "---  ------                          --------------  -----  \n",
            " 0   hotel                           23878 non-null  int64  \n",
            " 1   is_canceled                     23878 non-null  int64  \n",
            " 2   lead_time                       23878 non-null  int64  \n",
            " 3   arrival_date_year               23878 non-null  int64  \n",
            " 4   arrival_date_month              23878 non-null  int64  \n",
            " 5   arrival_date_week_number        23878 non-null  int64  \n",
            " 6   arrival_date_day_of_month       23878 non-null  int64  \n",
            " 7   stays_in_weekend_nights         23878 non-null  int64  \n",
            " 8   stays_in_week_nights            23878 non-null  int64  \n",
            " 9   adults                          23878 non-null  int64  \n",
            " 10  children                        23878 non-null  float64\n",
            " 11  babies                          23878 non-null  int64  \n",
            " 12  meal                            23878 non-null  int64  \n",
            " 13  country                         23878 non-null  int64  \n",
            " 14  market_segment                  23878 non-null  int64  \n",
            " 15  distribution_channel            23878 non-null  int64  \n",
            " 16  is_repeated_guest               23878 non-null  int64  \n",
            " 17  previous_cancellations          23878 non-null  int64  \n",
            " 18  previous_bookings_not_canceled  23878 non-null  int64  \n",
            " 19  reserved_room_type              23878 non-null  int64  \n",
            " 20  assigned_room_type              23878 non-null  int64  \n",
            " 21  booking_changes                 23878 non-null  int64  \n",
            " 22  deposit_type                    23878 non-null  int64  \n",
            " 23  agent                           23878 non-null  float64\n",
            " 24  days_in_waiting_list            23878 non-null  int64  \n",
            " 25  customer_type                   23878 non-null  int64  \n",
            " 26  adr                             23878 non-null  float64\n",
            " 27  required_car_parking_spaces     23878 non-null  int64  \n",
            " 28  total_of_special_requests       23878 non-null  int64  \n",
            " 29  reservation_status              23878 non-null  int64  \n",
            " 30  reservation_status_date         23878 non-null  int64  \n",
            "dtypes: float64(3), int64(28)\n",
            "memory usage: 5.8 MB\n"
          ]
        }
      ]
    },
    {
      "cell_type": "code",
      "source": [
        "entrenamiento_data.to_csv(\"entrenamiento.csv\", index=False)"
      ],
      "metadata": {
        "id": "EH-qD8X0Jjc2"
      },
      "execution_count": 18,
      "outputs": []
    },
    {
      "cell_type": "code",
      "source": [
        "prueba_data.to_csv(\"prueba.csv\", index=False)"
      ],
      "metadata": {
        "id": "ra9_kacsKMHM"
      },
      "execution_count": 19,
      "outputs": []
    },
    {
      "cell_type": "code",
      "source": [
        "#Carga de dataset\n",
        "data = pd.read_csv('/content/entrenamiento.csv')"
      ],
      "metadata": {
        "id": "NWtqsO7WKTGe"
      },
      "execution_count": 20,
      "outputs": []
    },
    {
      "cell_type": "code",
      "source": [
        "# En caso de identificar la \"y\" en otra posicion, no ultima\n",
        "columnas_seleccionadas = list(range(0, 1)) + list(range(2, 31))\n",
        "X = data.iloc[:, columnas_seleccionadas]\n",
        "y = data.iloc[:, 1]\n",
        "m = y.size"
      ],
      "metadata": {
        "id": "3aORdbzCKdJG"
      },
      "execution_count": 21,
      "outputs": []
    },
    {
      "cell_type": "code",
      "source": [
        "print(X)\n",
        "print('-'*26)\n",
        "print(y)"
      ],
      "metadata": {
        "colab": {
          "base_uri": "https://localhost:8080/"
        },
        "id": "QpLlvAv8Lczj",
        "outputId": "e38a3cda-0ee3-4aae-b60e-0b935dffc0a0"
      },
      "execution_count": 22,
      "outputs": [
        {
          "output_type": "stream",
          "name": "stdout",
          "text": [
            "       hotel  lead_time  arrival_date_year  arrival_date_month  \\\n",
            "0          0         64               2017                   8   \n",
            "1          0         34               2017                   5   \n",
            "2          0          8               2016                  11   \n",
            "3          1        251               2017                   8   \n",
            "4          1         23               2017                   3   \n",
            "...      ...        ...                ...                 ...   \n",
            "95507      0          2               2016                   5   \n",
            "95508      0         91               2017                   0   \n",
            "95509      0         74               2016                   2   \n",
            "95510      1        130               2015                   1   \n",
            "95511      1         16               2015                   5   \n",
            "\n",
            "       arrival_date_week_number  arrival_date_day_of_month  \\\n",
            "0                            18                          6   \n",
            "1                            28                         10   \n",
            "2                            39                         24   \n",
            "3                            21                         21   \n",
            "4                             7                         18   \n",
            "...                         ...                        ...   \n",
            "95507                        28                          8   \n",
            "95508                        16                         20   \n",
            "95509                        53                         27   \n",
            "95510                        31                          1   \n",
            "95511                        31                         31   \n",
            "\n",
            "       stays_in_weekend_nights  stays_in_week_nights  adults  children  ...  \\\n",
            "0                            2                     1       3       0.0  ...   \n",
            "1                            1                     1       2       1.0  ...   \n",
            "2                            1                     1       2       2.0  ...   \n",
            "3                            2                     4       2       0.0  ...   \n",
            "4                            1                     1       2       0.0  ...   \n",
            "...                        ...                   ...     ...       ...  ...   \n",
            "95507                        0                     1       2       0.0  ...   \n",
            "95508                        2                     3       2       0.0  ...   \n",
            "95509                        0                     3       3       0.0  ...   \n",
            "95510                        2                     5       2       0.0  ...   \n",
            "95511                        0                     2       1       0.0  ...   \n",
            "\n",
            "       booking_changes  deposit_type       agent  days_in_waiting_list  \\\n",
            "0                    0             0    9.000000                     0   \n",
            "1                    0             0   14.000000                     0   \n",
            "2                    0             0    9.000000                     0   \n",
            "3                    0             0   86.693382                     0   \n",
            "4                    0             0  241.000000                     0   \n",
            "...                ...           ...         ...                   ...   \n",
            "95507                1             0   86.693382                     0   \n",
            "95508                0             0    9.000000                     0   \n",
            "95509                0             0   22.000000                     0   \n",
            "95510                0             0  240.000000                     0   \n",
            "95511                0             0   86.693382                     0   \n",
            "\n",
            "       customer_type     adr  required_car_parking_spaces  \\\n",
            "0                  2  189.00                            0   \n",
            "1                  2  146.00                            0   \n",
            "2                  2  259.00                            0   \n",
            "3                  2   89.70                            0   \n",
            "4                  2   42.43                            0   \n",
            "...              ...     ...                          ...   \n",
            "95507              2   77.00                            1   \n",
            "95508              2  135.00                            0   \n",
            "95509              2   92.65                            0   \n",
            "95510              2  120.60                            0   \n",
            "95511              3  120.00                            0   \n",
            "\n",
            "       total_of_special_requests  reservation_status  reservation_status_date  \n",
            "0                              0                   0                      742  \n",
            "1                              0                   1                      863  \n",
            "2                              0                   0                      564  \n",
            "3                              1                   0                      560  \n",
            "4                              1                   1                      721  \n",
            "...                          ...                 ...                      ...  \n",
            "95507                          0                   1                      495  \n",
            "95508                          0                   1                      785  \n",
            "95509                          0                   1                      669  \n",
            "95510                          2                   0                       83  \n",
            "95511                          1                   1                      153  \n",
            "\n",
            "[95512 rows x 30 columns]\n",
            "--------------------------\n",
            "0        1\n",
            "1        0\n",
            "2        1\n",
            "3        1\n",
            "4        0\n",
            "        ..\n",
            "95507    0\n",
            "95508    0\n",
            "95509    0\n",
            "95510    1\n",
            "95511    0\n",
            "Name: is_canceled, Length: 95512, dtype: int64\n"
          ]
        }
      ]
    },
    {
      "cell_type": "code",
      "source": [
        "def  featureNormalize(X):\n",
        "    X_norm = X.copy()\n",
        "    mu = np.zeros(X.shape[1])\n",
        "    sigma = np.zeros(X.shape[1])\n",
        "\n",
        "    mu = np.mean(X, axis = 0)\n",
        "    sigma = np.std(X, axis = 0)\n",
        "    X_norm = (X - mu) / sigma\n",
        "\n",
        "    return X_norm, mu, sigma"
      ],
      "metadata": {
        "id": "dKgpitUpNHzE"
      },
      "execution_count": 23,
      "outputs": []
    },
    {
      "cell_type": "code",
      "source": [
        "# llama featureNormalize con los datos cargados\n",
        "X_norm, mu, sigma = featureNormalize(X)\n",
        "\n",
        "print(X)\n",
        "print('Media calculada:', mu)\n",
        "print('Desviación estandar calculada:', sigma)\n",
        "print(X_norm)"
      ],
      "metadata": {
        "colab": {
          "base_uri": "https://localhost:8080/"
        },
        "id": "Hc_TRWwINZ0p",
        "outputId": "de939657-df98-4269-a2b0-51307bc616db"
      },
      "execution_count": 24,
      "outputs": [
        {
          "output_type": "stream",
          "name": "stdout",
          "text": [
            "       hotel  lead_time  arrival_date_year  arrival_date_month  \\\n",
            "0          0         64               2017                   8   \n",
            "1          0         34               2017                   5   \n",
            "2          0          8               2016                  11   \n",
            "3          1        251               2017                   8   \n",
            "4          1         23               2017                   3   \n",
            "...      ...        ...                ...                 ...   \n",
            "95507      0          2               2016                   5   \n",
            "95508      0         91               2017                   0   \n",
            "95509      0         74               2016                   2   \n",
            "95510      1        130               2015                   1   \n",
            "95511      1         16               2015                   5   \n",
            "\n",
            "       arrival_date_week_number  arrival_date_day_of_month  \\\n",
            "0                            18                          6   \n",
            "1                            28                         10   \n",
            "2                            39                         24   \n",
            "3                            21                         21   \n",
            "4                             7                         18   \n",
            "...                         ...                        ...   \n",
            "95507                        28                          8   \n",
            "95508                        16                         20   \n",
            "95509                        53                         27   \n",
            "95510                        31                          1   \n",
            "95511                        31                         31   \n",
            "\n",
            "       stays_in_weekend_nights  stays_in_week_nights  adults  children  ...  \\\n",
            "0                            2                     1       3       0.0  ...   \n",
            "1                            1                     1       2       1.0  ...   \n",
            "2                            1                     1       2       2.0  ...   \n",
            "3                            2                     4       2       0.0  ...   \n",
            "4                            1                     1       2       0.0  ...   \n",
            "...                        ...                   ...     ...       ...  ...   \n",
            "95507                        0                     1       2       0.0  ...   \n",
            "95508                        2                     3       2       0.0  ...   \n",
            "95509                        0                     3       3       0.0  ...   \n",
            "95510                        2                     5       2       0.0  ...   \n",
            "95511                        0                     2       1       0.0  ...   \n",
            "\n",
            "       booking_changes  deposit_type       agent  days_in_waiting_list  \\\n",
            "0                    0             0    9.000000                     0   \n",
            "1                    0             0   14.000000                     0   \n",
            "2                    0             0    9.000000                     0   \n",
            "3                    0             0   86.693382                     0   \n",
            "4                    0             0  241.000000                     0   \n",
            "...                ...           ...         ...                   ...   \n",
            "95507                1             0   86.693382                     0   \n",
            "95508                0             0    9.000000                     0   \n",
            "95509                0             0   22.000000                     0   \n",
            "95510                0             0  240.000000                     0   \n",
            "95511                0             0   86.693382                     0   \n",
            "\n",
            "       customer_type     adr  required_car_parking_spaces  \\\n",
            "0                  2  189.00                            0   \n",
            "1                  2  146.00                            0   \n",
            "2                  2  259.00                            0   \n",
            "3                  2   89.70                            0   \n",
            "4                  2   42.43                            0   \n",
            "...              ...     ...                          ...   \n",
            "95507              2   77.00                            1   \n",
            "95508              2  135.00                            0   \n",
            "95509              2   92.65                            0   \n",
            "95510              2  120.60                            0   \n",
            "95511              3  120.00                            0   \n",
            "\n",
            "       total_of_special_requests  reservation_status  reservation_status_date  \n",
            "0                              0                   0                      742  \n",
            "1                              0                   1                      863  \n",
            "2                              0                   0                      564  \n",
            "3                              1                   0                      560  \n",
            "4                              1                   1                      721  \n",
            "...                          ...                 ...                      ...  \n",
            "95507                          0                   1                      495  \n",
            "95508                          0                   1                      785  \n",
            "95509                          0                   1                      669  \n",
            "95510                          2                   0                       83  \n",
            "95511                          1                   1                      153  \n",
            "\n",
            "[95512 rows x 30 columns]\n",
            "Media calculada: hotel                                0.334398\n",
            "lead_time                          103.919214\n",
            "arrival_date_year                 2016.156452\n",
            "arrival_date_month                   5.499728\n",
            "arrival_date_week_number            27.167612\n",
            "arrival_date_day_of_month           15.777117\n",
            "stays_in_weekend_nights              0.927046\n",
            "stays_in_week_nights                 2.500377\n",
            "adults                               1.856196\n",
            "children                             0.103750\n",
            "babies                               0.008020\n",
            "meal                                 0.555553\n",
            "country                             93.280195\n",
            "market_segment                       4.931255\n",
            "distribution_channel                 2.587392\n",
            "is_repeated_guest                    0.031671\n",
            "previous_cancellations               0.086774\n",
            "previous_bookings_not_canceled       0.133355\n",
            "reserved_room_type                   0.992744\n",
            "assigned_room_type                   1.331519\n",
            "booking_changes                      0.220831\n",
            "deposit_type                         0.124037\n",
            "agent                               86.612774\n",
            "days_in_waiting_list                 2.339360\n",
            "customer_type                        2.137543\n",
            "adr                                101.889076\n",
            "required_car_parking_spaces          0.062767\n",
            "total_of_special_requests            0.571991\n",
            "reservation_status                   0.651279\n",
            "reservation_status_date            516.915498\n",
            "dtype: float64\n",
            "Desviación estandar calculada: hotel                               0.471780\n",
            "lead_time                         106.851784\n",
            "arrival_date_year                   0.707574\n",
            "arrival_date_month                  3.537047\n",
            "arrival_date_week_number           13.602950\n",
            "arrival_date_day_of_month           8.785836\n",
            "stays_in_weekend_nights             0.999768\n",
            "stays_in_week_nights                1.910714\n",
            "adults                              0.571578\n",
            "children                            0.398151\n",
            "babies                              0.095322\n",
            "meal                                1.068745\n",
            "country                            44.917534\n",
            "market_segment                      1.266282\n",
            "distribution_channel                0.905508\n",
            "is_repeated_guest                   0.175124\n",
            "previous_cancellations              0.844398\n",
            "previous_bookings_not_canceled      1.478340\n",
            "reserved_room_type                  1.697628\n",
            "assigned_room_type                  1.879162\n",
            "booking_changes                     0.651773\n",
            "deposit_type                        0.333947\n",
            "agent                             102.901739\n",
            "days_in_waiting_list               17.738113\n",
            "customer_type                       0.577412\n",
            "adr                                51.191241\n",
            "required_car_parking_spaces         0.246143\n",
            "total_of_special_requests           0.792421\n",
            "reservation_status                  0.497483\n",
            "reservation_status_date           227.414718\n",
            "dtype: float64\n",
            "          hotel  lead_time  arrival_date_year  arrival_date_month  \\\n",
            "0     -0.708801  -0.373594           1.192170            0.706881   \n",
            "1     -0.708801  -0.654357           1.192170           -0.141284   \n",
            "2     -0.708801  -0.897685          -0.221110            1.555046   \n",
            "3      1.410833   1.376493           1.192170            0.706881   \n",
            "4      1.410833  -0.757303           1.192170           -0.706727   \n",
            "...         ...        ...                ...                 ...   \n",
            "95507 -0.708801  -0.953837          -0.221110           -0.141284   \n",
            "95508 -0.708801  -0.120908           1.192170           -1.554893   \n",
            "95509 -0.708801  -0.280007          -0.221110           -0.989449   \n",
            "95510  1.410833   0.244084          -1.634389           -1.272171   \n",
            "95511  1.410833  -0.822815          -1.634389           -0.141284   \n",
            "\n",
            "       arrival_date_week_number  arrival_date_day_of_month  \\\n",
            "0                     -0.673943                  -1.112827   \n",
            "1                      0.061192                  -0.657549   \n",
            "2                      0.869840                   0.935925   \n",
            "3                     -0.453403                   0.594466   \n",
            "4                     -1.482591                   0.253008   \n",
            "...                         ...                        ...   \n",
            "95507                  0.061192                  -0.885188   \n",
            "95508                 -0.820970                   0.480647   \n",
            "95509                  1.899028                   1.277384   \n",
            "95510                  0.281732                  -1.681925   \n",
            "95511                  0.281732                   1.732662   \n",
            "\n",
            "       stays_in_weekend_nights  stays_in_week_nights    adults  children  ...  \\\n",
            "0                     1.073203             -0.785244  2.001135 -0.260581  ...   \n",
            "1                     0.072971             -0.785244  0.251591  2.251031  ...   \n",
            "2                     0.072971             -0.785244  0.251591  4.762644  ...   \n",
            "3                     1.073203              0.784849  0.251591 -0.260581  ...   \n",
            "4                     0.072971             -0.785244  0.251591 -0.260581  ...   \n",
            "...                        ...                   ...       ...       ...  ...   \n",
            "95507                -0.927261             -0.785244  0.251591 -0.260581  ...   \n",
            "95508                 1.073203              0.261485  0.251591 -0.260581  ...   \n",
            "95509                -0.927261              0.261485  2.001135 -0.260581  ...   \n",
            "95510                 1.073203              1.308214  0.251591 -0.260581  ...   \n",
            "95511                -0.927261             -0.261880 -1.497953 -0.260581  ...   \n",
            "\n",
            "       booking_changes  deposit_type     agent  days_in_waiting_list  \\\n",
            "0            -0.338816     -0.371427 -0.754242             -0.131883   \n",
            "1            -0.338816     -0.371427 -0.705652             -0.131883   \n",
            "2            -0.338816     -0.371427 -0.754242             -0.131883   \n",
            "3            -0.338816     -0.371427  0.000783             -0.131883   \n",
            "4            -0.338816     -0.371427  1.500336             -0.131883   \n",
            "...                ...           ...       ...                   ...   \n",
            "95507         1.195461     -0.371427  0.000783             -0.131883   \n",
            "95508        -0.338816     -0.371427 -0.754242             -0.131883   \n",
            "95509        -0.338816     -0.371427 -0.627908             -0.131883   \n",
            "95510        -0.338816     -0.371427  1.490618             -0.131883   \n",
            "95511        -0.338816     -0.371427  0.000783             -0.131883   \n",
            "\n",
            "       customer_type       adr  required_car_parking_spaces  \\\n",
            "0          -0.238206  1.701676                    -0.255002   \n",
            "1          -0.238206  0.861689                    -0.255002   \n",
            "2          -0.238206  3.069098                    -0.255002   \n",
            "3          -0.238206 -0.238109                    -0.255002   \n",
            "4          -0.238206 -1.161509                    -0.255002   \n",
            "...              ...       ...                          ...   \n",
            "95507      -0.238206 -0.486198                     3.807682   \n",
            "95508      -0.238206  0.646808                    -0.255002   \n",
            "95509      -0.238206 -0.180482                    -0.255002   \n",
            "95510      -0.238206  0.365510                    -0.255002   \n",
            "95511       1.493661  0.353790                    -0.255002   \n",
            "\n",
            "       total_of_special_requests  reservation_status  reservation_status_date  \n",
            "0                      -0.721827            -1.30915                 0.989753  \n",
            "1                      -0.721827             0.70097                 1.521821  \n",
            "2                      -0.721827            -1.30915                 0.207042  \n",
            "3                       0.540128            -1.30915                 0.189453  \n",
            "4                       0.540128             0.70097                 0.897411  \n",
            "...                          ...                 ...                      ...  \n",
            "95507                  -0.721827             0.70097                -0.096368  \n",
            "95508                  -0.721827             0.70097                 1.178835  \n",
            "95509                  -0.721827             0.70097                 0.668754  \n",
            "95510                   1.802083            -1.30915                -1.908036  \n",
            "95511                   0.540128             0.70097                -1.600228  \n",
            "\n",
            "[95512 rows x 30 columns]\n"
          ]
        }
      ]
    },
    {
      "cell_type": "code",
      "source": [
        "def sigmoid(z):\n",
        "    # Calcula la sigmoide de una entrada z\n",
        "    # convierte la intrada a un arreglo numpy\n",
        "    z = np.array(z)\n",
        "\n",
        "    g = np.zeros(z.shape)\n",
        "\n",
        "    g = 1 / (1 + np.exp(-z))\n",
        "\n",
        "    return g"
      ],
      "metadata": {
        "id": "mr1JNi3jNfrz"
      },
      "execution_count": 25,
      "outputs": []
    },
    {
      "cell_type": "code",
      "source": [
        "# Añade el termino de interseccion a X\n",
        "# (Columna de unos para X0)\n",
        "m, n = X.shape\n",
        "X = np.concatenate([np.ones((m, 1)), X_norm], axis=1)"
      ],
      "metadata": {
        "id": "lqq6LBhRNs-g"
      },
      "execution_count": 26,
      "outputs": []
    },
    {
      "cell_type": "code",
      "source": [
        "print(X)"
      ],
      "metadata": {
        "colab": {
          "base_uri": "https://localhost:8080/"
        },
        "id": "Vx_3Ji9oNwAf",
        "outputId": "9b5d7664-c03c-4f54-e64c-531aabbe37ac"
      },
      "execution_count": 27,
      "outputs": [
        {
          "output_type": "stream",
          "name": "stdout",
          "text": [
            "[[ 1.         -0.70880097 -0.37359427 ... -0.72182686 -1.30915014\n",
            "   0.98975346]\n",
            " [ 1.         -0.70880097 -0.65435702 ... -0.72182686  0.7009704\n",
            "   1.52182104]\n",
            " [ 1.         -0.70880097 -0.89768473 ... -0.72182686 -1.30915014\n",
            "   0.20704246]\n",
            " ...\n",
            " [ 1.         -0.70880097 -0.28000669 ... -0.72182686  0.7009704\n",
            "   0.668754  ]\n",
            " [ 1.          1.41083328  0.24408377 ...  1.80208319 -1.30915014\n",
            "  -1.90803613]\n",
            " [ 1.          1.41083328 -0.82281466 ...  0.54012817  0.7009704\n",
            "  -1.60022843]]\n"
          ]
        }
      ]
    },
    {
      "cell_type": "code",
      "source": [
        "def calcularCosto(theta, X, y):\n",
        "    # Inicializar algunos valores utiles\n",
        "    m = y.size  # numero de ejemplos de entrenamiento\n",
        "\n",
        "    J = 0\n",
        "    h = sigmoid(X.dot(theta.T))\n",
        "    J = (1 / m) * np.sum(-y.dot(np.log(h)) - (1 - y).dot(np.log(1 - h)))\n",
        "\n",
        "    return J"
      ],
      "metadata": {
        "id": "1CE-1cpvN2OM"
      },
      "execution_count": 28,
      "outputs": []
    },
    {
      "cell_type": "code",
      "source": [
        "def descensoGradiente(theta, X, y, alpha, num_iters):\n",
        "    # Inicializa algunos valores\n",
        "    m = y.shape[0] # numero de ejemplos de entrenamiento\n",
        "\n",
        "    # realiza una copia de theta, el cual será acutalizada por el descenso por el gradiente\n",
        "    theta = theta.copy()\n",
        "    J_history = []\n",
        "\n",
        "    for i in range(num_iters):\n",
        "        h = sigmoid(X.dot(theta.T))\n",
        "        theta = theta - (alpha / m) * (h - y).dot(X)\n",
        "\n",
        "        J_history.append(calcularCosto(theta, X, y))\n",
        "    return theta, J_history"
      ],
      "metadata": {
        "id": "rT4UyIAqN-CO"
      },
      "execution_count": 29,
      "outputs": []
    },
    {
      "cell_type": "markdown",
      "source": [
        "Con la finalizacion del entrenamiento con los datos de entrenamiento se procede a cargar el datasets prueba para realizar las respectivas predicciones"
      ],
      "metadata": {
        "id": "eGd6gCUrlkVu"
      }
    },
    {
      "cell_type": "code",
      "source": [
        "#Carga de dataset\n",
        "data = pd.read_csv('/content/prueba.csv')\n",
        "print(data)"
      ],
      "metadata": {
        "colab": {
          "base_uri": "https://localhost:8080/"
        },
        "id": "Vyjt3q-lOKI-",
        "outputId": "70213c7f-4adb-43d5-c7eb-b0d9341b3bb9"
      },
      "execution_count": 30,
      "outputs": [
        {
          "output_type": "stream",
          "name": "stdout",
          "text": [
            "       hotel  is_canceled  lead_time  arrival_date_year  arrival_date_month  \\\n",
            "0          1            0        203               2016                   2   \n",
            "1          0            1         82               2015                   5   \n",
            "2          0            0         25               2016                   2   \n",
            "3          0            0          1               2016                   7   \n",
            "4          0            0         70               2017                   0   \n",
            "...      ...          ...        ...                ...                 ...   \n",
            "23873      0            1        251               2016                   7   \n",
            "23874      1            0        152               2015                   2   \n",
            "23875      1            0         40               2017                   4   \n",
            "23876      0            0        109               2016                   5   \n",
            "23877      0            1        169               2016                   0   \n",
            "\n",
            "       arrival_date_week_number  arrival_date_day_of_month  \\\n",
            "0                            49                          2   \n",
            "1                            29                         16   \n",
            "2                            53                         27   \n",
            "3                            11                          9   \n",
            "4                            16                         16   \n",
            "...                         ...                        ...   \n",
            "23873                        13                         22   \n",
            "23874                        52                         26   \n",
            "23875                         3                         16   \n",
            "23876                        29                         10   \n",
            "23877                        17                         22   \n",
            "\n",
            "       stays_in_weekend_nights  stays_in_week_nights  adults  ...  \\\n",
            "0                            2                     5       2  ...   \n",
            "1                            0                     3       2  ...   \n",
            "2                            0                     3       3  ...   \n",
            "3                            0                     1       1  ...   \n",
            "4                            2                     2       2  ...   \n",
            "...                        ...                   ...     ...  ...   \n",
            "23873                        0                     3       1  ...   \n",
            "23874                        2                     5       2  ...   \n",
            "23875                        1                     2       1  ...   \n",
            "23876                        2                     3       2  ...   \n",
            "23877                        2                     2       2  ...   \n",
            "\n",
            "       booking_changes  deposit_type       agent  days_in_waiting_list  \\\n",
            "0                    4             0  250.000000                     0   \n",
            "1                    0             0    9.000000                     0   \n",
            "2                    2             0  220.000000                     0   \n",
            "3                    0             0    9.000000                     0   \n",
            "4                    0             0    9.000000                     0   \n",
            "...                ...           ...         ...                   ...   \n",
            "23873                0             1   29.000000                    93   \n",
            "23874                0             0  147.000000                     0   \n",
            "23875                1             0   86.693382                     0   \n",
            "23876                0             0   16.000000                     0   \n",
            "23877                0             0    2.000000                    48   \n",
            "\n",
            "       customer_type     adr  required_car_parking_spaces  \\\n",
            "0                  2   66.80                            0   \n",
            "1                  2   76.50                            0   \n",
            "2                  3   60.00                            0   \n",
            "3                  3   95.00                            0   \n",
            "4                  2  108.00                            0   \n",
            "...              ...     ...                          ...   \n",
            "23873              2   90.00                            0   \n",
            "23874              2   48.98                            0   \n",
            "23875              3   55.00                            0   \n",
            "23876              2  102.25                            0   \n",
            "23877              3  106.00                            0   \n",
            "\n",
            "       total_of_special_requests  reservation_status  reservation_status_date  \n",
            "0                              0                   1                      648  \n",
            "1                              0                   0                      136  \n",
            "2                              1                   1                      669  \n",
            "3                              0                   1                      374  \n",
            "4                              0                   1                      780  \n",
            "...                          ...                 ...                      ...  \n",
            "23873                          0                   0                      228  \n",
            "23874                          0                   1                      306  \n",
            "23875                          0                   1                      689  \n",
            "23876                          0                   1                      501  \n",
            "23877                          0                   0                      359  \n",
            "\n",
            "[23878 rows x 31 columns]\n"
          ]
        }
      ]
    },
    {
      "cell_type": "code",
      "source": [
        "def  featureNormalize(X):\n",
        "    X_norm = X.copy()\n",
        "    mu = np.zeros(X.shape[1])\n",
        "    sigma = np.zeros(X.shape[1])\n",
        "\n",
        "    mu = np.mean(X, axis = 0)\n",
        "    sigma = np.std(X, axis = 0)\n",
        "    X_norm = (X - mu) / sigma\n",
        "\n",
        "    return X_norm, mu, sigma"
      ],
      "metadata": {
        "id": "If_uirOLoIBC"
      },
      "execution_count": 31,
      "outputs": []
    },
    {
      "cell_type": "code",
      "source": [
        "fila_deseada = 3\n",
        "\n",
        "if fila_deseada < len(data):\n",
        "  fila_completa = data.iloc[fila_deseada].to_numpy()\n",
        "  print(fila_completa)\n",
        "else:\n",
        "  print(\"La fila no existe\")"
      ],
      "metadata": {
        "colab": {
          "base_uri": "https://localhost:8080/"
        },
        "id": "MOzQaalvOtM2",
        "outputId": "09d6aee3-7217-45a5-90dd-61f96e36a6be"
      },
      "execution_count": 32,
      "outputs": [
        {
          "output_type": "stream",
          "name": "stdout",
          "text": [
            "[0.000e+00 0.000e+00 1.000e+00 2.016e+03 7.000e+00 1.100e+01 9.000e+00\n",
            " 0.000e+00 1.000e+00 1.000e+00 0.000e+00 0.000e+00 0.000e+00 1.540e+02\n",
            " 6.000e+00 3.000e+00 0.000e+00 0.000e+00 0.000e+00 0.000e+00 0.000e+00\n",
            " 0.000e+00 0.000e+00 9.000e+00 0.000e+00 3.000e+00 9.500e+01 0.000e+00\n",
            " 0.000e+00 1.000e+00 3.740e+02]\n"
          ]
        }
      ]
    },
    {
      "cell_type": "code",
      "source": [
        "# Elegir algun valor para alpha (probar varias alternativas)\n",
        "alpha = 0.005\n",
        "num_iters = 10000\n",
        "\n",
        "# inicializa theta y ejecuta el descenso por el gradiente\n",
        "theta = np.zeros(31)\n",
        "theta, J_history = descensoGradiente(theta, X, y, alpha, num_iters)\n",
        "\n",
        "# Grafica la convergencia del costo\n",
        "pyplot.plot(np.arange(len(J_history)), J_history, lw=2)\n",
        "pyplot.xlabel('Numero de iteraciones')\n",
        "pyplot.ylabel('Costo J')\n",
        "\n",
        "# Muestra los resultados del descenso por el gradiente\n",
        "print('theta calculado por el descenso por el gradiente: {:s}'.format(str(theta)))\n",
        "\n",
        "# verificar si ingresa o no a la universidad\n",
        "X_array = [1, 0.000e+00, 1.700e+02, 2.017e+03, 0.000e+00, 1.700e+01, 2.700e+01, 0.000e+00, 3.000e+00, 2.000e+00,\n",
        "           0.000e+00, 0.000e+00, 0.000e+00, 4.300e+01, 6.000e+00, 3.000e+00, 0.000e+00, 0.000e+00, 0.000e+00,\n",
        "           3.000e+00, 3.000e+00, 0.000e+00, 0.000e+00, 9.000e+00, 0.000e+00, 2.000e+00, 1.305e+02, 0.000e+00,\n",
        "           0.000e+00, 1.000e+00, 7.900e+02]\n",
        "\n",
        "aprueba = sigmoid(np.dot(X_array, theta))   # Se debe cambiar esto\n",
        "\n",
        "print(f\"Cliente reservo o no realizo la reserva correspondiente (usando el descenso por el gradiente):{aprueba}\")"
      ],
      "metadata": {
        "colab": {
          "base_uri": "https://localhost:8080/",
          "height": 571
        },
        "id": "IKtJfbjLOyTY",
        "outputId": "10eac716-d154-4264-ba43-70f070750443"
      },
      "execution_count": 33,
      "outputs": [
        {
          "output_type": "stream",
          "name": "stdout",
          "text": [
            "theta calculado por el descenso por el gradiente: [-0.82770022 -0.13721454  0.17255161  0.2617548  -0.0425464   0.00886016\n",
            "  0.02615217  0.05297455  0.0600901  -0.0042397   0.05080111 -0.00308826\n",
            " -0.01323981  0.37072783  0.13196762  0.03683334 -0.04350166  0.1861254\n",
            " -0.04745012  0.11355059 -0.17486068 -0.11418121  0.60360085  0.01593806\n",
            " -0.05830317 -0.11143427  0.13510216 -0.3458304  -0.24062589 -2.77416553\n",
            " -0.26878489]\n",
            "Cliente reservo o no realizo la reserva correspondiente (usando el descenso por el gradiente):1.0\n"
          ]
        },
        {
          "output_type": "display_data",
          "data": {
            "text/plain": [
              "<Figure size 640x480 with 1 Axes>"
            ],
            "image/png": "[encoded data removed]"
          },
          "metadata": {}
        }
      ]
    },
    {
      "cell_type": "code",
      "source": [
        "# Elegir algun valor para alpha (probar varias alternativas)\n",
        "alpha = 0.005\n",
        "num_iters = 8000\n",
        "\n",
        "# inicializa theta y ejecuta el descenso por el gradiente\n",
        "theta = np.zeros(31)\n",
        "theta, J_history = descensoGradiente(theta, X, y, alpha, num_iters)\n",
        "\n",
        "# Grafica la convergencia del costo\n",
        "pyplot.plot(np.arange(len(J_history)), J_history, lw=2)\n",
        "pyplot.xlabel('Numero de iteraciones')\n",
        "pyplot.ylabel('Costo J')\n",
        "\n",
        "# Muestra los resultados del descenso por el gradiente\n",
        "print('theta calculado por el descenso por el gradiente: {:s}'.format(str(theta)))\n",
        "\n",
        "# verificar si ingresa o no a la universidad\n",
        "X_array = [1, 0.000e+00, 8.200e+01, 2.015e+03, 5.000e+00, 2.900e+01, 1.600e+01, 0.000e+00, 3.000e+00, 2.000e+00,\n",
        "           0.000e+00, 0.000e+00, 0.000e+00, 1.350e+02, 6.000e+00, 3.000e+00, 0.000e+00, 0.000e+00, 0.000e+00,\n",
        "           0.000e+00, 0.000e+00, 0.000e+00, 0.000e+00, 9.000e+00, 0.000e+00, 2.000e+00, 7.650e+01, 0.000e+00,\n",
        "           0.000e+00, 0.000e+00, 1.360e+02]\n",
        "\n",
        "aprueba = sigmoid(np.dot(X_array, theta))   # Se debe cambiar esto\n",
        "\n",
        "print(f\"Cliente reservo o no realizo la reserva correspondiente (usando el descenso por el gradiente):{aprueba}\")"
      ],
      "metadata": {
        "colab": {
          "base_uri": "https://localhost:8080/",
          "height": 571
        },
        "id": "619gVUypWiIb",
        "outputId": "d3d2db57-e221-41a5-d114-d679d6c4f58e"
      },
      "execution_count": 34,
      "outputs": [
        {
          "output_type": "stream",
          "name": "stdout",
          "text": [
            "theta calculado por el descenso por el gradiente: [-0.79669562 -0.12629282  0.18711523  0.24047349 -0.04128514  0.00606241\n",
            "  0.02181491  0.04570371  0.05648556  0.00703951  0.05140433 -0.00389352\n",
            " -0.01348323  0.359476    0.12471696  0.04815334 -0.04351584  0.18069239\n",
            " -0.04397706  0.10485849 -0.16911773 -0.11705409  0.5999033   0.01291899\n",
            " -0.05293473 -0.11007265  0.13580062 -0.32324888 -0.24067807 -2.65591009\n",
            " -0.24993327]\n",
            "Cliente reservo o no realizo la reserva correspondiente (usando el descenso por el gradiente):1.0\n"
          ]
        },
        {
          "output_type": "display_data",
          "data": {
            "text/plain": [
              "<Figure size 640x480 with 1 Axes>"
            ],
            "image/png": "[encoded data removed]"
          },
          "metadata": {}
        }
      ]
    },
    {
      "cell_type": "code",
      "source": [
        "# Elegir algun valor para alpha (probar varias alternativas)\n",
        "alpha = 0.005\n",
        "num_iters = 8000\n",
        "\n",
        "# inicializa theta y ejecuta el descenso por el gradiente\n",
        "theta = np.zeros(31)\n",
        "theta, J_history = descensoGradiente(theta, X, y, alpha, num_iters)\n",
        "\n",
        "# Grafica la convergencia del costo\n",
        "pyplot.plot(np.arange(len(J_history)), J_history, lw=2)\n",
        "pyplot.xlabel('Numero de iteraciones')\n",
        "pyplot.ylabel('Costo J')\n",
        "\n",
        "# Muestra los resultados del descenso por el gradiente\n",
        "print('theta calculado por el descenso por el gradiente: {:s}'.format(str(theta)))\n",
        "\n",
        "# verificar si ingresa o no a la universidad\n",
        "X_array = [1, 0.000e+00, 2.500e+01, 2.016e+03, 2.000e+00, 5.300e+01, 2.700e+01, 0.000e+00, 3.000e+00, 3.000e+00,\n",
        "           0.000e+00, 0.000e+00, 0.000e+00, 2.500e+01, 5.000e+00, 3.000e+00, 0.000e+00, 0.000e+00, 0.000e+00,\n",
        "           0.000e+00, 9.000e+00, 2.000e+00, 0.000e+00, 2.200e+02, 0.000e+00, 3.000e+00, 6.000e+01, 0.000e+00,\n",
        "           1.000e+00, 1.000e+00, 6.690e+02]\n",
        "\n",
        "aprueba = sigmoid(np.dot(X_array, theta))   # Se debe cambiar esto\n",
        "\n",
        "print(f\"Cliente reservo o no realizo la reserva correspondiente (usando el descenso por el gradiente):{aprueba}\")"
      ],
      "metadata": {
        "colab": {
          "base_uri": "https://localhost:8080/",
          "height": 571
        },
        "id": "zY1UMGcxYOC8",
        "outputId": "56a36415-845a-4fc9-9548-c21bdfe5ec3e"
      },
      "execution_count": 35,
      "outputs": [
        {
          "output_type": "stream",
          "name": "stdout",
          "text": [
            "theta calculado por el descenso por el gradiente: [-0.79669562 -0.12629282  0.18711523  0.24047349 -0.04128514  0.00606241\n",
            "  0.02181491  0.04570371  0.05648556  0.00703951  0.05140433 -0.00389352\n",
            " -0.01348323  0.359476    0.12471696  0.04815334 -0.04351584  0.18069239\n",
            " -0.04397706  0.10485849 -0.16911773 -0.11705409  0.5999033   0.01291899\n",
            " -0.05293473 -0.11007265  0.13580062 -0.32324888 -0.24067807 -2.65591009\n",
            " -0.24993327]\n",
            "Cliente reservo o no realizo la reserva correspondiente (usando el descenso por el gradiente):1.0\n"
          ]
        },
        {
          "output_type": "display_data",
          "data": {
            "text/plain": [
              "<Figure size 640x480 with 1 Axes>"
            ],
            "image/png": "[encoded data removed]"
          },
          "metadata": {}
        }
      ]
    },
    {
      "cell_type": "code",
      "source": [
        "# Elegir algun valor para alpha (probar varias alternativas)\n",
        "alpha = 0.005\n",
        "num_iters = 8000\n",
        "\n",
        "# inicializa theta y ejecuta el descenso por el gradiente\n",
        "theta = np.zeros(31)\n",
        "theta, J_history = descensoGradiente(theta, X, y, alpha, num_iters)\n",
        "\n",
        "# Grafica la convergencia del costo\n",
        "pyplot.plot(np.arange(len(J_history)), J_history, lw=2)\n",
        "pyplot.xlabel('Numero de iteraciones')\n",
        "pyplot.ylabel('Costo J')\n",
        "\n",
        "# Muestra los resultados del descenso por el gradiente\n",
        "print('theta calculado por el descenso por el gradiente: {:s}'.format(str(theta)))\n",
        "\n",
        "# verificar si ingresa o no a la universidad\n",
        "X_array = [1, 0.000e+00, 1.000e+00, 2.016e+03, 7.000e+00, 1.100e+01, 9.000e+00, 0.000e+00, 1.000e+00, 1.000e+00, 0.000e+00, 0.000e+00, 0.000e+00,\n",
        "           1.540e+02, 6.000e+00, 3.000e+00, 0.000e+00, 0.000e+00, 0.000e+00, 0.000e+00, 0.000e+00, 0.000e+00, 0.000e+00, 9.000e+00, 0.000e+00,\n",
        "           3.000e+00, 9.500e+01, 0.000e+00, 0.000e+00, 1.000e+00, 3.740e+02]\n",
        "\n",
        "aprueba = sigmoid(np.dot(X_array, theta))   # Se debe cambiar esto\n",
        "\n",
        "print(f\"Cliente reservo o no realizo la reserva correspondiente (usando el descenso por el gradiente):{aprueba}\")"
      ],
      "metadata": {
        "colab": {
          "base_uri": "https://localhost:8080/",
          "height": 571
        },
        "id": "_MSeIWphvOKF",
        "outputId": "2b28acda-b893-4525-cb4b-81bb5bfe57fa"
      },
      "execution_count": 36,
      "outputs": [
        {
          "output_type": "stream",
          "name": "stdout",
          "text": [
            "theta calculado por el descenso por el gradiente: [-0.79669562 -0.12629282  0.18711523  0.24047349 -0.04128514  0.00606241\n",
            "  0.02181491  0.04570371  0.05648556  0.00703951  0.05140433 -0.00389352\n",
            " -0.01348323  0.359476    0.12471696  0.04815334 -0.04351584  0.18069239\n",
            " -0.04397706  0.10485849 -0.16911773 -0.11705409  0.5999033   0.01291899\n",
            " -0.05293473 -0.11007265  0.13580062 -0.32324888 -0.24067807 -2.65591009\n",
            " -0.24993327]\n",
            "Cliente reservo o no realizo la reserva correspondiente (usando el descenso por el gradiente):1.0\n"
          ]
        },
        {
          "output_type": "display_data",
          "data": {
            "text/plain": [
              "<Figure size 640x480 with 1 Axes>"
            ],
            "image/png": "[encoded data removed]"
          },
          "metadata": {}
        }
      ]
    }
  ]
}