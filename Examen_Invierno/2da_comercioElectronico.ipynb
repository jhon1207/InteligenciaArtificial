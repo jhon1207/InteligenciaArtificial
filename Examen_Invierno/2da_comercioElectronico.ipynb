{
 "cells": [
  {
   "cell_type": "code",
   "execution_count": null,
   "metadata": {},
   "outputs": [],
   "source": [
    "\"\"\"\"\n",
    "Apellidos y Nombre: Zuñiga Mendez Jhonny Agustin\n",
    "Carrera:Ingieneria de Sistemas\n",
    "GitHub:\n",
    "\"\"\"\n",
    "\n",
    "\"\"\"\n",
    "Elaborar un cuadernillo que permita demostrar la utilidad de la regresión lineal múltiple en el ámbito de predicción \n",
    "aplicada al comercio electrónico. El código fuente del cuadernillo puede ser original o apropiado de un tercero, \n",
    "el código fuente no debe utilizar librerías o servicios de terceros, si se copia código se debe referenciar al autor. \n",
    "Se debe comentar todo el código fuente de la manera que considere apropiada el estudiante, a fin de dar la claridad \n",
    "suficiente en la explicación.\n",
    "\"\"\""
   ]
  },
  {
   "cell_type": "code",
   "execution_count": 1,
   "metadata": {},
   "outputs": [],
   "source": [
    "import random\n",
    "\n",
    "# Se define la Clase para la Regresión Lineal Múltiple\n",
    "class RegresionLinealMultiple:\n",
    "    def __init__(self):#Es el constructor de clase\n",
    "        self.coeficientes = None\n",
    "\n",
    "    def ajustar(self, X, y):\n",
    "        # Agregar una columna de unos a la matriz X que representa las caracteristicas son las variables independientes\n",
    "        X = [[1] + fila for fila in X]\n",
    "        \n",
    "        # Calcular los coeficientes mediante la fórmula de la pseudoinversa\n",
    "        X_transpuesta_X = self.producto_matricial_transpuesta(X, X)\n",
    "        X_transpuesta_X_inversa = self.invertir_matriz(X_transpuesta_X)\n",
    "        X_transpuesta_y = self.producto_matricial_transpuesta(\n",
    "            X, [[valor] for valor in y])\n",
    "\n",
    "        self.coeficientes = self.producto_matricial(\n",
    "            X_transpuesta_X_inversa, X_transpuesta_y)\n",
    "\n",
    "    def predecir(self, X_nuevo):\n",
    "        # Agregar una columna de unos a X_nuevo para el término independiente\n",
    "        X_nuevo = [[1] + fila for fila in X_nuevo]\n",
    "\n",
    "        # Realizar la predicción para los nuevos datos\n",
    "        return [self.producto_punto(self.coeficientes, fila) for fila in X_nuevo]\n",
    "\n",
    "    def producto_matricial_transpuesta(self, A, B):\n",
    "        # Producto matricial de A y la transpuesta de B\n",
    "        return [[sum(a * b for a, b in zip(fila_a, fila_b)) for fila_b in zip(*B)] for fila_a in A]\n",
    "        #crea una nueva matriz cuyos elementos son los productos punto calculados para todas las combinaciones de \n",
    "        #filas de A y columnas de la matriz transpuesta de B.\n",
    "    def invertir_matriz(self, A):\n",
    "        # Inversión de una matriz 2x2 (para simplificar el ejemplo)\n",
    "        determinante = A[0][0] * A[1][1] - A[0][1] * A[1][0]#calcula el determinante de una matriz 2x2\n",
    "        return [[A[1][1] / determinante, -A[0][1] / determinante],\n",
    "                [-A[1][0] / determinante, A[0][0] / determinante]]#devuelve una matriz que representa la inversa de A\n",
    "    def producto_punto(self, A, B):\n",
    "        # Producto punto de dos vectores\n",
    "        #zip(A, B)combina los elementos de los vectores A y B en pares de elementos correspondientes.\n",
    "        punto = sum(a * b for a, b in zip(A, B))#multiplica los elementos correspondientes de los vectores A y B, tomando las tuplas generadas por zip(A, B).\n",
    "        return punto\n",
    "\n",
    "    def producto_matricial(self, A, B):\n",
    "        # Producto matricial de A y B\n",
    "        #zip(*B) transpone la matriz B, cambiando las filas por columnas.\n",
    "        # el for recorre simultáneamente cada fila de la matriz A y la correspondiente columna de la matriz transpuesta de B\n",
    "        return [self.producto_punto(fila_a, fila_b) for fila_a, fila_b in zip(A, zip(*B))]\n",
    "        #crea una nueva lista cuyos elementos son los resultados del producto punto obtenidos para cada combinación de fila de A y \n",
    "        # columna de la matriz transpuesta de B"
   ]
  },
  {
   "cell_type": "code",
   "execution_count": 2,
   "metadata": {},
   "outputs": [],
   "source": [
    "# Generar Datos Ficticios de Comercio Electrónico\n",
    "def generar_datos_ficticios(num_muestras):\n",
    "    # Generamos datos ficticios de características (X) y ventas (y)\n",
    "    X = [[random.randint(50, 500), random.randint(1, 10)]#simula una metrica como el trafico de datos, cantidad de paginas vistas\n",
    "         for _ in range(num_muestras)]#En cada iteración, se crea un conjunto de datos ficticio representado por una lista de dos elementos\n",
    "    #10 * X1 indica que el valor de las ventas aumenta en 10 unidades por cada unidad de cambio en la característica X1\n",
    "    #5 * X2 indica que el valor de las ventas aumenta en 5 unidades por cada unidad de cambio en la característica X2.\n",
    "    y = [100 + 10 * x[0] + 5 * x[1] + random.randint(-50, 50) for x in X]\n",
    "    return X, y"
   ]
  },
  {
   "cell_type": "code",
   "execution_count": 3,
   "metadata": {},
   "outputs": [
    {
     "name": "stdout",
     "output_type": "stream",
     "text": [
      "Coeficientes: [41.36296923705959]\n",
      "Predicciones: [41.36296923705959, 41.36296923705959]\n"
     ]
    }
   ],
   "source": [
    "if __name__ == \"__main__\":\n",
    "    # Generamos datos ficticios de comercio electrónico (X representa características e y representa ventas)\n",
    "    X, y = generar_datos_ficticios(num_muestras=100)\n",
    "\n",
    "    # Crear y ajustar el modelo de regresión lineal múltiple\n",
    "    modelo = RegresionLinealMultiple()\n",
    "    modelo.ajustar(X, y)\n",
    "\n",
    "    # Coeficientes obtenidos\n",
    "    coeficientes = modelo.coeficientes\n",
    "    print(\"Coeficientes:\", coeficientes)\n",
    "\n",
    "    # Realizar una predicción para nuevos datos\n",
    "    nuevos_datos = [[350, 5], [200, 3]]\n",
    "    predicciones = modelo.predecir(nuevos_datos)\n",
    "    print(\"Predicciones:\", predicciones)\n"
   ]
  }
 ],
 "metadata": {
  "kernelspec": {
   "display_name": "Python 3",
   "language": "python",
   "name": "python3"
  },
  "language_info": {
   "codemirror_mode": {
    "name": "ipython",
    "version": 3
   },
   "file_extension": ".py",
   "mimetype": "text/x-python",
   "name": "python",
   "nbconvert_exporter": "python",
   "pygments_lexer": "ipython3",
   "version": "3.11.2"
  },
  "orig_nbformat": 4
 },
 "nbformat": 4,
 "nbformat_minor": 2
}
