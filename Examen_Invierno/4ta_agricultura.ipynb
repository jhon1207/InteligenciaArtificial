{
 "cells": [
  {
   "cell_type": "code",
   "execution_count": null,
   "metadata": {},
   "outputs": [],
   "source": [
    "\"\"\"\"\n",
    "Apellidos y Nombre: Zuñiga Mendez Jhonny Agustin\n",
    "Carrera:Ingieneria de Sistemas\n",
    "GitHub:\n",
    "\"\"\"\n",
    "\"\"\"\n",
    "Elaborar un cuadernillo que permita demostrar la utilidad de las redes neuronales en el ámbito de la agricultura. \n",
    "El código fuente del cuadernillo puede ser original o apropiado de un tercero, el código fuente no debe utilizar \n",
    "librerías o servicios de terceros, si se copia código se debe referenciar al autor. Se debe comentar todo el código \n",
    "fuente de la manera que considere apropiada el estudiante, a fin de dar la claridad suficiente en la explicación.\n",
    "\"\"\""
   ]
  },
  {
   "cell_type": "code",
   "execution_count": 1,
   "metadata": {},
   "outputs": [],
   "source": [
    "import random\n",
    "\n",
    "# Función de activación Leaky ReLU\n",
    "def leaky_relu(x, alpha=0.01):\n",
    "    return x if x >= 0 else alpha * x\n",
    "\n",
    "# Propagación hacia adelante (forward propagation)\n",
    "def forward_propagation(inputs, weights_input_hidden, weights_hidden_output):\n",
    "    hidden_layer_output = [leaky_relu(sum(inputs[i] * weights_input_hidden[i][j] for i in range(len(inputs)))) for j in range(len(weights_input_hidden[0]))]\n",
    "    output = sum(hidden_layer_output[j] * weights_hidden_output[j] for j in range(len(hidden_layer_output)))\n",
    "    return output\n",
    "\n",
    "# Función para inicializar los pesos con una distribución normal\n",
    "def inicializar_pesos(num_entradas, num_neuronas_ocultas):\n",
    "    desviacion_estandar = 1 / (num_entradas ** 0.5)\n",
    "    pesos_entrada_oculta = [[random.normalvariate(0, desviacion_estandar) for _ in range(num_neuronas_ocultas)] for _ in range(num_entradas)]\n",
    "    pesos_oculta_salida = [random.normalvariate(0, desviacion_estandar) for _ in range(num_neuronas_ocultas)]\n",
    "    return pesos_entrada_oculta, pesos_oculta_salida"
   ]
  },
  {
   "cell_type": "code",
   "execution_count": 2,
   "metadata": {},
   "outputs": [],
   "source": [
    "# Función para entrenar la red neuronal\n",
    "def entrenar_red_neuronal(datos_entrenamiento, epochs, tasa_aprendizaje):\n",
    "    num_entradas = len(datos_entrenamiento[0]) - 1\n",
    "    num_neuronas_ocultas = 4\n",
    "\n",
    "    # Inicializar los pesos\n",
    "    pesos_entrada_oculta, pesos_oculta_salida = inicializar_pesos(num_entradas, num_neuronas_ocultas)\n",
    "\n",
    "    # Entrenar la red neuronal durante el número de épocas especificado\n",
    "    for epoca in range(epochs):\n",
    "        for dato in datos_entrenamiento:\n",
    "            entradas = dato[:num_entradas]\n",
    "            objetivo = dato[num_entradas]\n",
    "\n",
    "            # Propagación hacia adelante\n",
    "            salida_capa_oculta = [leaky_relu(sum(entradas[i] * pesos_entrada_oculta[i][j] for i in range(num_entradas))) for j in range(num_neuronas_ocultas)]\n",
    "            salida_predicha = sum(salida_capa_oculta[j] * pesos_oculta_salida[j] for j in range(num_neuronas_ocultas))\n",
    "\n",
    "            # Calcular el error de predicción\n",
    "            error = objetivo - salida_predicha\n",
    "\n",
    "            # Actualizar los pesos utilizando el algoritmo de retropropagación (backpropagation)\n",
    "            for j in range(num_neuronas_ocultas):\n",
    "                pesos_oculta_salida[j] += tasa_aprendizaje * error * salida_capa_oculta[j]\n",
    "\n",
    "                for i in range(num_entradas):\n",
    "                    pesos_entrada_oculta[i][j] += tasa_aprendizaje * error * pesos_oculta_salida[j] * entradas[i]\n",
    "\n",
    "    return pesos_entrada_oculta, pesos_oculta_salida\n",
    "\n",
    "# Datos de entrenamiento de ejemplo: [temperatura, humedad, agua, rendimiento]\n",
    "datos_entrenamiento = [\n",
    "    [25, 0.7, 50, 30],\n",
    "    [28, 0.6, 40, 35],\n",
    "    [30, 0.8, 60, 40],\n",
    "    [22, 0.9, 70, 25]\n",
    "]\n",
    "\n",
    "# Hiperparámetros del modelo\n",
    "epocas = 10000\n",
    "tasa_aprendizaje = 0.0001  # Reducimos la tasa de aprendizaje\n",
    "\n",
    "# Entrenar la red neuronal\n",
    "pesos_entrada_oculta, pesos_oculta_salida = entrenar_red_neuronal(datos_entrenamiento, epocas, tasa_aprendizaje)\n",
    "\n",
    "# Datos de prueba para realizar predicciones: [temperatura, humedad, agua]\n",
    "datos_prueba = [\n",
    "    [26, 0.75, 55],\n",
    "    [29, 0.65, 45]\n",
    "]"
   ]
  },
  {
   "cell_type": "code",
   "execution_count": 3,
   "metadata": {},
   "outputs": [
    {
     "name": "stdout",
     "output_type": "stream",
     "text": [
      "Para los datos [26, 0.75, 55], el rendimiento predicho es: nan\n",
      "Para los datos [29, 0.65, 45], el rendimiento predicho es: nan\n"
     ]
    }
   ],
   "source": [
    "# Realizar predicciones\n",
    "for dato in datos_prueba:\n",
    "    rendimiento_predicho = forward_propagation(dato, pesos_entrada_oculta, pesos_oculta_salida)\n",
    "    print(f\"Para los datos {dato}, el rendimiento predicho es: {rendimiento_predicho}\")"
   ]
  }
 ],
 "metadata": {
  "kernelspec": {
   "display_name": "Python 3",
   "language": "python",
   "name": "python3"
  },
  "language_info": {
   "codemirror_mode": {
    "name": "ipython",
    "version": 3
   },
   "file_extension": ".py",
   "mimetype": "text/x-python",
   "name": "python",
   "nbconvert_exporter": "python",
   "pygments_lexer": "ipython3",
   "version": "3.11.2"
  },
  "orig_nbformat": 4
 },
 "nbformat": 4,
 "nbformat_minor": 2
}
